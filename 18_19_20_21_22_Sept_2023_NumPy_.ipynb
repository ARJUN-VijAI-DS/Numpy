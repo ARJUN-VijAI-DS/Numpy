{
 "cells": [
  {
   "cell_type": "code",
   "execution_count": 1,
   "id": "15b80893",
   "metadata": {},
   "outputs": [],
   "source": [
    "import numpy as np"
   ]
  },
  {
   "cell_type": "code",
   "execution_count": null,
   "id": "b18e37db",
   "metadata": {},
   "outputs": [],
   "source": []
  },
  {
   "cell_type": "code",
   "execution_count": 2,
   "id": "33ba8a4d",
   "metadata": {
    "scrolled": true
   },
   "outputs": [
    {
     "name": "stderr",
     "output_type": "stream",
     "text": [
      "C:\\Users\\user\\AppData\\Local\\Temp\\ipykernel_11380\\2023276504.py:1: VisibleDeprecationWarning: Creating an ndarray from ragged nested sequences (which is a list-or-tuple of lists-or-tuples-or ndarrays with different lengths or shapes) is deprecated. If you meant to do this, you must specify 'dtype=object' when creating the ndarray.\n",
      "  ar1 = np.array([[\"Hello\", \"World\"],[\"xyz\"]])\n"
     ]
    },
    {
     "data": {
      "text/plain": [
       "array([list(['Hello', 'World']), list(['xyz'])], dtype=object)"
      ]
     },
     "execution_count": 2,
     "metadata": {},
     "output_type": "execute_result"
    }
   ],
   "source": [
    "ar1 = np.array([[\"Hello\", \"World\"],[\"xyz\"]])\n",
    "ar1"
   ]
  },
  {
   "cell_type": "code",
   "execution_count": 3,
   "id": "370fa074",
   "metadata": {
    "scrolled": true
   },
   "outputs": [
    {
     "data": {
      "text/plain": [
       "1"
      ]
     },
     "execution_count": 3,
     "metadata": {},
     "output_type": "execute_result"
    }
   ],
   "source": [
    "ar1.ndim           #### Length of the lists must be same........... Converted to one-dimensional array......"
   ]
  },
  {
   "cell_type": "code",
   "execution_count": null,
   "id": "9c38dba2",
   "metadata": {},
   "outputs": [],
   "source": []
  },
  {
   "cell_type": "code",
   "execution_count": null,
   "id": "05fddafc",
   "metadata": {},
   "outputs": [],
   "source": []
  },
  {
   "cell_type": "code",
   "execution_count": null,
   "id": "45852cac",
   "metadata": {},
   "outputs": [],
   "source": []
  },
  {
   "cell_type": "code",
   "execution_count": 2,
   "id": "ebbbdf85",
   "metadata": {},
   "outputs": [
    {
     "data": {
      "text/plain": [
       "(array([1, 2, 3, 4, -5], dtype=object), dtype('O'))"
      ]
     },
     "execution_count": 2,
     "metadata": {},
     "output_type": "execute_result"
    }
   ],
   "source": [
    "x = np.array([1,2,3,4,-5], dtype=\"object\")\n",
    "x, x.dtype"
   ]
  },
  {
   "cell_type": "code",
   "execution_count": 3,
   "id": "94dbfe86",
   "metadata": {},
   "outputs": [
    {
     "data": {
      "text/plain": [
       "(array(['1', '2', '3', '4', '-5'], dtype='<U2'), dtype('<U2'))"
      ]
     },
     "execution_count": 3,
     "metadata": {},
     "output_type": "execute_result"
    }
   ],
   "source": [
    "x = np.array([1,2,3,4,-5], dtype=\"U\")\n",
    "x, x.dtype"
   ]
  },
  {
   "cell_type": "code",
   "execution_count": 4,
   "id": "5ef822e4",
   "metadata": {},
   "outputs": [
    {
     "data": {
      "text/plain": [
       "(array([b'1', b'2', b'3', b'4', b'-5'], dtype='|S2'), dtype('S2'))"
      ]
     },
     "execution_count": 4,
     "metadata": {},
     "output_type": "execute_result"
    }
   ],
   "source": [
    "x = np.array([1,2,3,4,-5], dtype=\"S\")\n",
    "x, x.dtype"
   ]
  },
  {
   "cell_type": "code",
   "execution_count": 5,
   "id": "fd735c24",
   "metadata": {},
   "outputs": [
    {
     "data": {
      "text/plain": [
       "(array([ 1,  2,  3,  4, -5]), dtype('int32'))"
      ]
     },
     "execution_count": 5,
     "metadata": {},
     "output_type": "execute_result"
    }
   ],
   "source": [
    "x = np.array([1,2,3,4,-5], dtype=\"int\")\n",
    "x, x.dtype"
   ]
  },
  {
   "cell_type": "code",
   "execution_count": 6,
   "id": "8b4eb646",
   "metadata": {},
   "outputs": [
    {
     "data": {
      "text/plain": [
       "(array([         1,          2,          3,          4, 4294967291],\n",
       "       dtype=uint32),\n",
       " dtype('uint32'))"
      ]
     },
     "execution_count": 6,
     "metadata": {},
     "output_type": "execute_result"
    }
   ],
   "source": [
    "x = np.array([1,2,3,4,-5], dtype=\"uint\")\n",
    "x, x.dtype"
   ]
  },
  {
   "cell_type": "code",
   "execution_count": 7,
   "id": "1451f01c",
   "metadata": {},
   "outputs": [
    {
     "data": {
      "text/plain": [
       "(array([ 1,  2,  3,  4, -5], dtype=int64), dtype('int64'))"
      ]
     },
     "execution_count": 7,
     "metadata": {},
     "output_type": "execute_result"
    }
   ],
   "source": [
    "x = np.array([1,2,3,4,-5], dtype=\"int64\")\n",
    "x, x.dtype"
   ]
  },
  {
   "cell_type": "code",
   "execution_count": 8,
   "id": "b174d180",
   "metadata": {},
   "outputs": [
    {
     "data": {
      "text/plain": [
       "(array([ 1.,  2.,  3.,  4., -5.], dtype=float32), dtype('float32'))"
      ]
     },
     "execution_count": 8,
     "metadata": {},
     "output_type": "execute_result"
    }
   ],
   "source": [
    "x = np.array([1,2,3,4,-5], dtype=\"f4\")\n",
    "x, x.dtype"
   ]
  },
  {
   "cell_type": "code",
   "execution_count": 9,
   "id": "dc0132ee",
   "metadata": {},
   "outputs": [
    {
     "data": {
      "text/plain": [
       "(array([ 1,  2,  3,  4, -5], dtype=int8), dtype('int8'))"
      ]
     },
     "execution_count": 9,
     "metadata": {},
     "output_type": "execute_result"
    }
   ],
   "source": [
    "x = np.array([1,2,3,4,-5], dtype=\"int8\")\n",
    "x, x.dtype"
   ]
  },
  {
   "cell_type": "code",
   "execution_count": 10,
   "id": "f56109c6",
   "metadata": {},
   "outputs": [
    {
     "data": {
      "text/plain": [
       "(array([  1,   2,   3,   4, 251], dtype=uint8), dtype('uint8'))"
      ]
     },
     "execution_count": 10,
     "metadata": {},
     "output_type": "execute_result"
    }
   ],
   "source": [
    "x = np.array([1,2,3,4,-5], dtype=\"u1\")\n",
    "x, x.dtype"
   ]
  },
  {
   "cell_type": "code",
   "execution_count": 11,
   "id": "8d149bc8",
   "metadata": {},
   "outputs": [
    {
     "data": {
      "text/plain": [
       "(array([ True,  True,  True,  True,  True]), dtype('bool'))"
      ]
     },
     "execution_count": 11,
     "metadata": {},
     "output_type": "execute_result"
    }
   ],
   "source": [
    "x = np.array([1,2,3,4,-5], dtype=\"bool\")\n",
    "x, x.dtype"
   ]
  },
  {
   "cell_type": "code",
   "execution_count": 12,
   "id": "a3d9b582",
   "metadata": {},
   "outputs": [
    {
     "data": {
      "text/plain": [
       "(array([ 1.+0.j,  2.+0.j,  3.+0.j,  4.+0.j, -5.+0.j], dtype=complex64),\n",
       " dtype('complex64'))"
      ]
     },
     "execution_count": 12,
     "metadata": {},
     "output_type": "execute_result"
    }
   ],
   "source": [
    "x = np.array([1,2,3,4,-5], dtype=\"c8\")\n",
    "x, x.dtype"
   ]
  },
  {
   "cell_type": "markdown",
   "id": "50237909",
   "metadata": {},
   "source": [
    "<font size = 5.5> Use of NumPy -- Numerical Computation <font size = 4> <br> Runtime of programme is reduced <br> Takes less space (memory space)"
   ]
  },
  {
   "cell_type": "code",
   "execution_count": 14,
   "id": "e973cd77",
   "metadata": {},
   "outputs": [
    {
     "ename": "OverflowError",
     "evalue": "Python int too large to convert to C long",
     "output_type": "error",
     "traceback": [
      "\u001b[1;31m---------------------------------------------------------------------------\u001b[0m",
      "\u001b[1;31mOverflowError\u001b[0m                             Traceback (most recent call last)",
      "Cell \u001b[1;32mIn[14], line 1\u001b[0m\n\u001b[1;32m----> 1\u001b[0m x \u001b[38;5;241m=\u001b[39m \u001b[43mnp\u001b[49m\u001b[38;5;241;43m.\u001b[39;49m\u001b[43marray\u001b[49m\u001b[43m(\u001b[49m\u001b[43m[\u001b[49m\u001b[38;5;241;43m1\u001b[39;49m\u001b[43m,\u001b[49m\u001b[38;5;241;43m2\u001b[39;49m\u001b[43m,\u001b[49m\u001b[38;5;241;43m3555555555555555\u001b[39;49m\u001b[43m,\u001b[49m\u001b[38;5;241;43m4\u001b[39;49m\u001b[43m,\u001b[49m\u001b[38;5;241;43m-\u001b[39;49m\u001b[38;5;241;43m5\u001b[39;49m\u001b[43m]\u001b[49m\u001b[43m,\u001b[49m\u001b[43m \u001b[49m\u001b[43mdtype\u001b[49m\u001b[38;5;241;43m=\u001b[39;49m\u001b[38;5;124;43m\"\u001b[39;49m\u001b[38;5;124;43mint32\u001b[39;49m\u001b[38;5;124;43m\"\u001b[39;49m\u001b[43m)\u001b[49m\n\u001b[0;32m      2\u001b[0m x, x\u001b[38;5;241m.\u001b[39mdtype\n",
      "\u001b[1;31mOverflowError\u001b[0m: Python int too large to convert to C long"
     ]
    }
   ],
   "source": [
    "x = np.array([1,2,3555555555555555,4,-5], dtype=\"int32\")\n",
    "x, x.dtype"
   ]
  },
  {
   "cell_type": "code",
   "execution_count": 16,
   "id": "4d62e43a",
   "metadata": {},
   "outputs": [
    {
     "ename": "OverflowError",
     "evalue": "int too big to convert",
     "output_type": "error",
     "traceback": [
      "\u001b[1;31m---------------------------------------------------------------------------\u001b[0m",
      "\u001b[1;31mOverflowError\u001b[0m                             Traceback (most recent call last)",
      "Cell \u001b[1;32mIn[16], line 1\u001b[0m\n\u001b[1;32m----> 1\u001b[0m x \u001b[38;5;241m=\u001b[39m \u001b[43mnp\u001b[49m\u001b[38;5;241;43m.\u001b[39;49m\u001b[43marray\u001b[49m\u001b[43m(\u001b[49m\u001b[43m[\u001b[49m\u001b[38;5;241;43m1\u001b[39;49m\u001b[43m,\u001b[49m\u001b[38;5;241;43m2\u001b[39;49m\u001b[43m,\u001b[49m\u001b[38;5;241;43m35555555555555555555555555\u001b[39;49m\u001b[43m,\u001b[49m\u001b[38;5;241;43m4\u001b[39;49m\u001b[43m,\u001b[49m\u001b[38;5;241;43m-\u001b[39;49m\u001b[38;5;241;43m5\u001b[39;49m\u001b[43m]\u001b[49m\u001b[43m,\u001b[49m\u001b[43m \u001b[49m\u001b[43mdtype\u001b[49m\u001b[38;5;241;43m=\u001b[39;49m\u001b[38;5;124;43m\"\u001b[39;49m\u001b[38;5;124;43mint64\u001b[39;49m\u001b[38;5;124;43m\"\u001b[39;49m\u001b[43m)\u001b[49m\n\u001b[0;32m      2\u001b[0m x, x\u001b[38;5;241m.\u001b[39mdtype\n",
      "\u001b[1;31mOverflowError\u001b[0m: int too big to convert"
     ]
    }
   ],
   "source": [
    "x = np.array([1,2,35555555555555555555555555,4,-5], dtype=\"int64\")\n",
    "x, x.dtype"
   ]
  },
  {
   "cell_type": "code",
   "execution_count": 3,
   "id": "9e6e9e28",
   "metadata": {},
   "outputs": [
    {
     "data": {
      "text/plain": [
       "(array(['Hello', 'Data', 'Scientist', 'Aj', 'SS'], dtype='<U9'), dtype('<U9'))"
      ]
     },
     "execution_count": 3,
     "metadata": {},
     "output_type": "execute_result"
    }
   ],
   "source": [
    "x = np.array([\"Hello\",\"Data\",\"Scientist\",\"Aj\",\"SS\"], dtype=\"U\") ## Maximum length of a string in this ndarray\n",
    "x, x.dtype                                                      ## Length of string longest string is 9"
   ]
  },
  {
   "cell_type": "code",
   "execution_count": 19,
   "id": "c81c41ac",
   "metadata": {},
   "outputs": [
    {
     "data": {
      "text/plain": [
       "(array(['Hello', 'Data', 'Scientist', 'Hello Data'], dtype='<U10'),\n",
       " dtype('<U10'))"
      ]
     },
     "execution_count": 19,
     "metadata": {},
     "output_type": "execute_result"
    }
   ],
   "source": [
    "x = np.array([\"Hello\",\"Data\",\"Scientist\",\"Hello Data\"], dtype=\"U\") ## Maximum length of a string in this ndarray\n",
    "x, x.dtype                                                         ## Length of string longest string is 10"
   ]
  },
  {
   "cell_type": "code",
   "execution_count": 24,
   "id": "4574b422",
   "metadata": {},
   "outputs": [
    {
     "ename": "TypeError",
     "evalue": "len() takes exactly one argument (2 given)",
     "output_type": "error",
     "traceback": [
      "\u001b[1;31m---------------------------------------------------------------------------\u001b[0m",
      "\u001b[1;31mTypeError\u001b[0m                                 Traceback (most recent call last)",
      "Cell \u001b[1;32mIn[24], line 1\u001b[0m\n\u001b[1;32m----> 1\u001b[0m \u001b[38;5;28;43mlen\u001b[39;49m\u001b[43m(\u001b[49m\u001b[38;5;124;43m\"\u001b[39;49m\u001b[38;5;124;43mScientist\u001b[39;49m\u001b[38;5;124;43m\"\u001b[39;49m\u001b[43m,\u001b[49m\u001b[38;5;124;43m\"\u001b[39;49m\u001b[38;5;124;43mHello Data\u001b[39;49m\u001b[38;5;124;43m\"\u001b[39;49m\u001b[43m)\u001b[49m\n",
      "\u001b[1;31mTypeError\u001b[0m: len() takes exactly one argument (2 given)"
     ]
    }
   ],
   "source": [
    "len(\"Scientist\",\"Hello Data\")"
   ]
  },
  {
   "cell_type": "code",
   "execution_count": 25,
   "id": "b116e90a",
   "metadata": {},
   "outputs": [
    {
     "data": {
      "text/plain": [
       "9"
      ]
     },
     "execution_count": 25,
     "metadata": {},
     "output_type": "execute_result"
    }
   ],
   "source": [
    "len(\"Scientist\")"
   ]
  },
  {
   "cell_type": "markdown",
   "id": "d8bf3b0b",
   "metadata": {},
   "source": [
    "<font size = 5.5> NumPy Array Inspection ........,\".ndim\", \".shape\", \".dtype\", \".size\""
   ]
  },
  {
   "cell_type": "code",
   "execution_count": 6,
   "id": "d0811156",
   "metadata": {},
   "outputs": [
    {
     "data": {
      "text/plain": [
       "1"
      ]
     },
     "execution_count": 6,
     "metadata": {},
     "output_type": "execute_result"
    }
   ],
   "source": [
    "## ndarray.ndim - Returns the number of dimensions\n",
    "x = np.array([1,2,3,4])\n",
    "x.ndim"
   ]
  },
  {
   "cell_type": "code",
   "execution_count": 29,
   "id": "f626f843",
   "metadata": {},
   "outputs": [
    {
     "data": {
      "text/plain": [
       "array([1, 2, 3, 4])"
      ]
     },
     "execution_count": 29,
     "metadata": {},
     "output_type": "execute_result"
    }
   ],
   "source": [
    "x"
   ]
  },
  {
   "cell_type": "code",
   "execution_count": 28,
   "id": "a498b26c",
   "metadata": {},
   "outputs": [
    {
     "data": {
      "text/plain": [
       "(4,)"
      ]
     },
     "execution_count": 28,
     "metadata": {},
     "output_type": "execute_result"
    }
   ],
   "source": [
    "x.shape"
   ]
  },
  {
   "cell_type": "code",
   "execution_count": 4,
   "id": "346357a4",
   "metadata": {},
   "outputs": [
    {
     "data": {
      "text/plain": [
       "2"
      ]
     },
     "execution_count": 4,
     "metadata": {},
     "output_type": "execute_result"
    }
   ],
   "source": [
    "## ndarray.ndim - Returns the number of dimensions\n",
    "x = np.array([[1,2,3,4],[5,6,7,8]])\n",
    "x.ndim"
   ]
  },
  {
   "cell_type": "code",
   "execution_count": 5,
   "id": "fa4b757f",
   "metadata": {},
   "outputs": [
    {
     "data": {
      "text/plain": [
       "array([[1, 2, 3, 4],\n",
       "       [5, 6, 7, 8]])"
      ]
     },
     "execution_count": 5,
     "metadata": {},
     "output_type": "execute_result"
    }
   ],
   "source": [
    "x"
   ]
  },
  {
   "cell_type": "code",
   "execution_count": 6,
   "id": "ee895db7",
   "metadata": {},
   "outputs": [
    {
     "data": {
      "text/plain": [
       "(2, 4)"
      ]
     },
     "execution_count": 6,
     "metadata": {},
     "output_type": "execute_result"
    }
   ],
   "source": [
    "x.shape           ## (Row , Column) = (2,4)"
   ]
  },
  {
   "cell_type": "code",
   "execution_count": 7,
   "id": "5e3af0f5",
   "metadata": {},
   "outputs": [
    {
     "data": {
      "text/plain": [
       "array([[[1, 2],\n",
       "        [3, 4]],\n",
       "\n",
       "       [[5, 6],\n",
       "        [7, 8]]])"
      ]
     },
     "execution_count": 7,
     "metadata": {},
     "output_type": "execute_result"
    }
   ],
   "source": [
    "x.shape = (2,2,2)\n",
    "x"
   ]
  },
  {
   "cell_type": "code",
   "execution_count": 10,
   "id": "1b6969a0",
   "metadata": {},
   "outputs": [
    {
     "data": {
      "text/plain": [
       "3"
      ]
     },
     "execution_count": 10,
     "metadata": {},
     "output_type": "execute_result"
    }
   ],
   "source": [
    "x.ndim"
   ]
  },
  {
   "cell_type": "code",
   "execution_count": 11,
   "id": "2fccb045",
   "metadata": {},
   "outputs": [
    {
     "data": {
      "text/plain": [
       "8"
      ]
     },
     "execution_count": 11,
     "metadata": {},
     "output_type": "execute_result"
    }
   ],
   "source": [
    "x.size"
   ]
  },
  {
   "cell_type": "code",
   "execution_count": 9,
   "id": "d4560f19",
   "metadata": {},
   "outputs": [
    {
     "ename": "AttributeError",
     "evalue": "'int' object has no attribute 'size'",
     "output_type": "error",
     "traceback": [
      "\u001b[1;31m---------------------------------------------------------------------------\u001b[0m",
      "\u001b[1;31mAttributeError\u001b[0m                            Traceback (most recent call last)",
      "Cell \u001b[1;32mIn[9], line 1\u001b[0m\n\u001b[1;32m----> 1\u001b[0m \u001b[43mx\u001b[49m\u001b[38;5;241;43m.\u001b[39;49m\u001b[43mndim\u001b[49m\u001b[38;5;241;43m.\u001b[39;49m\u001b[43msize\u001b[49m\n",
      "\u001b[1;31mAttributeError\u001b[0m: 'int' object has no attribute 'size'"
     ]
    }
   ],
   "source": [
    "x.ndim.size"
   ]
  },
  {
   "cell_type": "code",
   "execution_count": null,
   "id": "1f751d27",
   "metadata": {},
   "outputs": [],
   "source": []
  },
  {
   "cell_type": "code",
   "execution_count": null,
   "id": "cd28a367",
   "metadata": {},
   "outputs": [],
   "source": []
  },
  {
   "cell_type": "code",
   "execution_count": 5,
   "id": "e94cbe80",
   "metadata": {},
   "outputs": [
    {
     "data": {
      "text/plain": [
       "(2, 6)"
      ]
     },
     "execution_count": 5,
     "metadata": {},
     "output_type": "execute_result"
    }
   ],
   "source": [
    "## ndarray.ndim - Returns the number of dimensions\n",
    "x = np.array([[1,2,3],[5,6,7]])\n",
    "x.ndim, x.size"
   ]
  },
  {
   "cell_type": "code",
   "execution_count": 35,
   "id": "6b28fb60",
   "metadata": {},
   "outputs": [
    {
     "data": {
      "text/plain": [
       "array([[1, 2, 3],\n",
       "       [5, 6, 7]])"
      ]
     },
     "execution_count": 35,
     "metadata": {},
     "output_type": "execute_result"
    }
   ],
   "source": [
    "x"
   ]
  },
  {
   "cell_type": "code",
   "execution_count": 36,
   "id": "d0b57518",
   "metadata": {},
   "outputs": [
    {
     "data": {
      "text/plain": [
       "(2, 3)"
      ]
     },
     "execution_count": 36,
     "metadata": {},
     "output_type": "execute_result"
    }
   ],
   "source": [
    "x.shape          ## (Row , Column) = (2,3)  --- gives value in tuple"
   ]
  },
  {
   "cell_type": "code",
   "execution_count": 6,
   "id": "ff9202a6",
   "metadata": {},
   "outputs": [
    {
     "data": {
      "text/plain": [
       "(3, (3, 2, 3), 18)"
      ]
     },
     "execution_count": 6,
     "metadata": {},
     "output_type": "execute_result"
    }
   ],
   "source": [
    "## ndarray.ndim - Returns the number of dimensions\n",
    "x = np.array([[[1,2,3],[5,6,7]], [[1,2,3],[5,6,7]], [[1,2,3],[5,6,7]]])\n",
    "x.ndim, x.shape, x.size"
   ]
  },
  {
   "cell_type": "code",
   "execution_count": 7,
   "id": "2455f2a0",
   "metadata": {},
   "outputs": [
    {
     "data": {
      "text/plain": [
       "array([[[1, 2, 3],\n",
       "        [5, 6, 7]],\n",
       "\n",
       "       [[1, 2, 3],\n",
       "        [5, 6, 7]],\n",
       "\n",
       "       [[1, 2, 3],\n",
       "        [5, 6, 7]]])"
      ]
     },
     "execution_count": 7,
     "metadata": {},
     "output_type": "execute_result"
    }
   ],
   "source": [
    "x"
   ]
  },
  {
   "cell_type": "code",
   "execution_count": 7,
   "id": "312fcca5",
   "metadata": {},
   "outputs": [
    {
     "name": "stdout",
     "output_type": "stream",
     "text": [
      "4\n"
     ]
    },
    {
     "data": {
      "text/plain": [
       "(1, 1, 2, 4)"
      ]
     },
     "execution_count": 7,
     "metadata": {},
     "output_type": "execute_result"
    }
   ],
   "source": [
    "# ndarray.ndim - Returns the number of dimensions\n",
    "x = np.array([[[[1,2,3,4],[5,6,7,8]]]])\n",
    "print(x.ndim)\n",
    "x.shape"
   ]
  },
  {
   "cell_type": "code",
   "execution_count": 8,
   "id": "5fdbab47",
   "metadata": {},
   "outputs": [
    {
     "data": {
      "text/plain": [
       "array([[[[1, 2, 3, 4],\n",
       "         [5, 6, 7, 8]]]])"
      ]
     },
     "execution_count": 8,
     "metadata": {},
     "output_type": "execute_result"
    }
   ],
   "source": [
    "x"
   ]
  },
  {
   "cell_type": "code",
   "execution_count": 4,
   "id": "49639cf9",
   "metadata": {},
   "outputs": [
    {
     "name": "stdout",
     "output_type": "stream",
     "text": [
      "4\n"
     ]
    },
    {
     "data": {
      "text/plain": [
       "(2, 1, 1, 4)"
      ]
     },
     "execution_count": 4,
     "metadata": {},
     "output_type": "execute_result"
    }
   ],
   "source": [
    "## ndarray.ndim - Returns the number of dimensions\n",
    "x = np.array([[[[1,2,3,4]]],[[[5,6,7,8]]]])\n",
    "print(x.ndim)\n",
    "x.shape"
   ]
  },
  {
   "cell_type": "code",
   "execution_count": 8,
   "id": "bbcef803",
   "metadata": {},
   "outputs": [
    {
     "name": "stdout",
     "output_type": "stream",
     "text": [
      "4\n"
     ]
    },
    {
     "data": {
      "text/plain": [
       "(1, 2, 1, 4)"
      ]
     },
     "execution_count": 8,
     "metadata": {},
     "output_type": "execute_result"
    }
   ],
   "source": [
    "## ndarray.ndim - Returns the number of dimensions\n",
    "x = np.array([[[[1,2,3,4]],[[5,6,7,8]]]])\n",
    "print(x.ndim)\n",
    "x.shape"
   ]
  },
  {
   "cell_type": "code",
   "execution_count": 10,
   "id": "b48fa317",
   "metadata": {},
   "outputs": [
    {
     "data": {
      "text/plain": [
       "array([[[[1, 2, 3, 4]],\n",
       "\n",
       "        [[5, 6, 7, 8]],\n",
       "\n",
       "        [[1, 2, 3, 4]]]])"
      ]
     },
     "execution_count": 10,
     "metadata": {},
     "output_type": "execute_result"
    }
   ],
   "source": [
    "x"
   ]
  },
  {
   "cell_type": "code",
   "execution_count": 11,
   "id": "8ca38467",
   "metadata": {},
   "outputs": [
    {
     "name": "stdout",
     "output_type": "stream",
     "text": [
      "4\n"
     ]
    },
    {
     "data": {
      "text/plain": [
       "(1, 3, 1, 4)"
      ]
     },
     "execution_count": 11,
     "metadata": {},
     "output_type": "execute_result"
    }
   ],
   "source": [
    "## ndarray.ndim - Returns the number of dimensions\n",
    "x = np.array([[[[1,2,3,4]],[[5,6,7,8]],[[1,2,3,4]]]])\n",
    "print(x.ndim)\n",
    "x.shape"
   ]
  },
  {
   "cell_type": "code",
   "execution_count": 9,
   "id": "e220cf56",
   "metadata": {},
   "outputs": [
    {
     "name": "stdout",
     "output_type": "stream",
     "text": [
      "4\n"
     ]
    },
    {
     "data": {
      "text/plain": [
       "(3, 2, 1, 4)"
      ]
     },
     "execution_count": 9,
     "metadata": {},
     "output_type": "execute_result"
    }
   ],
   "source": [
    "## ndarray.ndim - Returns the number of dimensions\n",
    "x = np.array([[[[1,2,3,4]],[[5,6,7,8]]],[[[1,2,3,4]],[[5,6,7,8]]],[[[1,2,3,4]],[[5,6,7,8]]]])\n",
    "print(x.ndim)\n",
    "x.shape"
   ]
  },
  {
   "cell_type": "code",
   "execution_count": 10,
   "id": "05a9ba7c",
   "metadata": {},
   "outputs": [
    {
     "data": {
      "text/plain": [
       "array([[[[1, 2, 3, 4]],\n",
       "\n",
       "        [[5, 6, 7, 8]]],\n",
       "\n",
       "\n",
       "       [[[1, 2, 3, 4]],\n",
       "\n",
       "        [[5, 6, 7, 8]]],\n",
       "\n",
       "\n",
       "       [[[1, 2, 3, 4]],\n",
       "\n",
       "        [[5, 6, 7, 8]]]])"
      ]
     },
     "execution_count": 10,
     "metadata": {},
     "output_type": "execute_result"
    }
   ],
   "source": [
    "x"
   ]
  },
  {
   "cell_type": "markdown",
   "id": "efde596c",
   "metadata": {},
   "source": [
    "<font size  = 5.5> 19 Sept 2023"
   ]
  },
  {
   "cell_type": "code",
   "execution_count": 15,
   "id": "e660e470",
   "metadata": {},
   "outputs": [
    {
     "name": "stdout",
     "output_type": "stream",
     "text": [
      "5\n"
     ]
    },
    {
     "data": {
      "text/plain": [
       "(1, 3, 2, 1, 4)"
      ]
     },
     "execution_count": 15,
     "metadata": {},
     "output_type": "execute_result"
    }
   ],
   "source": [
    "## ndarray.ndim - Returns the number of dimensions\n",
    "x = np.array([[[[[1,2,3,4]],[[5,6,7,8]]],[[[1,2,3,4]],[[5,6,7,8]]],[[[1,2,3,4]],[[5,6,7,8]]]]])\n",
    "print(x.ndim)\n",
    "x.shape"
   ]
  },
  {
   "cell_type": "code",
   "execution_count": 16,
   "id": "96e55b43",
   "metadata": {},
   "outputs": [
    {
     "data": {
      "text/plain": [
       "array([[[[[1, 2, 3, 4]],\n",
       "\n",
       "         [[5, 6, 7, 8]]],\n",
       "\n",
       "\n",
       "        [[[1, 2, 3, 4]],\n",
       "\n",
       "         [[5, 6, 7, 8]]],\n",
       "\n",
       "\n",
       "        [[[1, 2, 3, 4]],\n",
       "\n",
       "         [[5, 6, 7, 8]]]]])"
      ]
     },
     "execution_count": 16,
     "metadata": {},
     "output_type": "execute_result"
    }
   ],
   "source": [
    "x"
   ]
  },
  {
   "cell_type": "code",
   "execution_count": 11,
   "id": "fe8c67ef",
   "metadata": {},
   "outputs": [
    {
     "name": "stdout",
     "output_type": "stream",
     "text": [
      "5\n"
     ]
    },
    {
     "data": {
      "text/plain": [
       "(1, 4, 2, 1, 4)"
      ]
     },
     "execution_count": 11,
     "metadata": {},
     "output_type": "execute_result"
    }
   ],
   "source": [
    "## ndarray.ndim - Returns the number of dimensions\n",
    "x = np.array([[[[[1,2,3,4]],[[5,6,7,8]]],[[[1,2,3,4]],[[5,6,7,8]]],[[[1,2,3,4]],[[5,6,7,8]]],[[[1,2,3,4]],[[5,6,7,8]]]]])\n",
    "print(x.ndim)\n",
    "x.shape"
   ]
  },
  {
   "cell_type": "code",
   "execution_count": 12,
   "id": "bf9b34b4",
   "metadata": {},
   "outputs": [
    {
     "data": {
      "text/plain": [
       "array([[[[[1, 2, 3, 4]],\n",
       "\n",
       "         [[5, 6, 7, 8]]],\n",
       "\n",
       "\n",
       "        [[[1, 2, 3, 4]],\n",
       "\n",
       "         [[5, 6, 7, 8]]],\n",
       "\n",
       "\n",
       "        [[[1, 2, 3, 4]],\n",
       "\n",
       "         [[5, 6, 7, 8]]],\n",
       "\n",
       "\n",
       "        [[[1, 2, 3, 4]],\n",
       "\n",
       "         [[5, 6, 7, 8]]]]])"
      ]
     },
     "execution_count": 12,
     "metadata": {},
     "output_type": "execute_result"
    }
   ],
   "source": [
    "x"
   ]
  },
  {
   "cell_type": "code",
   "execution_count": 22,
   "id": "7d708ec4",
   "metadata": {},
   "outputs": [
    {
     "data": {
      "text/plain": [
       "(1, 4, 4)"
      ]
     },
     "execution_count": 22,
     "metadata": {},
     "output_type": "execute_result"
    }
   ],
   "source": [
    "a = [1,2,3,4]\n",
    "b = [11,22,33,44]\n",
    "c = [5,6,7,8]\n",
    "d = [55,66,77,88]\n",
    "\n",
    "aa = np.array([[a,b,c,d]])\n",
    "aa.shape"
   ]
  },
  {
   "cell_type": "code",
   "execution_count": 23,
   "id": "7b872b35",
   "metadata": {},
   "outputs": [
    {
     "data": {
      "text/plain": [
       "(4, 4, 4)"
      ]
     },
     "execution_count": 23,
     "metadata": {},
     "output_type": "execute_result"
    }
   ],
   "source": [
    "a = [1,2,3,4]\n",
    "b = [11,22,33,44]\n",
    "c = [5,6,7,8]\n",
    "d = [55,66,77,88]\n",
    "\n",
    "aa = np.array([[a,b,c,d],[a,b,c,d],[a,b,c,d],[a,b,c,d]])\n",
    "aa.shape"
   ]
  },
  {
   "cell_type": "code",
   "execution_count": 26,
   "id": "0362ed56",
   "metadata": {},
   "outputs": [
    {
     "name": "stdout",
     "output_type": "stream",
     "text": [
      "[[[[ 1  2  3  4]\n",
      "   [11 22 33 44]]\n",
      "\n",
      "  [[ 5  6  7  8]\n",
      "   [55 66 77 88]]]\n",
      "\n",
      "\n",
      " [[[ 1  2  3  4]\n",
      "   [11 22 33 44]]\n",
      "\n",
      "  [[ 5  6  7  8]\n",
      "   [55 66 77 88]]]\n",
      "\n",
      "\n",
      " [[[ 1  2  3  4]\n",
      "   [11 22 33 44]]\n",
      "\n",
      "  [[ 5  6  7  8]\n",
      "   [55 66 77 88]]]]\n"
     ]
    },
    {
     "data": {
      "text/plain": [
       "(3, 2, 2, 4)"
      ]
     },
     "execution_count": 26,
     "metadata": {},
     "output_type": "execute_result"
    }
   ],
   "source": [
    "aa = np.array([[[a,b],[c,d]],[[a,b],[c,d]],[[a,b],[c,d]]])\n",
    "print(aa)\n",
    "aa.shape"
   ]
  },
  {
   "cell_type": "code",
   "execution_count": 28,
   "id": "b6a48358",
   "metadata": {},
   "outputs": [
    {
     "name": "stdout",
     "output_type": "stream",
     "text": [
      "[[[[ 1  2  3  4]\n",
      "   [11 22 33 44]\n",
      "   [ 5  6  7  8]]\n",
      "\n",
      "  [[ 1  2  3  4]\n",
      "   [ 5  6  7  8]\n",
      "   [55 66 77 88]]]\n",
      "\n",
      "\n",
      " [[[ 1  2  3  4]\n",
      "   [11 22 33 44]\n",
      "   [55 66 77 88]]\n",
      "\n",
      "  [[11 22 33 44]\n",
      "   [ 5  6  7  8]\n",
      "   [55 66 77 88]]]\n",
      "\n",
      "\n",
      " [[[ 1  2  3  4]\n",
      "   [11 22 33 44]\n",
      "   [ 5  6  7  8]]\n",
      "\n",
      "  [[ 5  6  7  8]\n",
      "   [55 66 77 88]\n",
      "   [11 22 33 44]]]\n",
      "\n",
      "\n",
      " [[[ 1  2  3  4]\n",
      "   [11 22 33 44]\n",
      "   [ 5  6  7  8]]\n",
      "\n",
      "  [[ 5  6  7  8]\n",
      "   [55 66 77 88]\n",
      "   [11 22 33 44]]]]\n"
     ]
    },
    {
     "data": {
      "text/plain": [
       "(4, 2, 3, 4)"
      ]
     },
     "execution_count": 28,
     "metadata": {},
     "output_type": "execute_result"
    }
   ],
   "source": [
    "aa = np.array([[[a,b,c],[a,c,d]],[[a,b,d],[b,c,d]],[[a,b,c],[c,d,b]],[[a,b,c],[c,d,b]]])\n",
    "print(aa)\n",
    "aa.shape"
   ]
  },
  {
   "cell_type": "code",
   "execution_count": 29,
   "id": "7eff74b5",
   "metadata": {},
   "outputs": [
    {
     "data": {
      "text/plain": [
       "(1, 5, 4)"
      ]
     },
     "execution_count": 29,
     "metadata": {},
     "output_type": "execute_result"
    }
   ],
   "source": [
    "a = [1,2,3,4]\n",
    "b = [11,22,33,44]\n",
    "c = [5,6,7,8]\n",
    "d = [55,66,77,88]\n",
    "e = [1,3,5,7]\n",
    "f = [11,55,77,99]\n",
    "aa = np.array([[a,b,c,d,e]])\n",
    "aa.shape"
   ]
  },
  {
   "cell_type": "code",
   "execution_count": 42,
   "id": "4272f84f",
   "metadata": {},
   "outputs": [
    {
     "data": {
      "text/plain": [
       "(1, 2, 3, 5)"
      ]
     },
     "execution_count": 42,
     "metadata": {},
     "output_type": "execute_result"
    }
   ],
   "source": [
    "a = [1,2,3,4,5]\n",
    "b = [11,22,33,44,55]\n",
    "c = [5,6,7,8,9]\n",
    "d = [55,66,77,88,99]\n",
    "e = [1,3,5,7,9]\n",
    "f = [11,55,77,99,33]\n",
    "aa = np.array([[[a,b,c],[d,e,f]]])\n",
    "aa.shape"
   ]
  },
  {
   "cell_type": "code",
   "execution_count": 37,
   "id": "a14f1889",
   "metadata": {},
   "outputs": [
    {
     "data": {
      "text/plain": [
       "(2, 3, 5)"
      ]
     },
     "execution_count": 37,
     "metadata": {},
     "output_type": "execute_result"
    }
   ],
   "source": [
    "a = [1,2,3,4,5]\n",
    "b = [11,22,33,44,55]\n",
    "c = [5,6,7,8,9]\n",
    "d = [55,66,77,88,99]\n",
    "e = [1,3,5,7,9]\n",
    "f = [11,55,77,99,33]\n",
    "aa = np.array([[a,b,c],[d,e,f]])\n",
    "aa.shape"
   ]
  },
  {
   "cell_type": "code",
   "execution_count": 39,
   "id": "57ccedc6",
   "metadata": {},
   "outputs": [
    {
     "data": {
      "text/plain": [
       "array([[[ 1,  2,  3,  4,  5],\n",
       "        [11, 22, 33, 44, 55],\n",
       "        [ 5,  6,  7,  8,  9]],\n",
       "\n",
       "       [[55, 66, 77, 88, 99],\n",
       "        [ 1,  3,  5,  7,  9],\n",
       "        [11, 55, 77, 99, 33]]])"
      ]
     },
     "execution_count": 39,
     "metadata": {},
     "output_type": "execute_result"
    }
   ],
   "source": [
    "aa"
   ]
  },
  {
   "cell_type": "code",
   "execution_count": 43,
   "id": "96dc64eb",
   "metadata": {},
   "outputs": [
    {
     "data": {
      "text/plain": [
       "(3, 5)"
      ]
     },
     "execution_count": 43,
     "metadata": {},
     "output_type": "execute_result"
    }
   ],
   "source": [
    "bb = np.array([[1,2,3,4,5],[1,2,3,4,5],[2,3,4,5,6]])\n",
    "bb.shape"
   ]
  },
  {
   "cell_type": "code",
   "execution_count": 44,
   "id": "2c07e012",
   "metadata": {},
   "outputs": [
    {
     "data": {
      "text/plain": [
       "(2, 3, 5)"
      ]
     },
     "execution_count": 44,
     "metadata": {},
     "output_type": "execute_result"
    }
   ],
   "source": [
    "bb = np.array([[[1,2,3,4,5],[1,2,3,4,5],[2,3,4,5,6]],[[1,2,3,4,5],[1,2,3,4,5],[2,3,4,5,6]]])\n",
    "bb.shape"
   ]
  },
  {
   "cell_type": "code",
   "execution_count": 14,
   "id": "f4d7baea",
   "metadata": {},
   "outputs": [
    {
     "data": {
      "text/plain": [
       "(1, 2, 3, 5)"
      ]
     },
     "execution_count": 14,
     "metadata": {},
     "output_type": "execute_result"
    }
   ],
   "source": [
    "bb = np.array([[[[1,2,3,4,5],[1,2,3,4,5],[2,3,4,5,6]],[[1,2,3,4,5],[1,2,3,4,5],[2,3,4,5,6]]]])\n",
    "bb.shape"
   ]
  },
  {
   "cell_type": "code",
   "execution_count": 54,
   "id": "a2e7d775",
   "metadata": {},
   "outputs": [],
   "source": [
    "bb = bb.reshape(1,1,2,15)"
   ]
  },
  {
   "cell_type": "code",
   "execution_count": 15,
   "id": "2891d0ea",
   "metadata": {
    "scrolled": true
   },
   "outputs": [
    {
     "data": {
      "text/plain": [
       "array([[[[1, 2, 3, 4, 5],\n",
       "         [1, 2, 3, 4, 5],\n",
       "         [2, 3, 4, 5, 6]],\n",
       "\n",
       "        [[1, 2, 3, 4, 5],\n",
       "         [1, 2, 3, 4, 5],\n",
       "         [2, 3, 4, 5, 6]]]])"
      ]
     },
     "execution_count": 15,
     "metadata": {},
     "output_type": "execute_result"
    }
   ],
   "source": [
    "bb"
   ]
  },
  {
   "cell_type": "markdown",
   "id": "85e4216c",
   "metadata": {},
   "source": [
    "<font size = 5.5> .reshape().....Method..."
   ]
  },
  {
   "cell_type": "code",
   "execution_count": 56,
   "id": "12ce7d8b",
   "metadata": {},
   "outputs": [
    {
     "data": {
      "text/plain": [
       "array([[[1, 2, 3],\n",
       "        [4, 5, 1]],\n",
       "\n",
       "       [[2, 3, 4],\n",
       "        [5, 2, 3]],\n",
       "\n",
       "       [[4, 5, 6],\n",
       "        [1, 2, 3]],\n",
       "\n",
       "       [[4, 5, 1],\n",
       "        [2, 3, 4]],\n",
       "\n",
       "       [[5, 2, 3],\n",
       "        [4, 5, 6]]])"
      ]
     },
     "execution_count": 56,
     "metadata": {},
     "output_type": "execute_result"
    }
   ],
   "source": [
    "bb.reshape(5,2,3)"
   ]
  },
  {
   "cell_type": "code",
   "execution_count": 57,
   "id": "fd6810b4",
   "metadata": {},
   "outputs": [
    {
     "ename": "ValueError",
     "evalue": "cannot reshape array of size 30 into shape (2,2,5)",
     "output_type": "error",
     "traceback": [
      "\u001b[1;31m---------------------------------------------------------------------------\u001b[0m",
      "\u001b[1;31mValueError\u001b[0m                                Traceback (most recent call last)",
      "Cell \u001b[1;32mIn[57], line 1\u001b[0m\n\u001b[1;32m----> 1\u001b[0m \u001b[43mbb\u001b[49m\u001b[38;5;241;43m.\u001b[39;49m\u001b[43mreshape\u001b[49m\u001b[43m(\u001b[49m\u001b[38;5;241;43m2\u001b[39;49m\u001b[43m,\u001b[49m\u001b[38;5;241;43m2\u001b[39;49m\u001b[43m,\u001b[49m\u001b[38;5;241;43m5\u001b[39;49m\u001b[43m)\u001b[49m\n",
      "\u001b[1;31mValueError\u001b[0m: cannot reshape array of size 30 into shape (2,2,5)"
     ]
    }
   ],
   "source": [
    "bb.reshape(2,2,5)"
   ]
  },
  {
   "cell_type": "code",
   "execution_count": 58,
   "id": "3d18d614",
   "metadata": {},
   "outputs": [
    {
     "data": {
      "text/plain": [
       "array([[[1, 2],\n",
       "        [3, 4],\n",
       "        [5, 1]],\n",
       "\n",
       "       [[2, 3],\n",
       "        [4, 5],\n",
       "        [2, 3]],\n",
       "\n",
       "       [[4, 5],\n",
       "        [6, 1],\n",
       "        [2, 3]],\n",
       "\n",
       "       [[4, 5],\n",
       "        [1, 2],\n",
       "        [3, 4]],\n",
       "\n",
       "       [[5, 2],\n",
       "        [3, 4],\n",
       "        [5, 6]]])"
      ]
     },
     "execution_count": 58,
     "metadata": {},
     "output_type": "execute_result"
    }
   ],
   "source": [
    "bb.reshape(5,3,2)"
   ]
  },
  {
   "cell_type": "code",
   "execution_count": 59,
   "id": "67e2eef0",
   "metadata": {},
   "outputs": [
    {
     "data": {
      "text/plain": [
       "array([[[1, 2, 3, 4, 5],\n",
       "        [1, 2, 3, 4, 5],\n",
       "        [2, 3, 4, 5, 6],\n",
       "        [1, 2, 3, 4, 5],\n",
       "        [1, 2, 3, 4, 5],\n",
       "        [2, 3, 4, 5, 6]]])"
      ]
     },
     "execution_count": 59,
     "metadata": {},
     "output_type": "execute_result"
    }
   ],
   "source": [
    "bb.reshape(1,6,5)"
   ]
  },
  {
   "cell_type": "code",
   "execution_count": null,
   "id": "f75ecc6e",
   "metadata": {},
   "outputs": [],
   "source": []
  },
  {
   "cell_type": "code",
   "execution_count": null,
   "id": "3f38c941",
   "metadata": {},
   "outputs": [],
   "source": []
  },
  {
   "cell_type": "code",
   "execution_count": 46,
   "id": "0068e3a9",
   "metadata": {},
   "outputs": [
    {
     "data": {
      "text/plain": [
       "(1, 1, 3, 10)"
      ]
     },
     "execution_count": 46,
     "metadata": {},
     "output_type": "execute_result"
    }
   ],
   "source": [
    "bb = np.array([[[[1,2,3,4,5,1,2,3,4,5],[2,3,4,5,6,1,2,3,4,5],[1,2,3,4,5,2,3,4,5,6]]]])\n",
    "bb.shape"
   ]
  },
  {
   "cell_type": "code",
   "execution_count": 48,
   "id": "0b012209",
   "metadata": {},
   "outputs": [
    {
     "data": {
      "text/plain": [
       "(1, 3, 10)"
      ]
     },
     "execution_count": 48,
     "metadata": {},
     "output_type": "execute_result"
    }
   ],
   "source": [
    "bb = np.array([[[1,2,3,4,5,1,2,3,4,5],[2,3,4,5,6,1,2,3,4,5],[1,2,3,4,5,2,3,4,5,6]]])\n",
    "bb.shape"
   ]
  },
  {
   "cell_type": "code",
   "execution_count": 47,
   "id": "eecbf74b",
   "metadata": {},
   "outputs": [
    {
     "data": {
      "text/plain": [
       "(1, 1, 30)"
      ]
     },
     "execution_count": 47,
     "metadata": {},
     "output_type": "execute_result"
    }
   ],
   "source": [
    "bb = np.array([[[1,2,3,4,5,1,2,3,4,5,2,3,4,5,6,1,2,3,4,5,1,2,3,4,5,2,3,4,5,6]]])\n",
    "bb.shape"
   ]
  },
  {
   "cell_type": "markdown",
   "id": "f67f5603",
   "metadata": {},
   "source": [
    "<font size  = 5.5> Number of elements in (2,3,5) = (2 multiply 3 multiply 5) = 30"
   ]
  },
  {
   "cell_type": "code",
   "execution_count": 50,
   "id": "a7096e87",
   "metadata": {},
   "outputs": [
    {
     "data": {
      "text/plain": [
       "30"
      ]
     },
     "execution_count": 50,
     "metadata": {},
     "output_type": "execute_result"
    }
   ],
   "source": [
    "2*3*5"
   ]
  },
  {
   "cell_type": "markdown",
   "id": "9e5b32a6",
   "metadata": {},
   "source": [
    "<font size = 5.5> 20 Sept 2023"
   ]
  },
  {
   "cell_type": "code",
   "execution_count": 16,
   "id": "b2ae1161",
   "metadata": {},
   "outputs": [
    {
     "name": "stdout",
     "output_type": "stream",
     "text": [
      "(4,)\n",
      "[1 2 3 4]\n"
     ]
    },
    {
     "ename": "ValueError",
     "evalue": "cannot reshape array of size 4 into shape (2,3)",
     "output_type": "error",
     "traceback": [
      "\u001b[1;31m---------------------------------------------------------------------------\u001b[0m",
      "\u001b[1;31mValueError\u001b[0m                                Traceback (most recent call last)",
      "Cell \u001b[1;32mIn[16], line 8\u001b[0m\n\u001b[0;32m      6\u001b[0m \u001b[38;5;28mprint\u001b[39m(x)\n\u001b[0;32m      7\u001b[0m \u001b[38;5;66;03m## 2*2 = 4\u001b[39;00m\n\u001b[1;32m----> 8\u001b[0m x\u001b[38;5;241m.\u001b[39mshape \u001b[38;5;241m=\u001b[39m (\u001b[38;5;241m2\u001b[39m,\u001b[38;5;241m3\u001b[39m)\n",
      "\u001b[1;31mValueError\u001b[0m: cannot reshape array of size 4 into shape (2,3)"
     ]
    }
   ],
   "source": [
    "## Change the shape of an ndarray.\n",
    "\n",
    "import numpy as np\n",
    "x = np.array([1,2,3,4])\n",
    "print(x.shape)\n",
    "print(x)\n",
    "## 2*2 = 4\n",
    "x.shape = (2,3)"
   ]
  },
  {
   "cell_type": "code",
   "execution_count": 17,
   "id": "ef9284da",
   "metadata": {},
   "outputs": [
    {
     "name": "stdout",
     "output_type": "stream",
     "text": [
      "(4,)\n",
      "[1 2 3 4]\n"
     ]
    },
    {
     "data": {
      "text/plain": [
       "array([[[1, 2, 3, 4]]])"
      ]
     },
     "execution_count": 17,
     "metadata": {},
     "output_type": "execute_result"
    }
   ],
   "source": [
    "## Change the shape of an ndarray.\n",
    "\n",
    "import numpy as np\n",
    "x = np.array([1,2,3,4])\n",
    "print(x.shape)\n",
    "print(x)\n",
    "## 2*2 = 4\n",
    "x.shape = (1,1,4)\n",
    "x"
   ]
  },
  {
   "cell_type": "code",
   "execution_count": 6,
   "id": "640882db",
   "metadata": {},
   "outputs": [
    {
     "name": "stdout",
     "output_type": "stream",
     "text": [
      "(4,)\n",
      "[1 2 3 4]\n"
     ]
    },
    {
     "data": {
      "text/plain": [
       "array([[[[1, 2]],\n",
       "\n",
       "        [[3, 4]]]])"
      ]
     },
     "execution_count": 6,
     "metadata": {},
     "output_type": "execute_result"
    }
   ],
   "source": [
    "## Change the shape of an ndarray.\n",
    "\n",
    "import numpy as np\n",
    "x = np.array([1,2,3,4])\n",
    "print(x.shape)\n",
    "print(x)\n",
    "## 2*2 = 4\n",
    "x.shape = (1,2,1,2)\n",
    "x"
   ]
  },
  {
   "cell_type": "code",
   "execution_count": 8,
   "id": "00c69336",
   "metadata": {},
   "outputs": [
    {
     "data": {
      "text/plain": [
       "array([[[[1]],\n",
       "\n",
       "        [[2]]],\n",
       "\n",
       "\n",
       "       [[[3]],\n",
       "\n",
       "        [[4]]]])"
      ]
     },
     "execution_count": 8,
     "metadata": {},
     "output_type": "execute_result"
    }
   ],
   "source": [
    "x.shape = (2,2,1,1)\n",
    "x"
   ]
  },
  {
   "cell_type": "code",
   "execution_count": 9,
   "id": "545199fe",
   "metadata": {},
   "outputs": [
    {
     "ename": "ValueError",
     "evalue": "cannot reshape array of size 4 into shape (0,1,2,2)",
     "output_type": "error",
     "traceback": [
      "\u001b[1;31m---------------------------------------------------------------------------\u001b[0m",
      "\u001b[1;31mValueError\u001b[0m                                Traceback (most recent call last)",
      "Cell \u001b[1;32mIn[9], line 1\u001b[0m\n\u001b[1;32m----> 1\u001b[0m x\u001b[38;5;241m.\u001b[39mshape \u001b[38;5;241m=\u001b[39m (\u001b[38;5;241m0\u001b[39m,\u001b[38;5;241m1\u001b[39m,\u001b[38;5;241m2\u001b[39m,\u001b[38;5;241m2\u001b[39m)\n",
      "\u001b[1;31mValueError\u001b[0m: cannot reshape array of size 4 into shape (0,1,2,2)"
     ]
    }
   ],
   "source": [
    "x.shape = (0,1,2,2)"
   ]
  },
  {
   "cell_type": "code",
   "execution_count": 13,
   "id": "5f6fb709",
   "metadata": {},
   "outputs": [
    {
     "data": {
      "text/plain": [
       "array([[[[[[1]]]],\n",
       "\n",
       "\n",
       "\n",
       "        [[[[2]]]]],\n",
       "\n",
       "\n",
       "\n",
       "\n",
       "       [[[[[3]]]],\n",
       "\n",
       "\n",
       "\n",
       "        [[[[4]]]]]])"
      ]
     },
     "execution_count": 13,
     "metadata": {},
     "output_type": "execute_result"
    }
   ],
   "source": [
    "x.shape = (2,2,1,1,1,1)\n",
    "x"
   ]
  },
  {
   "cell_type": "code",
   "execution_count": 15,
   "id": "b57cb368",
   "metadata": {},
   "outputs": [
    {
     "data": {
      "text/plain": [
       "array([[[[[[1, 2]]]]],\n",
       "\n",
       "\n",
       "\n",
       "\n",
       "       [[[[[3, 4]]]]]])"
      ]
     },
     "execution_count": 15,
     "metadata": {},
     "output_type": "execute_result"
    }
   ],
   "source": [
    "x.shape = (2,1,1,1,1,2)         ## six - dimensional - number of values tells the number of dimensions\n",
    "x"
   ]
  },
  {
   "cell_type": "code",
   "execution_count": 18,
   "id": "08c59f60",
   "metadata": {},
   "outputs": [
    {
     "name": "stdout",
     "output_type": "stream",
     "text": [
      "[[[[[[[[1 2 3 4]]]]]]]]\n"
     ]
    },
    {
     "ename": "AttributeError",
     "evalue": "'NoneType' object has no attribute 'ndim'",
     "output_type": "error",
     "traceback": [
      "\u001b[1;31m---------------------------------------------------------------------------\u001b[0m",
      "\u001b[1;31mAttributeError\u001b[0m                            Traceback (most recent call last)",
      "Cell \u001b[1;32mIn[18], line 2\u001b[0m\n\u001b[0;32m      1\u001b[0m x \u001b[38;5;241m=\u001b[39m \u001b[38;5;28mprint\u001b[39m(x\u001b[38;5;241m.\u001b[39mreshape (\u001b[38;5;241m1\u001b[39m,\u001b[38;5;241m1\u001b[39m,\u001b[38;5;241m1\u001b[39m,\u001b[38;5;241m1\u001b[39m,\u001b[38;5;241m1\u001b[39m,\u001b[38;5;241m1\u001b[39m,\u001b[38;5;241m1\u001b[39m,\u001b[38;5;241m4\u001b[39m))\n\u001b[1;32m----> 2\u001b[0m \u001b[43mx\u001b[49m\u001b[38;5;241;43m.\u001b[39;49m\u001b[43mndim\u001b[49m\n",
      "\u001b[1;31mAttributeError\u001b[0m: 'NoneType' object has no attribute 'ndim'"
     ]
    }
   ],
   "source": [
    "x = print(x.reshape (1,1,1,1,1,1,1,4))\n",
    "x.ndim"
   ]
  },
  {
   "cell_type": "markdown",
   "id": "401e9be4",
   "metadata": {},
   "source": [
    "<font size = 4.5> Shape of an ndarray also gives its size and number of dimentions. <br><br> For size, multiply the values in the shape e.g. (2,3) --- 2*3 = 6 <br> <br> For dimensions, count the number of values in the shape tuple e.g. (2,3) -- 2 Dimensional. <br><br> While changing the shape of an array keep in mind that its size i.e. number of elements **will not change.**"
   ]
  },
  {
   "cell_type": "code",
   "execution_count": 8,
   "id": "4cb73d46",
   "metadata": {},
   "outputs": [
    {
     "data": {
      "text/plain": [
       "8"
      ]
     },
     "execution_count": 8,
     "metadata": {},
     "output_type": "execute_result"
    }
   ],
   "source": [
    "x = np.array([1,2,3,4])\n",
    "x = x.reshape (1,1,1,1,1,1,1,4)\n",
    "x.ndim"
   ]
  },
  {
   "cell_type": "code",
   "execution_count": 9,
   "id": "cd0f3ef3",
   "metadata": {},
   "outputs": [
    {
     "data": {
      "text/plain": [
       "array([[[[[[[[1, 2, 3, 4]]]]]]]])"
      ]
     },
     "execution_count": 9,
     "metadata": {},
     "output_type": "execute_result"
    }
   ],
   "source": [
    "x"
   ]
  },
  {
   "cell_type": "code",
   "execution_count": 29,
   "id": "b1b89d83",
   "metadata": {},
   "outputs": [
    {
     "data": {
      "text/plain": [
       "array([[[1, 2],\n",
       "        [3, 4]],\n",
       "\n",
       "       [[5, 6],\n",
       "        [7, 8]]])"
      ]
     },
     "execution_count": 29,
     "metadata": {},
     "output_type": "execute_result"
    }
   ],
   "source": [
    "y = np.array([1,2,3,4,5,6,7,8])\n",
    "y.shape = (2,2,2)\n",
    "y"
   ]
  },
  {
   "cell_type": "code",
   "execution_count": 30,
   "id": "e794b6a9",
   "metadata": {},
   "outputs": [
    {
     "data": {
      "text/plain": [
       "array([[1, 2, 3, 4],\n",
       "       [5, 6, 7, 8]])"
      ]
     },
     "execution_count": 30,
     "metadata": {},
     "output_type": "execute_result"
    }
   ],
   "source": [
    "y = np.array([1,2,3,4,5,6,7,8])\n",
    "y.shape = (2,4)\n",
    "y"
   ]
  },
  {
   "cell_type": "code",
   "execution_count": 31,
   "id": "32c31a46",
   "metadata": {},
   "outputs": [
    {
     "data": {
      "text/plain": [
       "array([[[1, 2, 3, 4, 5, 6, 7, 8]]])"
      ]
     },
     "execution_count": 31,
     "metadata": {},
     "output_type": "execute_result"
    }
   ],
   "source": [
    "y = np.array([1,2,3,4,5,6,7,8])\n",
    "y.shape = (1,1,8)\n",
    "y"
   ]
  },
  {
   "cell_type": "code",
   "execution_count": 32,
   "id": "892d1ff4",
   "metadata": {},
   "outputs": [
    {
     "data": {
      "text/plain": [
       "array([[[1],\n",
       "        [2]],\n",
       "\n",
       "       [[3],\n",
       "        [4]],\n",
       "\n",
       "       [[5],\n",
       "        [6]],\n",
       "\n",
       "       [[7],\n",
       "        [8]]])"
      ]
     },
     "execution_count": 32,
     "metadata": {},
     "output_type": "execute_result"
    }
   ],
   "source": [
    "y = np.array([1,2,3,4,5,6,7,8])\n",
    "y.shape = (4,2,1)\n",
    "y"
   ]
  },
  {
   "cell_type": "code",
   "execution_count": 10,
   "id": "f5de92ad",
   "metadata": {},
   "outputs": [
    {
     "data": {
      "text/plain": [
       "array([[[1]],\n",
       "\n",
       "       [[2]],\n",
       "\n",
       "       [[3]],\n",
       "\n",
       "       [[4]],\n",
       "\n",
       "       [[5]],\n",
       "\n",
       "       [[6]],\n",
       "\n",
       "       [[7]],\n",
       "\n",
       "       [[8]]])"
      ]
     },
     "execution_count": 10,
     "metadata": {},
     "output_type": "execute_result"
    }
   ],
   "source": [
    "y = np.array([1,2,3,4,5,6,7,8])\n",
    "y.shape = (8,1,1)\n",
    "y"
   ]
  },
  {
   "cell_type": "code",
   "execution_count": 12,
   "id": "5e166f4c",
   "metadata": {},
   "outputs": [
    {
     "data": {
      "text/plain": [
       "array([[[1, 2, 3, 4, 5, 6, 7, 8]]])"
      ]
     },
     "execution_count": 12,
     "metadata": {},
     "output_type": "execute_result"
    }
   ],
   "source": [
    "y.shape = (1,1,8)\n",
    "y"
   ]
  },
  {
   "cell_type": "code",
   "execution_count": 36,
   "id": "052e3182",
   "metadata": {},
   "outputs": [
    {
     "name": "stdout",
     "output_type": "stream",
     "text": [
      "[[[[[[1 2]]\n",
      "\n",
      "    [[3 4]]]\n",
      "\n",
      "\n",
      "   [[[5 6]]\n",
      "\n",
      "    [[7 8]]]]]]\n"
     ]
    },
    {
     "data": {
      "text/plain": [
       "6"
      ]
     },
     "execution_count": 36,
     "metadata": {},
     "output_type": "execute_result"
    }
   ],
   "source": [
    "y = np.array([1,2,3,4,5,6,7,8])\n",
    "y.shape = (1,1,2,2,1,2)\n",
    "print(y)\n",
    "y.ndim"
   ]
  },
  {
   "cell_type": "code",
   "execution_count": 37,
   "id": "179679da",
   "metadata": {},
   "outputs": [
    {
     "data": {
      "text/plain": [
       "array([[[[1, 2],\n",
       "         [3, 4]]],\n",
       "\n",
       "\n",
       "       [[[5, 6],\n",
       "         [7, 8]]]])"
      ]
     },
     "execution_count": 37,
     "metadata": {},
     "output_type": "execute_result"
    }
   ],
   "source": [
    "y = np.array([1,2,3,4,5,6,7,8])\n",
    "y.shape = (2,1,2,2)\n",
    "y"
   ]
  },
  {
   "cell_type": "code",
   "execution_count": 38,
   "id": "3babcddf",
   "metadata": {},
   "outputs": [
    {
     "data": {
      "text/plain": [
       "array([[1, 2],\n",
       "       [3, 4],\n",
       "       [5, 6],\n",
       "       [7, 8]])"
      ]
     },
     "execution_count": 38,
     "metadata": {},
     "output_type": "execute_result"
    }
   ],
   "source": [
    "y = np.array([1,2,3,4,5,6,7,8])\n",
    "y.shape = (4,2)\n",
    "y"
   ]
  },
  {
   "cell_type": "code",
   "execution_count": 39,
   "id": "9704b886",
   "metadata": {},
   "outputs": [
    {
     "data": {
      "text/plain": [
       "array([[[1, 2, 3, 4],\n",
       "        [5, 6, 7, 8]]])"
      ]
     },
     "execution_count": 39,
     "metadata": {},
     "output_type": "execute_result"
    }
   ],
   "source": [
    "y = np.array([1,2,3,4,5,6,7,8])\n",
    "y.shape = (1,2,4)\n",
    "y"
   ]
  },
  {
   "cell_type": "code",
   "execution_count": 41,
   "id": "f72cf480",
   "metadata": {},
   "outputs": [
    {
     "data": {
      "text/plain": [
       "array([[[[1, 2]],\n",
       "\n",
       "        [[3, 4]]],\n",
       "\n",
       "\n",
       "       [[[5, 6]],\n",
       "\n",
       "        [[7, 8]]]])"
      ]
     },
     "execution_count": 41,
     "metadata": {},
     "output_type": "execute_result"
    }
   ],
   "source": [
    "y = np.array([1,2,3,4,5,6,7,8])\n",
    "y.shape = (2,2,1,2)\n",
    "y"
   ]
  },
  {
   "cell_type": "code",
   "execution_count": 42,
   "id": "28aeb3bb",
   "metadata": {},
   "outputs": [
    {
     "data": {
      "text/plain": [
       "array([[[[1, 2],\n",
       "         [3, 4]],\n",
       "\n",
       "        [[5, 6],\n",
       "         [7, 8]]]])"
      ]
     },
     "execution_count": 42,
     "metadata": {},
     "output_type": "execute_result"
    }
   ],
   "source": [
    "y = np.array([1,2,3,4,5,6,7,8])\n",
    "y.shape = (1,2,2,2)\n",
    "y"
   ]
  },
  {
   "cell_type": "markdown",
   "id": "0dce4446",
   "metadata": {},
   "source": [
    "<font size = 5.5> 21 Sept 2023 <br><br> .size <br>.dtype"
   ]
  },
  {
   "cell_type": "code",
   "execution_count": 1,
   "id": "5b6175a6",
   "metadata": {},
   "outputs": [
    {
     "data": {
      "text/plain": [
       "7"
      ]
     },
     "execution_count": 1,
     "metadata": {},
     "output_type": "execute_result"
    }
   ],
   "source": [
    "## ndarray.size  --- Returns the number of elements.\n",
    "import numpy as np\n",
    "x = np.array([1,2,3,4,5,6,7])\n",
    "x.size"
   ]
  },
  {
   "cell_type": "code",
   "execution_count": 2,
   "id": "5a6ad1e8",
   "metadata": {},
   "outputs": [
    {
     "data": {
      "text/plain": [
       "dtype('int32')"
      ]
     },
     "execution_count": 2,
     "metadata": {},
     "output_type": "execute_result"
    }
   ],
   "source": [
    "## ndarray.dtype  --- Returns the data type of the elements in the ndarray.\n",
    "x.dtype"
   ]
  },
  {
   "cell_type": "markdown",
   "id": "a3bcb566",
   "metadata": {},
   "source": [
    "<font size = 5.5> Methods and Functions used with ndarrays <br> <br> np.ones(shape,dtype)"
   ]
  },
  {
   "cell_type": "code",
   "execution_count": 4,
   "id": "acfc7476",
   "metadata": {},
   "outputs": [
    {
     "data": {
      "text/plain": [
       "array([[[1., 1., 1., 1., 1.],\n",
       "        [1., 1., 1., 1., 1.],\n",
       "        [1., 1., 1., 1., 1.]],\n",
       "\n",
       "       [[1., 1., 1., 1., 1.],\n",
       "        [1., 1., 1., 1., 1.],\n",
       "        [1., 1., 1., 1., 1.]]])"
      ]
     },
     "execution_count": 4,
     "metadata": {},
     "output_type": "execute_result"
    }
   ],
   "source": [
    "## np.ones(shape,dtype)  - Retuns a new array of given shape and type, filled with ones.\n",
    "np.ones((2,3,5))"
   ]
  },
  {
   "cell_type": "code",
   "execution_count": 13,
   "id": "774571a0",
   "metadata": {},
   "outputs": [
    {
     "data": {
      "text/plain": [
       "dtype('float64')"
      ]
     },
     "execution_count": 13,
     "metadata": {},
     "output_type": "execute_result"
    }
   ],
   "source": [
    "np.ones((2,2,2)).dtype"
   ]
  },
  {
   "cell_type": "code",
   "execution_count": 15,
   "id": "46d52373",
   "metadata": {},
   "outputs": [
    {
     "data": {
      "text/plain": [
       "dtype('float64')"
      ]
     },
     "execution_count": 15,
     "metadata": {},
     "output_type": "execute_result"
    }
   ],
   "source": [
    "y = np.ones((2,2,2)).dtype\n",
    "y"
   ]
  },
  {
   "cell_type": "markdown",
   "id": "3bd6af07",
   "metadata": {},
   "source": [
    "<font size  = 4.5> Data Type of ... dtype('float64')........is -->  numpy.dtype[float64] and It is an \"Object...of PYthon\""
   ]
  },
  {
   "cell_type": "code",
   "execution_count": 16,
   "id": "b7a15337",
   "metadata": {},
   "outputs": [
    {
     "data": {
      "text/plain": [
       "numpy.dtype[float64]"
      ]
     },
     "execution_count": 16,
     "metadata": {},
     "output_type": "execute_result"
    }
   ],
   "source": [
    "y = np.ones((2,2,2)).dtype\n",
    "type(y)"
   ]
  },
  {
   "cell_type": "code",
   "execution_count": 17,
   "id": "fa699bd5",
   "metadata": {},
   "outputs": [
    {
     "data": {
      "text/plain": [
       "int"
      ]
     },
     "execution_count": 17,
     "metadata": {},
     "output_type": "execute_result"
    }
   ],
   "source": [
    "y = np.ones((2,2,2)).ndim\n",
    "type(y)"
   ]
  },
  {
   "cell_type": "code",
   "execution_count": 18,
   "id": "fe597d78",
   "metadata": {},
   "outputs": [
    {
     "data": {
      "text/plain": [
       "int"
      ]
     },
     "execution_count": 18,
     "metadata": {},
     "output_type": "execute_result"
    }
   ],
   "source": [
    "y = np.ones((2,2,2)).size\n",
    "type(y)"
   ]
  },
  {
   "cell_type": "code",
   "execution_count": 19,
   "id": "47ac46ab",
   "metadata": {},
   "outputs": [
    {
     "data": {
      "text/plain": [
       "tuple"
      ]
     },
     "execution_count": 19,
     "metadata": {},
     "output_type": "execute_result"
    }
   ],
   "source": [
    "y = np.ones((2,2,2)).shape\n",
    "type(y)"
   ]
  },
  {
   "cell_type": "code",
   "execution_count": null,
   "id": "8d1d6497",
   "metadata": {},
   "outputs": [],
   "source": []
  },
  {
   "cell_type": "code",
   "execution_count": 6,
   "id": "c6e352b1",
   "metadata": {},
   "outputs": [
    {
     "ename": "NameError",
     "evalue": "name 'dtype32' is not defined",
     "output_type": "error",
     "traceback": [
      "\u001b[1;31m---------------------------------------------------------------------------\u001b[0m",
      "\u001b[1;31mNameError\u001b[0m                                 Traceback (most recent call last)",
      "Cell \u001b[1;32mIn[6], line 1\u001b[0m\n\u001b[1;32m----> 1\u001b[0m np\u001b[38;5;241m.\u001b[39mones((\u001b[38;5;241m2\u001b[39m,\u001b[38;5;241m2\u001b[39m,\u001b[38;5;241m2\u001b[39m),(\u001b[43mdtype32\u001b[49m))\n",
      "\u001b[1;31mNameError\u001b[0m: name 'dtype32' is not defined"
     ]
    }
   ],
   "source": [
    "np.ones((2,2,2),(dtype32))"
   ]
  },
  {
   "cell_type": "code",
   "execution_count": 12,
   "id": "459ec6e3",
   "metadata": {},
   "outputs": [
    {
     "ename": "SyntaxError",
     "evalue": "invalid syntax. Maybe you meant '==' or ':=' instead of '='? (1641567541.py, line 1)",
     "output_type": "error",
     "traceback": [
      "\u001b[1;36m  Cell \u001b[1;32mIn[12], line 1\u001b[1;36m\u001b[0m\n\u001b[1;33m    np.ones((2,2,2), (dtype=\"int32\"))\u001b[0m\n\u001b[1;37m                      ^\u001b[0m\n\u001b[1;31mSyntaxError\u001b[0m\u001b[1;31m:\u001b[0m invalid syntax. Maybe you meant '==' or ':=' instead of '='?\n"
     ]
    }
   ],
   "source": [
    "np.ones((2,2,2), (dtype=\"int32\"))"
   ]
  },
  {
   "cell_type": "code",
   "execution_count": 10,
   "id": "27ac686c",
   "metadata": {},
   "outputs": [
    {
     "ename": "SyntaxError",
     "evalue": "invalid syntax. Maybe you meant '==' or ':=' instead of '='? (2460757158.py, line 1)",
     "output_type": "error",
     "traceback": [
      "\u001b[1;36m  Cell \u001b[1;32mIn[10], line 1\u001b[1;36m\u001b[0m\n\u001b[1;33m    np.ones((2,2,2), (dtype=\"int64\"))\u001b[0m\n\u001b[1;37m                      ^\u001b[0m\n\u001b[1;31mSyntaxError\u001b[0m\u001b[1;31m:\u001b[0m invalid syntax. Maybe you meant '==' or ':=' instead of '='?\n"
     ]
    }
   ],
   "source": [
    "np.ones((2,2,2), (dtype=\"int64\"))"
   ]
  },
  {
   "cell_type": "code",
   "execution_count": 13,
   "id": "330a440b",
   "metadata": {},
   "outputs": [
    {
     "data": {
      "text/plain": [
       "array([[[1, 1],\n",
       "        [1, 1]],\n",
       "\n",
       "       [[1, 1],\n",
       "        [1, 1]]])"
      ]
     },
     "execution_count": 13,
     "metadata": {},
     "output_type": "execute_result"
    }
   ],
   "source": [
    "np.ones((2,2,2), dtype=\"int32\")"
   ]
  },
  {
   "cell_type": "code",
   "execution_count": 12,
   "id": "99890d59",
   "metadata": {},
   "outputs": [
    {
     "data": {
      "text/plain": [
       "array([[['1', '1'],\n",
       "        ['1', '1']],\n",
       "\n",
       "       [['1', '1'],\n",
       "        ['1', '1']]], dtype='<U1')"
      ]
     },
     "execution_count": 12,
     "metadata": {},
     "output_type": "execute_result"
    }
   ],
   "source": [
    "np.ones((2,2,2), dtype=\"U\")"
   ]
  },
  {
   "cell_type": "code",
   "execution_count": 17,
   "id": "0d31f537",
   "metadata": {},
   "outputs": [
    {
     "data": {
      "text/plain": [
       "array([[[1, 1],\n",
       "        [1, 1]],\n",
       "\n",
       "       [[1, 1],\n",
       "        [1, 1]]], dtype=int64)"
      ]
     },
     "execution_count": 17,
     "metadata": {},
     "output_type": "execute_result"
    }
   ],
   "source": [
    "np.ones((2,2,2), dtype=\"int64\")"
   ]
  },
  {
   "cell_type": "code",
   "execution_count": 68,
   "id": "f2155ba4",
   "metadata": {},
   "outputs": [
    {
     "data": {
      "text/plain": [
       "array([[[1, 1],\n",
       "        [1, 1]],\n",
       "\n",
       "       [[1, 1],\n",
       "        [1, 1]]], dtype=int64)"
      ]
     },
     "execution_count": 68,
     "metadata": {},
     "output_type": "execute_result"
    }
   ],
   "source": [
    "np.ones((2,2,2),\"int64\")"
   ]
  },
  {
   "cell_type": "code",
   "execution_count": 69,
   "id": "5712cd26",
   "metadata": {},
   "outputs": [
    {
     "data": {
      "text/plain": [
       "array([[[1.+0.j, 1.+0.j],\n",
       "        [1.+0.j, 1.+0.j]],\n",
       "\n",
       "       [[1.+0.j, 1.+0.j],\n",
       "        [1.+0.j, 1.+0.j]]])"
      ]
     },
     "execution_count": 69,
     "metadata": {},
     "output_type": "execute_result"
    }
   ],
   "source": [
    "np.ones((2,2,2),\"complex\")"
   ]
  },
  {
   "cell_type": "markdown",
   "id": "859cca49",
   "metadata": {},
   "source": [
    "<Font size = 5.5> np.zeros(shape,dtype)"
   ]
  },
  {
   "cell_type": "code",
   "execution_count": 71,
   "id": "899286c4",
   "metadata": {},
   "outputs": [
    {
     "data": {
      "text/plain": [
       "array([[[['', '', '', '', '']]],\n",
       "\n",
       "\n",
       "       [[['', '', '', '', '']]]], dtype='<U2')"
      ]
     },
     "execution_count": 71,
     "metadata": {},
     "output_type": "execute_result"
    }
   ],
   "source": [
    "np.zeros((2,1,1,5),\"U2\")"
   ]
  },
  {
   "cell_type": "code",
   "execution_count": 20,
   "id": "caf37382",
   "metadata": {},
   "outputs": [
    {
     "data": {
      "text/plain": [
       "array([[[[0., 0., 0., 0., 0.]]],\n",
       "\n",
       "\n",
       "       [[[0., 0., 0., 0., 0.]]]])"
      ]
     },
     "execution_count": 20,
     "metadata": {},
     "output_type": "execute_result"
    }
   ],
   "source": [
    "## np.zeros (shape,dtype)        ---- Returns a new array of given shape type, filled with zeros. \n",
    "np.zeros((2,1,1,5))"
   ]
  },
  {
   "cell_type": "code",
   "execution_count": 70,
   "id": "34867a1e",
   "metadata": {},
   "outputs": [
    {
     "data": {
      "text/plain": [
       "array([[[[0, 0, 0, 0, 0]]],\n",
       "\n",
       "\n",
       "       [[[0, 0, 0, 0, 0]]]], dtype=int8)"
      ]
     },
     "execution_count": 70,
     "metadata": {},
     "output_type": "execute_result"
    }
   ],
   "source": [
    "np.zeros((2,1,1,5),\"int8\")"
   ]
  },
  {
   "cell_type": "code",
   "execution_count": null,
   "id": "a988bdec",
   "metadata": {},
   "outputs": [],
   "source": []
  },
  {
   "cell_type": "code",
   "execution_count": null,
   "id": "cf58d9cf",
   "metadata": {},
   "outputs": [],
   "source": []
  },
  {
   "cell_type": "code",
   "execution_count": null,
   "id": "075da8ad",
   "metadata": {},
   "outputs": [],
   "source": []
  },
  {
   "cell_type": "markdown",
   "id": "53860f5b",
   "metadata": {},
   "source": [
    "<font size = 5> np.empty(shape,dtype) <br> np.empty <br> np.full"
   ]
  },
  {
   "cell_type": "code",
   "execution_count": 21,
   "id": "4b0bd67c",
   "metadata": {},
   "outputs": [
    {
     "data": {
      "text/plain": [
       "array([[''],\n",
       "       ['']], dtype='<U1')"
      ]
     },
     "execution_count": 21,
     "metadata": {},
     "output_type": "execute_result"
    }
   ],
   "source": [
    "## np.empty(shape,dtype)  \n",
    "## Returns a new array of given shape and type, without initializing entries.\n",
    "np.empty((2,1),dtype = \"U\")"
   ]
  },
  {
   "cell_type": "code",
   "execution_count": 26,
   "id": "4c873721",
   "metadata": {},
   "outputs": [
    {
     "data": {
      "text/plain": [
       "array([[ 538976496],\n",
       "       [1646292852]], dtype=uint32)"
      ]
     },
     "execution_count": 26,
     "metadata": {},
     "output_type": "execute_result"
    }
   ],
   "source": [
    "## np.empty(shape,dtype)  \n",
    "## Returns a new array of given shape and type, without initializing entries.\n",
    "np.empty((2,1),dtype = \"uint\")"
   ]
  },
  {
   "cell_type": "code",
   "execution_count": 29,
   "id": "f18c97ff",
   "metadata": {},
   "outputs": [
    {
     "data": {
      "text/plain": [
       "array([[[0.00000000e+000+0.0000000e+000j,\n",
       "         0.00000000e+000+0.0000000e+000j]],\n",
       "\n",
       "       [[0.00000000e+000+7.0552574e-321j,\n",
       "         6.23057348e-307+1.4241953e-306j]]])"
      ]
     },
     "execution_count": 29,
     "metadata": {},
     "output_type": "execute_result"
    }
   ],
   "source": [
    "## np.empty(shape,dtype)  \n",
    "## Returns a new array of given shape and type, without initializing entries.\n",
    "np.empty((2,1,2),dtype = \"complex\")"
   ]
  },
  {
   "cell_type": "code",
   "execution_count": 66,
   "id": "806b34f1",
   "metadata": {},
   "outputs": [
    {
     "data": {
      "text/plain": [
       "array([[[1.+1.j, 1.+1.j]],\n",
       "\n",
       "       [[1.+1.j, 1.+1.j]]])"
      ]
     },
     "execution_count": 66,
     "metadata": {},
     "output_type": "execute_result"
    }
   ],
   "source": [
    "np.empty((2,1,2),\"complex\")"
   ]
  },
  {
   "cell_type": "code",
   "execution_count": 67,
   "id": "abef88a0",
   "metadata": {},
   "outputs": [
    {
     "data": {
      "text/plain": [
       "array([[[3550589296,        383]],\n",
       "\n",
       "       [[         0,          0]]], dtype=uint32)"
      ]
     },
     "execution_count": 67,
     "metadata": {},
     "output_type": "execute_result"
    }
   ],
   "source": [
    "np.empty((2,1,2),\"uint\")"
   ]
  },
  {
   "cell_type": "code",
   "execution_count": null,
   "id": "bd1c4c0b",
   "metadata": {},
   "outputs": [],
   "source": []
  },
  {
   "cell_type": "code",
   "execution_count": null,
   "id": "94c0dd36",
   "metadata": {},
   "outputs": [],
   "source": []
  },
  {
   "cell_type": "markdown",
   "id": "76e6cb7a",
   "metadata": {},
   "source": [
    "<font size = 5> np.full(shape,fill_value,dtype)"
   ]
  },
  {
   "cell_type": "code",
   "execution_count": 30,
   "id": "5426ccd4",
   "metadata": {},
   "outputs": [
    {
     "data": {
      "text/plain": [
       "array([[[9, 9, 9, 9],\n",
       "        [9, 9, 9, 9],\n",
       "        [9, 9, 9, 9]],\n",
       "\n",
       "       [[9, 9, 9, 9],\n",
       "        [9, 9, 9, 9],\n",
       "        [9, 9, 9, 9]]])"
      ]
     },
     "execution_count": 30,
     "metadata": {},
     "output_type": "execute_result"
    }
   ],
   "source": [
    "## np.full(shape,fill_value,dtype)\n",
    "## Returns a new array of given shape and type, filled with fill_value\n",
    "\n",
    "np.full((2,3,4),9,dtype=\"int\")"
   ]
  },
  {
   "cell_type": "code",
   "execution_count": 20,
   "id": "f847ef2e",
   "metadata": {},
   "outputs": [
    {
     "data": {
      "text/plain": [
       "array([[[b'P', b'P', b'P', b'P'],\n",
       "        [b'P', b'P', b'P', b'P'],\n",
       "        [b'P', b'P', b'P', b'P']],\n",
       "\n",
       "       [[b'P', b'P', b'P', b'P'],\n",
       "        [b'P', b'P', b'P', b'P'],\n",
       "        [b'P', b'P', b'P', b'P']]], dtype='|S1')"
      ]
     },
     "execution_count": 20,
     "metadata": {},
     "output_type": "execute_result"
    }
   ],
   "source": [
    "np.full((2,3,4),\"PYthon\",dtype=\"S\")"
   ]
  },
  {
   "cell_type": "code",
   "execution_count": 24,
   "id": "3bb35e15",
   "metadata": {},
   "outputs": [
    {
     "data": {
      "text/plain": [
       "array([[['T', 'T', 'T', 'T'],\n",
       "        ['T', 'T', 'T', 'T'],\n",
       "        ['T', 'T', 'T', 'T']],\n",
       "\n",
       "       [['T', 'T', 'T', 'T'],\n",
       "        ['T', 'T', 'T', 'T'],\n",
       "        ['T', 'T', 'T', 'T']]], dtype='<U1')"
      ]
     },
     "execution_count": 24,
     "metadata": {},
     "output_type": "execute_result"
    }
   ],
   "source": [
    "np.full((2,3,4),\"Tavishi\",dtype=\"U\")"
   ]
  },
  {
   "cell_type": "code",
   "execution_count": 26,
   "id": "d807c031",
   "metadata": {},
   "outputs": [
    {
     "data": {
      "text/plain": [
       "array([[['Tavi', 'Tavi', 'Tavi', 'Tavi'],\n",
       "        ['Tavi', 'Tavi', 'Tavi', 'Tavi'],\n",
       "        ['Tavi', 'Tavi', 'Tavi', 'Tavi']],\n",
       "\n",
       "       [['Tavi', 'Tavi', 'Tavi', 'Tavi'],\n",
       "        ['Tavi', 'Tavi', 'Tavi', 'Tavi'],\n",
       "        ['Tavi', 'Tavi', 'Tavi', 'Tavi']]], dtype='<U4')"
      ]
     },
     "execution_count": 26,
     "metadata": {},
     "output_type": "execute_result"
    }
   ],
   "source": [
    "np.full((2,3,4),\"Tavi\")"
   ]
  },
  {
   "cell_type": "code",
   "execution_count": null,
   "id": "7ca81565",
   "metadata": {},
   "outputs": [],
   "source": []
  },
  {
   "cell_type": "code",
   "execution_count": null,
   "id": "1c29b729",
   "metadata": {},
   "outputs": [],
   "source": []
  },
  {
   "cell_type": "code",
   "execution_count": null,
   "id": "fde4e756",
   "metadata": {},
   "outputs": [],
   "source": []
  },
  {
   "cell_type": "code",
   "execution_count": 22,
   "id": "ec3c9eab",
   "metadata": {},
   "outputs": [
    {
     "ename": "ValueError",
     "evalue": "invalid literal for int() with base 10: 'PYthon'",
     "output_type": "error",
     "traceback": [
      "\u001b[1;31m---------------------------------------------------------------------------\u001b[0m",
      "\u001b[1;31mValueError\u001b[0m                                Traceback (most recent call last)",
      "Cell \u001b[1;32mIn[22], line 1\u001b[0m\n\u001b[1;32m----> 1\u001b[0m \u001b[43mnp\u001b[49m\u001b[38;5;241;43m.\u001b[39;49m\u001b[43mfull\u001b[49m\u001b[43m(\u001b[49m\u001b[43m(\u001b[49m\u001b[38;5;241;43m2\u001b[39;49m\u001b[43m,\u001b[49m\u001b[38;5;241;43m3\u001b[39;49m\u001b[43m,\u001b[49m\u001b[38;5;241;43m4\u001b[39;49m\u001b[43m)\u001b[49m\u001b[43m,\u001b[49m\u001b[38;5;124;43m\"\u001b[39;49m\u001b[38;5;124;43mPYthon\u001b[39;49m\u001b[38;5;124;43m\"\u001b[39;49m\u001b[43m,\u001b[49m\u001b[43mdtype\u001b[49m\u001b[38;5;241;43m=\u001b[39;49m\u001b[38;5;124;43m\"\u001b[39;49m\u001b[38;5;124;43mint\u001b[39;49m\u001b[38;5;124;43m\"\u001b[39;49m\u001b[43m)\u001b[49m\n",
      "File \u001b[1;32me:\\Users\\user\\anaconda3\\lib\\site-packages\\numpy\\core\\numeric.py:344\u001b[0m, in \u001b[0;36mfull\u001b[1;34m(shape, fill_value, dtype, order, like)\u001b[0m\n\u001b[0;32m    342\u001b[0m     dtype \u001b[38;5;241m=\u001b[39m fill_value\u001b[38;5;241m.\u001b[39mdtype\n\u001b[0;32m    343\u001b[0m a \u001b[38;5;241m=\u001b[39m empty(shape, dtype, order)\n\u001b[1;32m--> 344\u001b[0m \u001b[43mmultiarray\u001b[49m\u001b[38;5;241;43m.\u001b[39;49m\u001b[43mcopyto\u001b[49m\u001b[43m(\u001b[49m\u001b[43ma\u001b[49m\u001b[43m,\u001b[49m\u001b[43m \u001b[49m\u001b[43mfill_value\u001b[49m\u001b[43m,\u001b[49m\u001b[43m \u001b[49m\u001b[43mcasting\u001b[49m\u001b[38;5;241;43m=\u001b[39;49m\u001b[38;5;124;43m'\u001b[39;49m\u001b[38;5;124;43munsafe\u001b[39;49m\u001b[38;5;124;43m'\u001b[39;49m\u001b[43m)\u001b[49m\n\u001b[0;32m    345\u001b[0m \u001b[38;5;28;01mreturn\u001b[39;00m a\n",
      "File \u001b[1;32m<__array_function__ internals>:180\u001b[0m, in \u001b[0;36mcopyto\u001b[1;34m(*args, **kwargs)\u001b[0m\n",
      "\u001b[1;31mValueError\u001b[0m: invalid literal for int() with base 10: 'PYthon'"
     ]
    }
   ],
   "source": [
    "np.full((2,3,4),\"PYthon\",dtype=\"int\")"
   ]
  },
  {
   "cell_type": "code",
   "execution_count": null,
   "id": "b3aa740e",
   "metadata": {},
   "outputs": [],
   "source": []
  },
  {
   "cell_type": "code",
   "execution_count": null,
   "id": "e86d9a87",
   "metadata": {},
   "outputs": [],
   "source": []
  },
  {
   "cell_type": "code",
   "execution_count": null,
   "id": "e400a919",
   "metadata": {},
   "outputs": [],
   "source": []
  },
  {
   "cell_type": "code",
   "execution_count": 21,
   "id": "47639831",
   "metadata": {},
   "outputs": [
    {
     "data": {
      "text/plain": [
       "array([[[b'A', b'A', b'A', b'A'],\n",
       "        [b'A', b'A', b'A', b'A'],\n",
       "        [b'A', b'A', b'A', b'A']],\n",
       "\n",
       "       [[b'A', b'A', b'A', b'A'],\n",
       "        [b'A', b'A', b'A', b'A'],\n",
       "        [b'A', b'A', b'A', b'A']]], dtype='|S1')"
      ]
     },
     "execution_count": 21,
     "metadata": {},
     "output_type": "execute_result"
    }
   ],
   "source": [
    "np.full((2,3,4),\"AJ\",dtype=\"S\")"
   ]
  },
  {
   "cell_type": "code",
   "execution_count": null,
   "id": "a34be556",
   "metadata": {},
   "outputs": [],
   "source": []
  },
  {
   "cell_type": "code",
   "execution_count": null,
   "id": "d3fe482a",
   "metadata": {},
   "outputs": [],
   "source": []
  },
  {
   "cell_type": "code",
   "execution_count": null,
   "id": "34b0a4e4",
   "metadata": {},
   "outputs": [],
   "source": []
  },
  {
   "cell_type": "code",
   "execution_count": 13,
   "id": "3af970fd",
   "metadata": {},
   "outputs": [
    {
     "data": {
      "text/plain": [
       "array([[['A', 'A', 'A', 'A'],\n",
       "        ['A', 'A', 'A', 'A'],\n",
       "        ['A', 'A', 'A', 'A']],\n",
       "\n",
       "       [['A', 'A', 'A', 'A'],\n",
       "        ['A', 'A', 'A', 'A'],\n",
       "        ['A', 'A', 'A', 'A']]], dtype='<U1')"
      ]
     },
     "execution_count": 13,
     "metadata": {},
     "output_type": "execute_result"
    }
   ],
   "source": [
    "## np.full(shape,fill_value,dtype)\n",
    "## Returns a new array of given shape and type, filled with fill_value\n",
    "\n",
    "np.full((2,3,4),\"AAAA\",dtype=\"U\")"
   ]
  },
  {
   "cell_type": "code",
   "execution_count": 14,
   "id": "c7398a0b",
   "metadata": {},
   "outputs": [
    {
     "data": {
      "text/plain": [
       "array([[['ABCD', 'ABCD'],\n",
       "        ['ABCD', 'ABCD']],\n",
       "\n",
       "       [['ABCD', 'ABCD'],\n",
       "        ['ABCD', 'ABCD']]], dtype='<U5')"
      ]
     },
     "execution_count": 14,
     "metadata": {},
     "output_type": "execute_result"
    }
   ],
   "source": [
    "## np.full(shape,fill_value,dtype)\n",
    "## Returns a new array of given shape and type, filled with fill_value\n",
    "\n",
    "np.full((2,2,2),\"ABCD\",dtype=\"U5\")"
   ]
  },
  {
   "cell_type": "code",
   "execution_count": 43,
   "id": "9258e005",
   "metadata": {},
   "outputs": [
    {
     "data": {
      "text/plain": [
       "array([[['SS', 'SS']],\n",
       "\n",
       "       [['SS', 'SS']]], dtype='<U2')"
      ]
     },
     "execution_count": 43,
     "metadata": {},
     "output_type": "execute_result"
    }
   ],
   "source": [
    "## np.full(shape,fill_value,dtype)\n",
    "## Returns a new array of given shape and type, filled with fill_value\n",
    "\n",
    "np.full((2,1,2),\"SS\",dtype=\"U2\")"
   ]
  },
  {
   "cell_type": "code",
   "execution_count": 41,
   "id": "e8bd2667",
   "metadata": {},
   "outputs": [
    {
     "data": {
      "text/plain": [
       "array([[['18', '18'],\n",
       "        ['18', '18']],\n",
       "\n",
       "       [['18', '18'],\n",
       "        ['18', '18']]], dtype='<U2')"
      ]
     },
     "execution_count": 41,
     "metadata": {},
     "output_type": "execute_result"
    }
   ],
   "source": [
    "## np.full(shape,fill_value,dtype)\n",
    "## Returns a new array of given shape and type, filled with fill_value\n",
    "\n",
    "np.full((2,2,2),\"18\",dtype=\"U2\")"
   ]
  },
  {
   "cell_type": "code",
   "execution_count": 42,
   "id": "1b8612a3",
   "metadata": {},
   "outputs": [
    {
     "data": {
      "text/plain": [
       "array([[[18, 18],\n",
       "        [18, 18]],\n",
       "\n",
       "       [[18, 18],\n",
       "        [18, 18]]], dtype=int16)"
      ]
     },
     "execution_count": 42,
     "metadata": {},
     "output_type": "execute_result"
    }
   ],
   "source": [
    "## np.full(shape,fill_value,dtype)\n",
    "## Returns a new array of given shape and type, filled with fill_value\n",
    "\n",
    "np.full((2,2,2),\"18\",dtype=\"int16\")"
   ]
  },
  {
   "cell_type": "code",
   "execution_count": 64,
   "id": "e62c563c",
   "metadata": {},
   "outputs": [
    {
     "data": {
      "text/plain": [
       "array([[[18, 18],\n",
       "        [18, 18]],\n",
       "\n",
       "       [[18, 18],\n",
       "        [18, 18]]], dtype=int16)"
      ]
     },
     "execution_count": 64,
     "metadata": {},
     "output_type": "execute_result"
    }
   ],
   "source": [
    "np.full((2,2,2),\"18\",\"int16\")"
   ]
  },
  {
   "cell_type": "code",
   "execution_count": 65,
   "id": "00ada0c9",
   "metadata": {},
   "outputs": [
    {
     "data": {
      "text/plain": [
       "array([[[18, 18],\n",
       "        [18, 18]],\n",
       "\n",
       "       [[18, 18],\n",
       "        [18, 18]]], dtype=int8)"
      ]
     },
     "execution_count": 65,
     "metadata": {},
     "output_type": "execute_result"
    }
   ],
   "source": [
    "np.full((2,2,2),\"18\",\"int8\")"
   ]
  },
  {
   "cell_type": "code",
   "execution_count": 46,
   "id": "8786228c",
   "metadata": {},
   "outputs": [
    {
     "ename": "TypeError",
     "evalue": "full() missing 2 required positional arguments: 'shape' and 'fill_value'",
     "output_type": "error",
     "traceback": [
      "\u001b[1;31m---------------------------------------------------------------------------\u001b[0m",
      "\u001b[1;31mTypeError\u001b[0m                                 Traceback (most recent call last)",
      "Cell \u001b[1;32mIn[46], line 4\u001b[0m\n\u001b[0;32m      1\u001b[0m \u001b[38;5;66;03m## np.full(shape,fill_value,dtype)\u001b[39;00m\n\u001b[0;32m      2\u001b[0m \u001b[38;5;66;03m## Returns a new array of given shape and type, filled with fill_value\u001b[39;00m\n\u001b[1;32m----> 4\u001b[0m \u001b[43mnp\u001b[49m\u001b[38;5;241;43m.\u001b[39;49m\u001b[43mfull\u001b[49m\u001b[43m(\u001b[49m\u001b[43mdtype\u001b[49m\u001b[38;5;241;43m=\u001b[39;49m\u001b[38;5;124;43m\"\u001b[39;49m\u001b[38;5;124;43mint16\u001b[39;49m\u001b[38;5;124;43m\"\u001b[39;49m\u001b[43m)\u001b[49m\n",
      "\u001b[1;31mTypeError\u001b[0m: full() missing 2 required positional arguments: 'shape' and 'fill_value'"
     ]
    }
   ],
   "source": [
    "## np.full(shape,fill_value,dtype)\n",
    "## Returns a new array of given shape and type, filled with fill_value\n",
    "\n",
    "np.full(dtype=\"int16\")"
   ]
  },
  {
   "cell_type": "code",
   "execution_count": 47,
   "id": "422eaad5",
   "metadata": {},
   "outputs": [
    {
     "data": {
      "text/plain": [
       "dtype('int32')"
      ]
     },
     "execution_count": 47,
     "metadata": {},
     "output_type": "execute_result"
    }
   ],
   "source": [
    "## np.full(shape,fill_value,dtype)\n",
    "## Returns a new array of given shape and type, filled with fill_value\n",
    "\n",
    "np.full((2,3,4),9).dtype"
   ]
  },
  {
   "cell_type": "code",
   "execution_count": 49,
   "id": "80f851ca",
   "metadata": {},
   "outputs": [
    {
     "data": {
      "text/plain": [
       "16"
      ]
     },
     "execution_count": 49,
     "metadata": {},
     "output_type": "execute_result"
    }
   ],
   "source": [
    "np.full((2,2,4),9).size"
   ]
  },
  {
   "cell_type": "code",
   "execution_count": 50,
   "id": "01a4c69f",
   "metadata": {},
   "outputs": [
    {
     "data": {
      "text/plain": [
       "(2, 2, 4)"
      ]
     },
     "execution_count": 50,
     "metadata": {},
     "output_type": "execute_result"
    }
   ],
   "source": [
    "np.full((2,2,4),9).shape"
   ]
  },
  {
   "cell_type": "code",
   "execution_count": 51,
   "id": "14ac9ad8",
   "metadata": {},
   "outputs": [
    {
     "data": {
      "text/plain": [
       "3"
      ]
     },
     "execution_count": 51,
     "metadata": {},
     "output_type": "execute_result"
    }
   ],
   "source": [
    "np.full((2,2,4),9).ndim"
   ]
  },
  {
   "cell_type": "code",
   "execution_count": 52,
   "id": "f7a55155",
   "metadata": {},
   "outputs": [
    {
     "data": {
      "text/plain": [
       "dtype('float64')"
      ]
     },
     "execution_count": 52,
     "metadata": {},
     "output_type": "execute_result"
    }
   ],
   "source": [
    "np.empty((2,2,2)).dtype"
   ]
  },
  {
   "cell_type": "code",
   "execution_count": 53,
   "id": "c6936326",
   "metadata": {},
   "outputs": [
    {
     "data": {
      "text/plain": [
       "3"
      ]
     },
     "execution_count": 53,
     "metadata": {},
     "output_type": "execute_result"
    }
   ],
   "source": [
    "np.empty((2,2,2)).ndim"
   ]
  },
  {
   "cell_type": "code",
   "execution_count": 54,
   "id": "ba64f7ae",
   "metadata": {},
   "outputs": [
    {
     "data": {
      "text/plain": [
       "8"
      ]
     },
     "execution_count": 54,
     "metadata": {},
     "output_type": "execute_result"
    }
   ],
   "source": [
    "np.empty((2,2,2)).size"
   ]
  },
  {
   "cell_type": "code",
   "execution_count": 55,
   "id": "f03b5bc2",
   "metadata": {},
   "outputs": [
    {
     "data": {
      "text/plain": [
       "(2, 2, 2)"
      ]
     },
     "execution_count": 55,
     "metadata": {},
     "output_type": "execute_result"
    }
   ],
   "source": [
    "np.empty((2,2,2)).shape"
   ]
  },
  {
   "cell_type": "code",
   "execution_count": 56,
   "id": "0169abba",
   "metadata": {},
   "outputs": [
    {
     "data": {
      "text/plain": [
       "dtype('float64')"
      ]
     },
     "execution_count": 56,
     "metadata": {},
     "output_type": "execute_result"
    }
   ],
   "source": [
    "np.ones((2,2,2)).dtype"
   ]
  },
  {
   "cell_type": "code",
   "execution_count": 57,
   "id": "29bd38cf",
   "metadata": {},
   "outputs": [
    {
     "data": {
      "text/plain": [
       "3"
      ]
     },
     "execution_count": 57,
     "metadata": {},
     "output_type": "execute_result"
    }
   ],
   "source": [
    "np.ones((2,2,2)).ndim"
   ]
  },
  {
   "cell_type": "code",
   "execution_count": 58,
   "id": "3e80b3db",
   "metadata": {},
   "outputs": [
    {
     "ename": "AttributeError",
     "evalue": "'numpy.ndarray' object has no attribute 'empty'",
     "output_type": "error",
     "traceback": [
      "\u001b[1;31m---------------------------------------------------------------------------\u001b[0m",
      "\u001b[1;31mAttributeError\u001b[0m                            Traceback (most recent call last)",
      "Cell \u001b[1;32mIn[58], line 1\u001b[0m\n\u001b[1;32m----> 1\u001b[0m \u001b[43mnp\u001b[49m\u001b[38;5;241;43m.\u001b[39;49m\u001b[43mones\u001b[49m\u001b[43m(\u001b[49m\u001b[43m(\u001b[49m\u001b[38;5;241;43m2\u001b[39;49m\u001b[43m,\u001b[49m\u001b[38;5;241;43m2\u001b[39;49m\u001b[43m,\u001b[49m\u001b[38;5;241;43m2\u001b[39;49m\u001b[43m)\u001b[49m\u001b[43m)\u001b[49m\u001b[38;5;241;43m.\u001b[39;49m\u001b[43mempty\u001b[49m\n",
      "\u001b[1;31mAttributeError\u001b[0m: 'numpy.ndarray' object has no attribute 'empty'"
     ]
    }
   ],
   "source": [
    "np.ones((2,2,2)).empty"
   ]
  },
  {
   "cell_type": "code",
   "execution_count": 59,
   "id": "7dd304aa",
   "metadata": {},
   "outputs": [
    {
     "ename": "AttributeError",
     "evalue": "'numpy.ndarray' object has no attribute 'full'",
     "output_type": "error",
     "traceback": [
      "\u001b[1;31m---------------------------------------------------------------------------\u001b[0m",
      "\u001b[1;31mAttributeError\u001b[0m                            Traceback (most recent call last)",
      "Cell \u001b[1;32mIn[59], line 1\u001b[0m\n\u001b[1;32m----> 1\u001b[0m \u001b[43mnp\u001b[49m\u001b[38;5;241;43m.\u001b[39;49m\u001b[43mones\u001b[49m\u001b[43m(\u001b[49m\u001b[43m(\u001b[49m\u001b[38;5;241;43m2\u001b[39;49m\u001b[43m,\u001b[49m\u001b[38;5;241;43m2\u001b[39;49m\u001b[43m,\u001b[49m\u001b[38;5;241;43m2\u001b[39;49m\u001b[43m)\u001b[49m\u001b[43m)\u001b[49m\u001b[38;5;241;43m.\u001b[39;49m\u001b[43mfull\u001b[49m\n",
      "\u001b[1;31mAttributeError\u001b[0m: 'numpy.ndarray' object has no attribute 'full'"
     ]
    }
   ],
   "source": [
    "np.ones((2,2,2)).full"
   ]
  },
  {
   "cell_type": "code",
   "execution_count": 60,
   "id": "480dd470",
   "metadata": {},
   "outputs": [
    {
     "data": {
      "text/plain": [
       "array([[[1., 1., 1., 1., 1., 1., 1., 1.]]])"
      ]
     },
     "execution_count": 60,
     "metadata": {},
     "output_type": "execute_result"
    }
   ],
   "source": [
    "np.ones((2,2,2)).reshape(1,1,8)"
   ]
  },
  {
   "cell_type": "code",
   "execution_count": 61,
   "id": "44ab408b",
   "metadata": {},
   "outputs": [
    {
     "ename": "AttributeError",
     "evalue": "'numpy.ndarray' object has no attribute 'empty'",
     "output_type": "error",
     "traceback": [
      "\u001b[1;31m---------------------------------------------------------------------------\u001b[0m",
      "\u001b[1;31mAttributeError\u001b[0m                            Traceback (most recent call last)",
      "Cell \u001b[1;32mIn[61], line 1\u001b[0m\n\u001b[1;32m----> 1\u001b[0m \u001b[43mnp\u001b[49m\u001b[38;5;241;43m.\u001b[39;49m\u001b[43mones\u001b[49m\u001b[43m(\u001b[49m\u001b[43m(\u001b[49m\u001b[38;5;241;43m2\u001b[39;49m\u001b[43m,\u001b[49m\u001b[38;5;241;43m2\u001b[39;49m\u001b[43m,\u001b[49m\u001b[38;5;241;43m2\u001b[39;49m\u001b[43m)\u001b[49m\u001b[43m)\u001b[49m\u001b[38;5;241;43m.\u001b[39;49m\u001b[43mempty\u001b[49m((\u001b[38;5;241m1\u001b[39m,\u001b[38;5;241m1\u001b[39m,\u001b[38;5;241m8\u001b[39m))\n",
      "\u001b[1;31mAttributeError\u001b[0m: 'numpy.ndarray' object has no attribute 'empty'"
     ]
    }
   ],
   "source": [
    "np.ones((2,2,2)).empty((1,1,8))"
   ]
  },
  {
   "cell_type": "code",
   "execution_count": 62,
   "id": "4bf0b899",
   "metadata": {},
   "outputs": [
    {
     "data": {
      "text/plain": [
       "dtype('int32')"
      ]
     },
     "execution_count": 62,
     "metadata": {},
     "output_type": "execute_result"
    }
   ],
   "source": [
    "y = np.array([1,2,3,4,5])\n",
    "y.dtype"
   ]
  },
  {
   "cell_type": "code",
   "execution_count": 63,
   "id": "b61e5796",
   "metadata": {},
   "outputs": [
    {
     "data": {
      "text/plain": [
       "dtype('int32')"
      ]
     },
     "execution_count": 63,
     "metadata": {},
     "output_type": "execute_result"
    }
   ],
   "source": [
    "np.array([1,2,3,4,5]).dtype"
   ]
  },
  {
   "cell_type": "markdown",
   "id": "28bd81fb",
   "metadata": {},
   "source": [
    "<font size = 5.5> 22_Sept_2023"
   ]
  },
  {
   "cell_type": "markdown",
   "id": "34b6c59a",
   "metadata": {},
   "source": [
    "<font size = 5.5>  --- np.arange(start,stop,step,dtype).....syntax"
   ]
  },
  {
   "cell_type": "code",
   "execution_count": 16,
   "id": "f2b7c6aa",
   "metadata": {},
   "outputs": [
    {
     "data": {
      "text/plain": [
       "array([ 2,  4,  6,  8, 10])"
      ]
     },
     "execution_count": 16,
     "metadata": {},
     "output_type": "execute_result"
    }
   ],
   "source": [
    "## np.arange(start,stop,step,dtype)\n",
    "## Returns enenly spaced values within a given interval.\n",
    "#### Stop value is excluded........\n",
    "#### Step is controlled by us......\n",
    "import numpy as np\n",
    "np.arange(2,11,2)"
   ]
  },
  {
   "cell_type": "code",
   "execution_count": 28,
   "id": "d00f9553",
   "metadata": {},
   "outputs": [
    {
     "data": {
      "text/plain": [
       "array([ 2.2,  4.4,  6.6,  8.8, 11. ])"
      ]
     },
     "execution_count": 28,
     "metadata": {},
     "output_type": "execute_result"
    }
   ],
   "source": [
    "### Can we use floating point--start,stop,step?\n",
    "np.arange(2.2,12.2,2.2)"
   ]
  },
  {
   "cell_type": "code",
   "execution_count": 2,
   "id": "121a1826",
   "metadata": {},
   "outputs": [
    {
     "data": {
      "text/plain": [
       "[3, 5, 7, 9]"
      ]
     },
     "execution_count": 2,
     "metadata": {},
     "output_type": "execute_result"
    }
   ],
   "source": [
    "list(range(3,10,2))"
   ]
  },
  {
   "cell_type": "code",
   "execution_count": 3,
   "id": "4e674ed1",
   "metadata": {},
   "outputs": [
    {
     "ename": "TypeError",
     "evalue": "'float' object cannot be interpreted as an integer",
     "output_type": "error",
     "traceback": [
      "\u001b[1;31m---------------------------------------------------------------------------\u001b[0m",
      "\u001b[1;31mTypeError\u001b[0m                                 Traceback (most recent call last)",
      "Cell \u001b[1;32mIn[3], line 1\u001b[0m\n\u001b[1;32m----> 1\u001b[0m \u001b[38;5;28mlist\u001b[39m(\u001b[38;5;28;43mrange\u001b[39;49m\u001b[43m(\u001b[49m\u001b[38;5;241;43m3\u001b[39;49m\u001b[43m,\u001b[49m\u001b[38;5;241;43m10.2\u001b[39;49m\u001b[43m,\u001b[49m\u001b[38;5;241;43m2\u001b[39;49m\u001b[43m)\u001b[49m)\n",
      "\u001b[1;31mTypeError\u001b[0m: 'float' object cannot be interpreted as an integer"
     ]
    }
   ],
   "source": [
    "list(range(3,10.2,2))"
   ]
  },
  {
   "cell_type": "code",
   "execution_count": 4,
   "id": "53fece20",
   "metadata": {},
   "outputs": [
    {
     "data": {
      "text/plain": [
       "array([ 2.,  4.,  6.,  8., 10.])"
      ]
     },
     "execution_count": 4,
     "metadata": {},
     "output_type": "execute_result"
    }
   ],
   "source": [
    "np.arange(2,11.2,2)"
   ]
  },
  {
   "cell_type": "code",
   "execution_count": 5,
   "id": "67fe8941",
   "metadata": {},
   "outputs": [
    {
     "data": {
      "text/plain": [
       "array([ 2. ,  4.1,  6.2,  8.3, 10.4])"
      ]
     },
     "execution_count": 5,
     "metadata": {},
     "output_type": "execute_result"
    }
   ],
   "source": [
    "np.arange(2,11.2,2.1)"
   ]
  },
  {
   "cell_type": "code",
   "execution_count": 6,
   "id": "06b875d7",
   "metadata": {},
   "outputs": [
    {
     "ename": "NameError",
     "evalue": "name 'a' is not defined",
     "output_type": "error",
     "traceback": [
      "\u001b[1;31m---------------------------------------------------------------------------\u001b[0m",
      "\u001b[1;31mNameError\u001b[0m                                 Traceback (most recent call last)",
      "Cell \u001b[1;32mIn[6], line 1\u001b[0m\n\u001b[1;32m----> 1\u001b[0m np\u001b[38;5;241m.\u001b[39marange(\u001b[43ma\u001b[49m,j,\u001b[38;5;241m2\u001b[39m)\n",
      "\u001b[1;31mNameError\u001b[0m: name 'a' is not defined"
     ]
    }
   ],
   "source": [
    "np.arange(a,j,2)"
   ]
  },
  {
   "cell_type": "code",
   "execution_count": 7,
   "id": "2dc13ff4",
   "metadata": {},
   "outputs": [
    {
     "data": {
      "text/plain": [
       "array([ 2.1,  4.3,  6.5,  8.7, 10.9, 13.1])"
      ]
     },
     "execution_count": 7,
     "metadata": {},
     "output_type": "execute_result"
    }
   ],
   "source": [
    "## Can we use floating point start, stop and step? ------- Yes\n",
    "np.arange(2.1,13.2,2.2)"
   ]
  },
  {
   "cell_type": "code",
   "execution_count": 8,
   "id": "f9f92f90",
   "metadata": {},
   "outputs": [
    {
     "data": {
      "text/plain": [
       "array([ 2,  4,  6,  8, 10, 12])"
      ]
     },
     "execution_count": 8,
     "metadata": {},
     "output_type": "execute_result"
    }
   ],
   "source": [
    "np.arange(2.1,13.2,2.2,int)"
   ]
  },
  {
   "cell_type": "code",
   "execution_count": 9,
   "id": "6fcd95fa",
   "metadata": {},
   "outputs": [
    {
     "ename": "NameError",
     "evalue": "name 'uint' is not defined",
     "output_type": "error",
     "traceback": [
      "\u001b[1;31m---------------------------------------------------------------------------\u001b[0m",
      "\u001b[1;31mNameError\u001b[0m                                 Traceback (most recent call last)",
      "Cell \u001b[1;32mIn[9], line 1\u001b[0m\n\u001b[1;32m----> 1\u001b[0m np\u001b[38;5;241m.\u001b[39marange(\u001b[38;5;241m2.1\u001b[39m,\u001b[38;5;241m13.2\u001b[39m,\u001b[38;5;241m2.2\u001b[39m,\u001b[43muint\u001b[49m)\n",
      "\u001b[1;31mNameError\u001b[0m: name 'uint' is not defined"
     ]
    }
   ],
   "source": [
    "np.arange(2.1,13.2,2.2,uint)"
   ]
  },
  {
   "cell_type": "code",
   "execution_count": 10,
   "id": "208cfdcf",
   "metadata": {},
   "outputs": [
    {
     "ename": "ValueError",
     "evalue": "no fill-function for data-type.",
     "output_type": "error",
     "traceback": [
      "\u001b[1;31m---------------------------------------------------------------------------\u001b[0m",
      "\u001b[1;31mValueError\u001b[0m                                Traceback (most recent call last)",
      "Cell \u001b[1;32mIn[10], line 1\u001b[0m\n\u001b[1;32m----> 1\u001b[0m \u001b[43mnp\u001b[49m\u001b[38;5;241;43m.\u001b[39;49m\u001b[43marange\u001b[49m\u001b[43m(\u001b[49m\u001b[38;5;241;43m2.1\u001b[39;49m\u001b[43m,\u001b[49m\u001b[38;5;241;43m13.2\u001b[39;49m\u001b[43m,\u001b[49m\u001b[38;5;241;43m2.2\u001b[39;49m\u001b[43m,\u001b[49m\u001b[38;5;28;43mbool\u001b[39;49m\u001b[43m)\u001b[49m\n",
      "\u001b[1;31mValueError\u001b[0m: no fill-function for data-type."
     ]
    }
   ],
   "source": [
    "np.arange(2.1,13.2,2.2,bool)"
   ]
  },
  {
   "cell_type": "code",
   "execution_count": 11,
   "id": "95a0288b",
   "metadata": {},
   "outputs": [
    {
     "data": {
      "text/plain": [
       "array([ 2.1+0.j,  4.3+0.j,  6.5+0.j,  8.7+0.j, 10.9+0.j, 13.1+0.j])"
      ]
     },
     "execution_count": 11,
     "metadata": {},
     "output_type": "execute_result"
    }
   ],
   "source": [
    "np.arange(2.1,13.2,2.2,complex)"
   ]
  },
  {
   "cell_type": "code",
   "execution_count": 13,
   "id": "d4eabee5",
   "metadata": {},
   "outputs": [
    {
     "data": {
      "text/plain": [
       "array([ 2.,  4.,  6.,  8., 10., 12.])"
      ]
     },
     "execution_count": 13,
     "metadata": {},
     "output_type": "execute_result"
    }
   ],
   "source": [
    "np.arange(2,13,2,dtype=\"float\")"
   ]
  },
  {
   "cell_type": "code",
   "execution_count": 14,
   "id": "356a7036",
   "metadata": {},
   "outputs": [
    {
     "data": {
      "text/plain": [
       "array([], dtype=bool)"
      ]
     },
     "execution_count": 14,
     "metadata": {},
     "output_type": "execute_result"
    }
   ],
   "source": [
    "np.arange(15,13,2,bool)"
   ]
  },
  {
   "cell_type": "markdown",
   "id": "be6f13b2",
   "metadata": {},
   "source": [
    "<font size = 5.5> ----  np.linspace"
   ]
  },
  {
   "cell_type": "code",
   "execution_count": 27,
   "id": "97011378",
   "metadata": {},
   "outputs": [
    {
     "name": "stdout",
     "output_type": "stream",
     "text": [
      "50\n"
     ]
    },
    {
     "data": {
      "text/plain": [
       "array([ 2.        ,  2.16326531,  2.32653061,  2.48979592,  2.65306122,\n",
       "        2.81632653,  2.97959184,  3.14285714,  3.30612245,  3.46938776,\n",
       "        3.63265306,  3.79591837,  3.95918367,  4.12244898,  4.28571429,\n",
       "        4.44897959,  4.6122449 ,  4.7755102 ,  4.93877551,  5.10204082,\n",
       "        5.26530612,  5.42857143,  5.59183673,  5.75510204,  5.91836735,\n",
       "        6.08163265,  6.24489796,  6.40816327,  6.57142857,  6.73469388,\n",
       "        6.89795918,  7.06122449,  7.2244898 ,  7.3877551 ,  7.55102041,\n",
       "        7.71428571,  7.87755102,  8.04081633,  8.20408163,  8.36734694,\n",
       "        8.53061224,  8.69387755,  8.85714286,  9.02040816,  9.18367347,\n",
       "        9.34693878,  9.51020408,  9.67346939,  9.83673469, 10.        ])"
      ]
     },
     "execution_count": 27,
     "metadata": {},
     "output_type": "execute_result"
    }
   ],
   "source": [
    "## np.linspace(start,stop,num=50,endpoint=True,dtype)\n",
    "## Returns evenly spaced numbers over a specified interval.\n",
    "\n",
    "\n",
    "#### What do num=50 and endpoint=True suggest here? \n",
    "## endpoint=Ture  ----- stop value is inclued....\n",
    "## endpoint=False  ----- stop value is Exclued....\n",
    "## Defaul num=50 is the default value and gives 50 numbers in between start and stop values....\n",
    "#### num=50 is the defaut value of num when not given i.e. , it will give 50 numbers in the range....\n",
    "#### endpoint=True is the default value of endpoint which tells us that the stop value is inclusive by Default....\n",
    "\n",
    "print(np.linspace(2,10).size)\n",
    "np.linspace(2,10)"
   ]
  },
  {
   "cell_type": "code",
   "execution_count": 16,
   "id": "6df49e51",
   "metadata": {},
   "outputs": [
    {
     "data": {
      "text/plain": [
       "array([2.        , 3.14285714, 4.28571429, 5.42857143, 6.57142857,\n",
       "       7.71428571, 8.85714286])"
      ]
     },
     "execution_count": 16,
     "metadata": {},
     "output_type": "execute_result"
    }
   ],
   "source": [
    "np.linspace(2,10,7,endpoint=False)"
   ]
  },
  {
   "cell_type": "code",
   "execution_count": 17,
   "id": "bfb422a0",
   "metadata": {},
   "outputs": [
    {
     "data": {
      "text/plain": [
       "array([2.2       , 3.34285714, 4.48571429, 5.62857143, 6.77142857,\n",
       "       7.91428571, 9.05714286])"
      ]
     },
     "execution_count": 17,
     "metadata": {},
     "output_type": "execute_result"
    }
   ],
   "source": [
    "np.linspace(2.2,10.2,7,endpoint=False)"
   ]
  },
  {
   "cell_type": "code",
   "execution_count": 18,
   "id": "4c7cde61",
   "metadata": {},
   "outputs": [
    {
     "ename": "TypeError",
     "evalue": "'float' object cannot be interpreted as an integer",
     "output_type": "error",
     "traceback": [
      "\u001b[1;31m---------------------------------------------------------------------------\u001b[0m",
      "\u001b[1;31mTypeError\u001b[0m                                 Traceback (most recent call last)",
      "Cell \u001b[1;32mIn[18], line 1\u001b[0m\n\u001b[1;32m----> 1\u001b[0m \u001b[43mnp\u001b[49m\u001b[38;5;241;43m.\u001b[39;49m\u001b[43mlinspace\u001b[49m\u001b[43m(\u001b[49m\u001b[38;5;241;43m2.2\u001b[39;49m\u001b[43m,\u001b[49m\u001b[38;5;241;43m10.2\u001b[39;49m\u001b[43m,\u001b[49m\u001b[38;5;241;43m7.5\u001b[39;49m\u001b[43m,\u001b[49m\u001b[43mendpoint\u001b[49m\u001b[38;5;241;43m=\u001b[39;49m\u001b[38;5;28;43;01mFalse\u001b[39;49;00m\u001b[43m)\u001b[49m\n",
      "File \u001b[1;32m<__array_function__ internals>:180\u001b[0m, in \u001b[0;36mlinspace\u001b[1;34m(*args, **kwargs)\u001b[0m\n",
      "File \u001b[1;32me:\\Users\\user\\anaconda3\\lib\\site-packages\\numpy\\core\\function_base.py:120\u001b[0m, in \u001b[0;36mlinspace\u001b[1;34m(start, stop, num, endpoint, retstep, dtype, axis)\u001b[0m\n\u001b[0;32m     23\u001b[0m \u001b[38;5;129m@array_function_dispatch\u001b[39m(_linspace_dispatcher)\n\u001b[0;32m     24\u001b[0m \u001b[38;5;28;01mdef\u001b[39;00m \u001b[38;5;21mlinspace\u001b[39m(start, stop, num\u001b[38;5;241m=\u001b[39m\u001b[38;5;241m50\u001b[39m, endpoint\u001b[38;5;241m=\u001b[39m\u001b[38;5;28;01mTrue\u001b[39;00m, retstep\u001b[38;5;241m=\u001b[39m\u001b[38;5;28;01mFalse\u001b[39;00m, dtype\u001b[38;5;241m=\u001b[39m\u001b[38;5;28;01mNone\u001b[39;00m,\n\u001b[0;32m     25\u001b[0m              axis\u001b[38;5;241m=\u001b[39m\u001b[38;5;241m0\u001b[39m):\n\u001b[0;32m     26\u001b[0m     \u001b[38;5;124;03m\"\"\"\u001b[39;00m\n\u001b[0;32m     27\u001b[0m \u001b[38;5;124;03m    Return evenly spaced numbers over a specified interval.\u001b[39;00m\n\u001b[0;32m     28\u001b[0m \n\u001b[1;32m   (...)\u001b[0m\n\u001b[0;32m    118\u001b[0m \n\u001b[0;32m    119\u001b[0m \u001b[38;5;124;03m    \"\"\"\u001b[39;00m\n\u001b[1;32m--> 120\u001b[0m     num \u001b[38;5;241m=\u001b[39m \u001b[43moperator\u001b[49m\u001b[38;5;241;43m.\u001b[39;49m\u001b[43mindex\u001b[49m\u001b[43m(\u001b[49m\u001b[43mnum\u001b[49m\u001b[43m)\u001b[49m\n\u001b[0;32m    121\u001b[0m     \u001b[38;5;28;01mif\u001b[39;00m num \u001b[38;5;241m<\u001b[39m \u001b[38;5;241m0\u001b[39m:\n\u001b[0;32m    122\u001b[0m         \u001b[38;5;28;01mraise\u001b[39;00m \u001b[38;5;167;01mValueError\u001b[39;00m(\u001b[38;5;124m\"\u001b[39m\u001b[38;5;124mNumber of samples, \u001b[39m\u001b[38;5;132;01m%s\u001b[39;00m\u001b[38;5;124m, must be non-negative.\u001b[39m\u001b[38;5;124m\"\u001b[39m \u001b[38;5;241m%\u001b[39m num)\n",
      "\u001b[1;31mTypeError\u001b[0m: 'float' object cannot be interpreted as an integer"
     ]
    }
   ],
   "source": [
    "np.linspace(2.2,10.2,7.5,endpoint=False)"
   ]
  },
  {
   "cell_type": "code",
   "execution_count": 19,
   "id": "c81faed2",
   "metadata": {},
   "outputs": [
    {
     "data": {
      "text/plain": [
       "array([ 2.2       ,  3.53333333,  4.86666667,  6.2       ,  7.53333333,\n",
       "        8.86666667, 10.2       ])"
      ]
     },
     "execution_count": 19,
     "metadata": {},
     "output_type": "execute_result"
    }
   ],
   "source": [
    "np.linspace(2.2,10.2,7)"
   ]
  },
  {
   "cell_type": "code",
   "execution_count": 20,
   "id": "8f013e89",
   "metadata": {},
   "outputs": [
    {
     "data": {
      "text/plain": [
       "array([ 2.2       ,  3.53333333,  4.86666667,  6.2       ,  7.53333333,\n",
       "        8.86666667, 10.2       ])"
      ]
     },
     "execution_count": 20,
     "metadata": {},
     "output_type": "execute_result"
    }
   ],
   "source": [
    "np.linspace(2.2,10.2,7,endpoint=bool)"
   ]
  },
  {
   "cell_type": "code",
   "execution_count": 21,
   "id": "d60f68a4",
   "metadata": {},
   "outputs": [
    {
     "data": {
      "text/plain": [
       "array([ 2.2       +0.j,  3.53333333+0.j,  4.86666667+0.j,  6.2       +0.j,\n",
       "        7.53333333+0.j,  8.86666667+0.j, 10.2       +0.j])"
      ]
     },
     "execution_count": 21,
     "metadata": {},
     "output_type": "execute_result"
    }
   ],
   "source": [
    "np.linspace(2.2,10.2,7,endpoint=bool,dtype=complex)"
   ]
  },
  {
   "cell_type": "code",
   "execution_count": 23,
   "id": "4727aff0",
   "metadata": {},
   "outputs": [
    {
     "data": {
      "text/plain": [
       "array([ 2,  3,  3,  4,  5,  6,  7,  8,  9, 10])"
      ]
     },
     "execution_count": 23,
     "metadata": {},
     "output_type": "execute_result"
    }
   ],
   "source": [
    "np.linspace(2.2,10.2,num=10,endpoint=bool,dtype=int)"
   ]
  },
  {
   "cell_type": "code",
   "execution_count": 25,
   "id": "0a28f618",
   "metadata": {},
   "outputs": [
    {
     "data": {
      "text/plain": [
       "array([ 2.2       ,  3.08888889,  3.97777778,  4.86666667,  5.75555556,\n",
       "        6.64444444,  7.53333333,  8.42222222,  9.31111111, 10.2       ])"
      ]
     },
     "execution_count": 25,
     "metadata": {},
     "output_type": "execute_result"
    }
   ],
   "source": [
    "np.linspace(2.2,10.2,num=10,endpoint=bool,dtype=float)"
   ]
  },
  {
   "cell_type": "code",
   "execution_count": 24,
   "id": "c6a5d610",
   "metadata": {},
   "outputs": [
    {
     "data": {
      "text/plain": [
       "array([ 2,  3,  5,  6,  7,  9, 10, 12, 13, 15])"
      ]
     },
     "execution_count": 24,
     "metadata": {},
     "output_type": "execute_result"
    }
   ],
   "source": [
    "np.linspace(2.2,15,num=10,endpoint=bool,dtype=int)"
   ]
  },
  {
   "cell_type": "code",
   "execution_count": 28,
   "id": "438ecf9d",
   "metadata": {},
   "outputs": [
    {
     "ename": "TypeError",
     "evalue": "array() missing required argument 'object' (pos 0)",
     "output_type": "error",
     "traceback": [
      "\u001b[1;31m---------------------------------------------------------------------------\u001b[0m",
      "\u001b[1;31mTypeError\u001b[0m                                 Traceback (most recent call last)",
      "Cell \u001b[1;32mIn[28], line 1\u001b[0m\n\u001b[1;32m----> 1\u001b[0m np\u001b[38;5;241m.\u001b[39marray(\u001b[43mnp\u001b[49m\u001b[38;5;241;43m.\u001b[39;49m\u001b[43marray\u001b[49m\u001b[43m(\u001b[49m\u001b[43m)\u001b[49m)\n",
      "\u001b[1;31mTypeError\u001b[0m: array() missing required argument 'object' (pos 0)"
     ]
    }
   ],
   "source": [
    "np.array(np.array())"
   ]
  },
  {
   "cell_type": "code",
   "execution_count": 29,
   "id": "35e2b4db",
   "metadata": {},
   "outputs": [
    {
     "ename": "NameError",
     "evalue": "name 'a' is not defined",
     "output_type": "error",
     "traceback": [
      "\u001b[1;31m---------------------------------------------------------------------------\u001b[0m",
      "\u001b[1;31mNameError\u001b[0m                                 Traceback (most recent call last)",
      "Cell \u001b[1;32mIn[29], line 1\u001b[0m\n\u001b[1;32m----> 1\u001b[0m np\u001b[38;5;241m.\u001b[39marray(np\u001b[38;5;241m.\u001b[39marray({\u001b[43ma\u001b[49m:\u001b[38;5;241m1\u001b[39m}))\n",
      "\u001b[1;31mNameError\u001b[0m: name 'a' is not defined"
     ]
    }
   ],
   "source": [
    "np.array(np.array({a:1}))"
   ]
  },
  {
   "cell_type": "code",
   "execution_count": 30,
   "id": "938315d0",
   "metadata": {},
   "outputs": [
    {
     "data": {
      "text/plain": [
       "array([1, 2, 2, 2])"
      ]
     },
     "execution_count": 30,
     "metadata": {},
     "output_type": "execute_result"
    }
   ],
   "source": [
    "np.array(np.array([1,2,2,2]))"
   ]
  },
  {
   "cell_type": "code",
   "execution_count": 31,
   "id": "785405d4",
   "metadata": {},
   "outputs": [
    {
     "data": {
      "text/plain": [
       "array([1, 2, 3, 4, 5])"
      ]
     },
     "execution_count": 31,
     "metadata": {},
     "output_type": "execute_result"
    }
   ],
   "source": [
    "x = np.array([1,2,3,4,5])\n",
    "np.array(x)"
   ]
  },
  {
   "cell_type": "code",
   "execution_count": 32,
   "id": "997eba8b",
   "metadata": {},
   "outputs": [
    {
     "name": "stderr",
     "output_type": "stream",
     "text": [
      "C:\\Users\\user\\AppData\\Local\\Temp\\ipykernel_324\\1693542632.py:2: VisibleDeprecationWarning: Creating an ndarray from ragged nested sequences (which is a list-or-tuple of lists-or-tuples-or ndarrays with different lengths or shapes) is deprecated. If you meant to do this, you must specify 'dtype=object' when creating the ndarray.\n",
      "  np.array([x,22,33,44,55])\n"
     ]
    },
    {
     "data": {
      "text/plain": [
       "array([array([1, 2, 3, 4, 5]), 22, 33, 44, 55], dtype=object)"
      ]
     },
     "execution_count": 32,
     "metadata": {},
     "output_type": "execute_result"
    }
   ],
   "source": [
    "x = np.array([1,2,3,4,5])\n",
    "np.array([x,22,33,44,55])"
   ]
  },
  {
   "cell_type": "code",
   "execution_count": 33,
   "id": "b19bdf3f",
   "metadata": {},
   "outputs": [
    {
     "ename": "NameError",
     "evalue": "name 'a' is not defined",
     "output_type": "error",
     "traceback": [
      "\u001b[1;31m---------------------------------------------------------------------------\u001b[0m",
      "\u001b[1;31mNameError\u001b[0m                                 Traceback (most recent call last)",
      "Cell \u001b[1;32mIn[33], line 1\u001b[0m\n\u001b[1;32m----> 1\u001b[0m x \u001b[38;5;241m=\u001b[39m {\u001b[43ma\u001b[49m:\u001b[38;5;241m1\u001b[39m,b:\u001b[38;5;241m2\u001b[39m}\n\u001b[0;32m      2\u001b[0m np\u001b[38;5;241m.\u001b[39marray([x,\u001b[38;5;241m22\u001b[39m,\u001b[38;5;241m33\u001b[39m,\u001b[38;5;241m44\u001b[39m,\u001b[38;5;241m55\u001b[39m])\n",
      "\u001b[1;31mNameError\u001b[0m: name 'a' is not defined"
     ]
    }
   ],
   "source": [
    "x = {a:1,b:2}\n",
    "np.array([x,22,33,44,55])"
   ]
  },
  {
   "cell_type": "code",
   "execution_count": 35,
   "id": "8bd14cfa",
   "metadata": {},
   "outputs": [
    {
     "data": {
      "text/plain": [
       "array([{'a': 1, 'b': 2}, 22, 33, 44, 55], dtype=object)"
      ]
     },
     "execution_count": 35,
     "metadata": {},
     "output_type": "execute_result"
    }
   ],
   "source": [
    "x = {\"a\":1,\"b\":2}\n",
    "np.array([x,22,33,44,55])"
   ]
  },
  {
   "cell_type": "code",
   "execution_count": 34,
   "id": "a8e28c1c",
   "metadata": {},
   "outputs": [
    {
     "data": {
      "text/plain": [
       "array([{1: 'Aj', 2: 'SS'}, 22, 33, 44, 55], dtype=object)"
      ]
     },
     "execution_count": 34,
     "metadata": {},
     "output_type": "execute_result"
    }
   ],
   "source": [
    "x = {1:\"Aj\",2:\"SS\"}\n",
    "np.array([x,22,33,44,55])"
   ]
  },
  {
   "cell_type": "code",
   "execution_count": 36,
   "id": "318123c1",
   "metadata": {},
   "outputs": [
    {
     "ename": "NameError",
     "evalue": "name 'j' is not defined",
     "output_type": "error",
     "traceback": [
      "\u001b[1;31m---------------------------------------------------------------------------\u001b[0m",
      "\u001b[1;31mNameError\u001b[0m                                 Traceback (most recent call last)",
      "Cell \u001b[1;32mIn[36], line 4\u001b[0m\n\u001b[0;32m      2\u001b[0m y \u001b[38;5;241m=\u001b[39m np\u001b[38;5;241m.\u001b[39marray([\u001b[38;5;241m11\u001b[39m,\u001b[38;5;241m22\u001b[39m,\u001b[38;5;241m33\u001b[39m,\u001b[38;5;241m44\u001b[39m])\n\u001b[0;32m      3\u001b[0m z \u001b[38;5;241m=\u001b[39m \u001b[38;5;28;01mTrue\u001b[39;00m\n\u001b[1;32m----> 4\u001b[0m a \u001b[38;5;241m=\u001b[39m \u001b[38;5;241m5\u001b[39m \u001b[38;5;241m+\u001b[39m \u001b[43mj\u001b[49m\n\u001b[0;32m      5\u001b[0m b \u001b[38;5;241m=\u001b[39m \u001b[38;5;241m7.7\u001b[39m\n\u001b[0;32m      6\u001b[0m np\u001b[38;5;241m.\u001b[39marray([x,y,z,a,b])\n",
      "\u001b[1;31mNameError\u001b[0m: name 'j' is not defined"
     ]
    }
   ],
   "source": [
    "x = {1:\"Aj\",2:\"SS\"}\n",
    "y = np.array([11,22,33,44])\n",
    "z = True\n",
    "a = 5 + j\n",
    "b = 7.7\n",
    "np.array([x,y,z,a,b])"
   ]
  },
  {
   "cell_type": "code",
   "execution_count": 38,
   "id": "ba94bce9",
   "metadata": {},
   "outputs": [
    {
     "name": "stderr",
     "output_type": "stream",
     "text": [
      "C:\\Users\\user\\AppData\\Local\\Temp\\ipykernel_324\\1285327039.py:6: VisibleDeprecationWarning: Creating an ndarray from ragged nested sequences (which is a list-or-tuple of lists-or-tuples-or ndarrays with different lengths or shapes) is deprecated. If you meant to do this, you must specify 'dtype=object' when creating the ndarray.\n",
      "  np.array([x,y,z,a,b])\n"
     ]
    },
    {
     "data": {
      "text/plain": [
       "array([{1: 'Aj', 2: 'SS'}, array([11, 22, 33, 44]), True, (1, 2, 3, 4),\n",
       "       7.7], dtype=object)"
      ]
     },
     "execution_count": 38,
     "metadata": {},
     "output_type": "execute_result"
    }
   ],
   "source": [
    "x = {1:\"Aj\",2:\"SS\"}\n",
    "y = np.array([11,22,33,44])\n",
    "z = True\n",
    "a = (1,2,3,4)\n",
    "b = 7.7\n",
    "np.array([x,y,z,a,b])"
   ]
  },
  {
   "cell_type": "code",
   "execution_count": null,
   "id": "d231b755",
   "metadata": {},
   "outputs": [],
   "source": []
  }
 ],
 "metadata": {
  "kernelspec": {
   "display_name": "Python 3 (ipykernel)",
   "language": "python",
   "name": "python3"
  },
  "language_info": {
   "codemirror_mode": {
    "name": "ipython",
    "version": 3
   },
   "file_extension": ".py",
   "mimetype": "text/x-python",
   "name": "python",
   "nbconvert_exporter": "python",
   "pygments_lexer": "ipython3",
   "version": "3.10.9"
  }
 },
 "nbformat": 4,
 "nbformat_minor": 5
}
