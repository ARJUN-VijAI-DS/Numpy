{
 "cells": [
  {
   "cell_type": "markdown",
   "id": "a8fdd580",
   "metadata": {},
   "source": [
    "<font size = 5.5> NumPy -- Numerical PYthon <br> <font size = 4.5> Introduction to NumPy <font size = 3.5> <br> <li> It is a PYthon library used for working with arrays. <br> <li> It consists of a multidimensional array of objects and a collection of functions for manipulating them. <br> <li> It conducts mathematical and logical operations on arrays."
   ]
  },
  {
   "cell_type": "markdown",
   "id": "57bc2c6d",
   "metadata": {},
   "source": [
    "<font size = 5.5> Advantages of NumPy  <br> <font size = 4> The following are the advantages of NumPy: <font size = 3.5> <br> It provides an array objrcts that is faster than traditional PYthon lists. <br> It provides supporting functions. <br> Arrays are fequently used in data science."
   ]
  },
  {
   "cell_type": "code",
   "execution_count": null,
   "id": "a83515cb",
   "metadata": {},
   "outputs": [],
   "source": []
  },
  {
   "cell_type": "code",
   "execution_count": null,
   "id": "d9c351ff",
   "metadata": {},
   "outputs": [],
   "source": []
  },
  {
   "cell_type": "markdown",
   "id": "5523ea43",
   "metadata": {},
   "source": [
    "<font size = 5.5> What is an Array?  <br> <font size = 4> <li> An Array is a central data structure of the NumPy Library. <br> <li> It is a grid of homogeneous values (same data types) <br> <li> The **rank** of the array is the number of dimensions. <br> <li> The array ojects in NumPy is called **ndarray**  (n - dimensional array)"
   ]
  },
  {
   "cell_type": "code",
   "execution_count": 2,
   "id": "43c24a99",
   "metadata": {},
   "outputs": [],
   "source": [
    "import numpy as np"
   ]
  },
  {
   "cell_type": "code",
   "execution_count": 3,
   "id": "dfdb9019",
   "metadata": {},
   "outputs": [
    {
     "name": "stdout",
     "output_type": "stream",
     "text": [
      "[1 2 3 4 5]\n"
     ]
    },
    {
     "data": {
      "text/plain": [
       "array([1, 2, 3, 4, 5])"
      ]
     },
     "execution_count": 3,
     "metadata": {},
     "output_type": "execute_result"
    }
   ],
   "source": [
    "# Importing NumPy\n",
    "\n",
    "import numpy as np\n",
    "aj = np.array([1,2,3,4,5])            ## Creating an ndarray\n",
    "print(aj)\n",
    "aj"
   ]
  },
  {
   "cell_type": "code",
   "execution_count": 3,
   "id": "dd78ff96",
   "metadata": {},
   "outputs": [
    {
     "name": "stdout",
     "output_type": "stream",
     "text": [
      "[1 2 3 4 5]\n"
     ]
    },
    {
     "data": {
      "text/plain": [
       "array([1, 2, 3, 4, 5])"
      ]
     },
     "execution_count": 3,
     "metadata": {},
     "output_type": "execute_result"
    }
   ],
   "source": [
    "aj = np.array((1,2,3,4,5))            ## Creating an ndarray\n",
    "print(aj)\n",
    "aj"
   ]
  },
  {
   "cell_type": "code",
   "execution_count": 4,
   "id": "1e5d62ef",
   "metadata": {},
   "outputs": [
    {
     "name": "stdout",
     "output_type": "stream",
     "text": [
      "{1, 2, 3, 4, 5}\n"
     ]
    },
    {
     "data": {
      "text/plain": [
       "array({1, 2, 3, 4, 5}, dtype=object)"
      ]
     },
     "execution_count": 4,
     "metadata": {},
     "output_type": "execute_result"
    }
   ],
   "source": [
    "aj = np.array({1,2,3,4,5})            ## Creating an ndarray\n",
    "print(aj)\n",
    "aj"
   ]
  },
  {
   "cell_type": "code",
   "execution_count": 6,
   "id": "de00b29c",
   "metadata": {},
   "outputs": [
    {
     "name": "stdout",
     "output_type": "stream",
     "text": [
      "<class 'numpy.ndarray'>\n"
     ]
    },
    {
     "data": {
      "text/plain": [
       "numpy.ndarray"
      ]
     },
     "execution_count": 6,
     "metadata": {},
     "output_type": "execute_result"
    }
   ],
   "source": [
    "print(type(aj))\n",
    "type(aj)"
   ]
  },
  {
   "cell_type": "code",
   "execution_count": 7,
   "id": "0b280220",
   "metadata": {},
   "outputs": [
    {
     "ename": "SyntaxError",
     "evalue": "':' expected after dictionary key (3902200549.py, line 1)",
     "output_type": "error",
     "traceback": [
      "\u001b[1;36m  Cell \u001b[1;32mIn[7], line 1\u001b[1;36m\u001b[0m\n\u001b[1;33m    aj = np.array({a:1,2,3,4,5})            ## Creating an ndarray\u001b[0m\n\u001b[1;37m                       ^\u001b[0m\n\u001b[1;31mSyntaxError\u001b[0m\u001b[1;31m:\u001b[0m ':' expected after dictionary key\n"
     ]
    }
   ],
   "source": [
    "aj = np.array({a:1,2,3,4,5})            ## Creating an ndarray\n",
    "print(aj)\n",
    "aj"
   ]
  },
  {
   "cell_type": "code",
   "execution_count": 8,
   "id": "8baa1233",
   "metadata": {},
   "outputs": [
    {
     "ename": "NameError",
     "evalue": "name 'a' is not defined",
     "output_type": "error",
     "traceback": [
      "\u001b[1;31m---------------------------------------------------------------------------\u001b[0m",
      "\u001b[1;31mNameError\u001b[0m                                 Traceback (most recent call last)",
      "Cell \u001b[1;32mIn[8], line 1\u001b[0m\n\u001b[1;32m----> 1\u001b[0m aj \u001b[38;5;241m=\u001b[39m np\u001b[38;5;241m.\u001b[39marray({\u001b[43ma\u001b[49m:\u001b[38;5;124m\"\u001b[39m\u001b[38;5;124m1\u001b[39m\u001b[38;5;124m\"\u001b[39m},{b:\u001b[38;5;124m\"\u001b[39m\u001b[38;5;124m2\u001b[39m\u001b[38;5;124m\"\u001b[39m})            \u001b[38;5;66;03m## Creating an ndarray\u001b[39;00m\n\u001b[0;32m      2\u001b[0m \u001b[38;5;28mprint\u001b[39m(aj)\n\u001b[0;32m      3\u001b[0m aj\n",
      "\u001b[1;31mNameError\u001b[0m: name 'a' is not defined"
     ]
    }
   ],
   "source": [
    "aj = np.array({a:\"1\"},{b:\"2\"})            ## Creating an ndarray\n",
    "print(aj)\n",
    "aj"
   ]
  },
  {
   "cell_type": "code",
   "execution_count": 9,
   "id": "84dd60d5",
   "metadata": {},
   "outputs": [
    {
     "ename": "SyntaxError",
     "evalue": "':' expected after dictionary key (1512545148.py, line 1)",
     "output_type": "error",
     "traceback": [
      "\u001b[1;36m  Cell \u001b[1;32mIn[9], line 1\u001b[1;36m\u001b[0m\n\u001b[1;33m    aj = np.array({1:1,2,3,4,5},{11:5,5,6,7})            ## Creating an ndarray\u001b[0m\n\u001b[1;37m                       ^\u001b[0m\n\u001b[1;31mSyntaxError\u001b[0m\u001b[1;31m:\u001b[0m ':' expected after dictionary key\n"
     ]
    }
   ],
   "source": [
    "aj = np.array({1:1,2,3,4,5},{11:5,5,6,7})            ## Creating an ndarray\n",
    "print(aj)\n",
    "aj"
   ]
  },
  {
   "cell_type": "code",
   "execution_count": 4,
   "id": "13539a93",
   "metadata": {},
   "outputs": [
    {
     "ename": "ValueError",
     "evalue": "entry not a 2- or 3- tuple",
     "output_type": "error",
     "traceback": [
      "\u001b[1;31m---------------------------------------------------------------------------\u001b[0m",
      "\u001b[1;31mValueError\u001b[0m                                Traceback (most recent call last)",
      "Cell \u001b[1;32mIn[4], line 1\u001b[0m\n\u001b[1;32m----> 1\u001b[0m aj \u001b[38;5;241m=\u001b[39m \u001b[43mnp\u001b[49m\u001b[38;5;241;43m.\u001b[39;49m\u001b[43marray\u001b[49m\u001b[43m(\u001b[49m\u001b[43m{\u001b[49m\u001b[38;5;241;43m1\u001b[39;49m\u001b[43m:\u001b[49m\u001b[38;5;124;43m\"\u001b[39;49m\u001b[38;5;124;43m55\u001b[39;49m\u001b[38;5;124;43m\"\u001b[39;49m\u001b[43m}\u001b[49m\u001b[43m,\u001b[49m\u001b[43m{\u001b[49m\u001b[38;5;241;43m11\u001b[39;49m\u001b[43m:\u001b[49m\u001b[38;5;124;43m\"\u001b[39;49m\u001b[38;5;124;43m11\u001b[39;49m\u001b[38;5;124;43m\"\u001b[39;49m\u001b[43m}\u001b[49m\u001b[43m)\u001b[49m            \u001b[38;5;66;03m## Creating an ndarray\u001b[39;00m\n\u001b[0;32m      2\u001b[0m \u001b[38;5;28mprint\u001b[39m(aj)\n\u001b[0;32m      3\u001b[0m aj\n",
      "File \u001b[1;32me:\\Users\\user\\anaconda3\\lib\\site-packages\\numpy\\core\\_internal.py:62\u001b[0m, in \u001b[0;36m_usefields\u001b[1;34m(adict, align)\u001b[0m\n\u001b[0;32m     60\u001b[0m     names \u001b[38;5;241m=\u001b[39m \u001b[38;5;28;01mNone\u001b[39;00m\n\u001b[0;32m     61\u001b[0m \u001b[38;5;28;01mif\u001b[39;00m names \u001b[38;5;129;01mis\u001b[39;00m \u001b[38;5;28;01mNone\u001b[39;00m:\n\u001b[1;32m---> 62\u001b[0m     names, formats, offsets, titles \u001b[38;5;241m=\u001b[39m \u001b[43m_makenames_list\u001b[49m\u001b[43m(\u001b[49m\u001b[43madict\u001b[49m\u001b[43m,\u001b[49m\u001b[43m \u001b[49m\u001b[43malign\u001b[49m\u001b[43m)\u001b[49m\n\u001b[0;32m     63\u001b[0m \u001b[38;5;28;01melse\u001b[39;00m:\n\u001b[0;32m     64\u001b[0m     formats \u001b[38;5;241m=\u001b[39m []\n",
      "File \u001b[1;32me:\\Users\\user\\anaconda3\\lib\\site-packages\\numpy\\core\\_internal.py:32\u001b[0m, in \u001b[0;36m_makenames_list\u001b[1;34m(adict, align)\u001b[0m\n\u001b[0;32m     30\u001b[0m n \u001b[38;5;241m=\u001b[39m \u001b[38;5;28mlen\u001b[39m(obj)\n\u001b[0;32m     31\u001b[0m \u001b[38;5;28;01mif\u001b[39;00m \u001b[38;5;129;01mnot\u001b[39;00m \u001b[38;5;28misinstance\u001b[39m(obj, \u001b[38;5;28mtuple\u001b[39m) \u001b[38;5;129;01mor\u001b[39;00m n \u001b[38;5;129;01mnot\u001b[39;00m \u001b[38;5;129;01min\u001b[39;00m (\u001b[38;5;241m2\u001b[39m, \u001b[38;5;241m3\u001b[39m):\n\u001b[1;32m---> 32\u001b[0m     \u001b[38;5;28;01mraise\u001b[39;00m \u001b[38;5;167;01mValueError\u001b[39;00m(\u001b[38;5;124m\"\u001b[39m\u001b[38;5;124mentry not a 2- or 3- tuple\u001b[39m\u001b[38;5;124m\"\u001b[39m)\n\u001b[0;32m     33\u001b[0m \u001b[38;5;28;01mif\u001b[39;00m n \u001b[38;5;241m>\u001b[39m \u001b[38;5;241m2\u001b[39m \u001b[38;5;129;01mand\u001b[39;00m obj[\u001b[38;5;241m2\u001b[39m] \u001b[38;5;241m==\u001b[39m fname:\n\u001b[0;32m     34\u001b[0m     \u001b[38;5;28;01mcontinue\u001b[39;00m\n",
      "\u001b[1;31mValueError\u001b[0m: entry not a 2- or 3- tuple"
     ]
    }
   ],
   "source": [
    "aj = np.array({1:\"55\"},{11:\"11\"})            ## Creating an ndarray\n",
    "print(aj)\n",
    "aj"
   ]
  },
  {
   "cell_type": "code",
   "execution_count": 11,
   "id": "d9a7ff4c",
   "metadata": {},
   "outputs": [
    {
     "name": "stdout",
     "output_type": "stream",
     "text": [
      "{1: '55', 11: '11'}\n"
     ]
    },
    {
     "data": {
      "text/plain": [
       "array({1: '55', 11: '11'}, dtype=object)"
      ]
     },
     "execution_count": 11,
     "metadata": {},
     "output_type": "execute_result"
    }
   ],
   "source": [
    "aj = np.array({1:\"55\",11:\"11\"})            ## Creating an ndarray\n",
    "print(aj)\n",
    "aj"
   ]
  },
  {
   "cell_type": "code",
   "execution_count": 12,
   "id": "ff15686f",
   "metadata": {},
   "outputs": [
    {
     "name": "stdout",
     "output_type": "stream",
     "text": [
      "{1: '55', 11: '11', 111: 'Arj'}\n"
     ]
    },
    {
     "data": {
      "text/plain": [
       "array({1: '55', 11: '11', 111: 'Arj'}, dtype=object)"
      ]
     },
     "execution_count": 12,
     "metadata": {},
     "output_type": "execute_result"
    }
   ],
   "source": [
    "aj = np.array({1:\"55\",11:\"11\",111:\"Arj\"})            ## Creating an ndarray\n",
    "print(aj)\n",
    "aj"
   ]
  },
  {
   "cell_type": "code",
   "execution_count": 13,
   "id": "0711fae1",
   "metadata": {},
   "outputs": [
    {
     "name": "stdout",
     "output_type": "stream",
     "text": [
      "['1' '2' '3' '4' '5' 'Arj' 'True']\n"
     ]
    },
    {
     "data": {
      "text/plain": [
       "array(['1', '2', '3', '4', '5', 'Arj', 'True'], dtype='<U11')"
      ]
     },
     "execution_count": 13,
     "metadata": {},
     "output_type": "execute_result"
    }
   ],
   "source": [
    "aj = np.array([1,2,3,4,5,\"Arj\",True])            ## Creating an ndarray\n",
    "print(aj)\n",
    "aj"
   ]
  },
  {
   "cell_type": "code",
   "execution_count": 14,
   "id": "6539913d",
   "metadata": {},
   "outputs": [
    {
     "name": "stdout",
     "output_type": "stream",
     "text": [
      "['1' '2' '3' '4' '5' 'Arj' 'True' '111.111']\n"
     ]
    },
    {
     "data": {
      "text/plain": [
       "array(['1', '2', '3', '4', '5', 'Arj', 'True', '111.111'], dtype='<U32')"
      ]
     },
     "execution_count": 14,
     "metadata": {},
     "output_type": "execute_result"
    }
   ],
   "source": [
    "aj = np.array([1,2,3,4,5,\"Arj\",True,111.111])            ## Creating an ndarray\n",
    "print(aj)\n",
    "aj"
   ]
  },
  {
   "cell_type": "code",
   "execution_count": 15,
   "id": "66f04ae5",
   "metadata": {},
   "outputs": [
    {
     "name": "stdout",
     "output_type": "stream",
     "text": [
      "[ True False False  True  True  True]\n"
     ]
    },
    {
     "data": {
      "text/plain": [
       "array([ True, False, False,  True,  True,  True])"
      ]
     },
     "execution_count": 15,
     "metadata": {},
     "output_type": "execute_result"
    }
   ],
   "source": [
    "aj = np.array([True,False,False,True,True,True])            ## Creating an ndarray\n",
    "print(aj)\n",
    "aj"
   ]
  },
  {
   "cell_type": "code",
   "execution_count": 16,
   "id": "142f233a",
   "metadata": {},
   "outputs": [
    {
     "name": "stdout",
     "output_type": "stream",
     "text": [
      "[  1   0 111   1   1   1]\n"
     ]
    },
    {
     "data": {
      "text/plain": [
       "array([  1,   0, 111,   1,   1,   1])"
      ]
     },
     "execution_count": 16,
     "metadata": {},
     "output_type": "execute_result"
    }
   ],
   "source": [
    "aj = np.array([True,False,111,True,True,True])            ## Creating an ndarray\n",
    "print(aj)\n",
    "aj"
   ]
  },
  {
   "cell_type": "code",
   "execution_count": 17,
   "id": "7cff1791",
   "metadata": {},
   "outputs": [
    {
     "name": "stdout",
     "output_type": "stream",
     "text": [
      "Ajsstavinomi\n"
     ]
    },
    {
     "data": {
      "text/plain": [
       "array('Ajsstavinomi', dtype='<U12')"
      ]
     },
     "execution_count": 17,
     "metadata": {},
     "output_type": "execute_result"
    }
   ],
   "source": [
    "aj = np.array(\"Ajsstavinomi\")            ## Creating an ndarray\n",
    "print(aj)\n",
    "aj"
   ]
  },
  {
   "cell_type": "code",
   "execution_count": 18,
   "id": "63209930",
   "metadata": {},
   "outputs": [
    {
     "ename": "TypeError",
     "evalue": "array() takes from 1 to 2 positional arguments but 4 were given",
     "output_type": "error",
     "traceback": [
      "\u001b[1;31m---------------------------------------------------------------------------\u001b[0m",
      "\u001b[1;31mTypeError\u001b[0m                                 Traceback (most recent call last)",
      "Cell \u001b[1;32mIn[18], line 1\u001b[0m\n\u001b[1;32m----> 1\u001b[0m aj \u001b[38;5;241m=\u001b[39m \u001b[43mnp\u001b[49m\u001b[38;5;241;43m.\u001b[39;49m\u001b[43marray\u001b[49m\u001b[43m(\u001b[49m\u001b[38;5;124;43m\"\u001b[39;49m\u001b[38;5;124;43mAj\u001b[39;49m\u001b[38;5;124;43m\"\u001b[39;49m\u001b[43m,\u001b[49m\u001b[43m \u001b[49m\u001b[38;5;124;43m\"\u001b[39;49m\u001b[38;5;124;43mss\u001b[39;49m\u001b[38;5;124;43m\"\u001b[39;49m\u001b[43m,\u001b[49m\u001b[43m \u001b[49m\u001b[38;5;124;43m\"\u001b[39;49m\u001b[38;5;124;43mtavi\u001b[39;49m\u001b[38;5;124;43m\"\u001b[39;49m\u001b[43m,\u001b[49m\u001b[43m \u001b[49m\u001b[38;5;124;43m\"\u001b[39;49m\u001b[38;5;124;43mnomi\u001b[39;49m\u001b[38;5;124;43m\"\u001b[39;49m\u001b[43m)\u001b[49m            \u001b[38;5;66;03m## Creating an ndarray\u001b[39;00m\n\u001b[0;32m      2\u001b[0m \u001b[38;5;28mprint\u001b[39m(aj)\n\u001b[0;32m      3\u001b[0m aj\n",
      "\u001b[1;31mTypeError\u001b[0m: array() takes from 1 to 2 positional arguments but 4 were given"
     ]
    }
   ],
   "source": [
    "aj = np.array(\"Aj\", \"ss\", \"tavi\", \"nomi\")            ## Creating an ndarray\n",
    "print(aj)\n",
    "aj"
   ]
  },
  {
   "cell_type": "code",
   "execution_count": 19,
   "id": "564831d4",
   "metadata": {},
   "outputs": [
    {
     "ename": "TypeError",
     "evalue": "data type 'ss' not understood",
     "output_type": "error",
     "traceback": [
      "\u001b[1;31m---------------------------------------------------------------------------\u001b[0m",
      "\u001b[1;31mTypeError\u001b[0m                                 Traceback (most recent call last)",
      "Cell \u001b[1;32mIn[19], line 1\u001b[0m\n\u001b[1;32m----> 1\u001b[0m aj \u001b[38;5;241m=\u001b[39m \u001b[43mnp\u001b[49m\u001b[38;5;241;43m.\u001b[39;49m\u001b[43marray\u001b[49m\u001b[43m(\u001b[49m\u001b[38;5;124;43m\"\u001b[39;49m\u001b[38;5;124;43mAj\u001b[39;49m\u001b[38;5;124;43m\"\u001b[39;49m\u001b[43m,\u001b[49m\u001b[43m \u001b[49m\u001b[38;5;124;43m\"\u001b[39;49m\u001b[38;5;124;43mss\u001b[39;49m\u001b[38;5;124;43m\"\u001b[39;49m\u001b[43m)\u001b[49m            \u001b[38;5;66;03m## Creating an ndarray\u001b[39;00m\n\u001b[0;32m      2\u001b[0m \u001b[38;5;28mprint\u001b[39m(aj)\n\u001b[0;32m      3\u001b[0m aj\n",
      "\u001b[1;31mTypeError\u001b[0m: data type 'ss' not understood"
     ]
    }
   ],
   "source": [
    "aj = np.array(\"Aj\", \"ss\")            ## Creating an ndarray\n",
    "print(aj)\n",
    "aj"
   ]
  },
  {
   "cell_type": "code",
   "execution_count": 20,
   "id": "7cb3ca38",
   "metadata": {},
   "outputs": [
    {
     "name": "stdout",
     "output_type": "stream",
     "text": [
      "['Aj' 'ss' 'tavi' 'nomi']\n"
     ]
    },
    {
     "data": {
      "text/plain": [
       "array(['Aj', 'ss', 'tavi', 'nomi'], dtype='<U4')"
      ]
     },
     "execution_count": 20,
     "metadata": {},
     "output_type": "execute_result"
    }
   ],
   "source": [
    "aj = np.array([\"Aj\", \"ss\", \"tavi\", \"nomi\"])            ## Creating an ndarray\n",
    "print(aj)\n",
    "aj                                          #######   dtype  == data type"
   ]
  },
  {
   "cell_type": "code",
   "execution_count": null,
   "id": "474f4142",
   "metadata": {},
   "outputs": [],
   "source": []
  },
  {
   "cell_type": "markdown",
   "id": "db2a757d",
   "metadata": {},
   "source": [
    "<font size = 5.5> 9th Sept 2023"
   ]
  },
  {
   "cell_type": "code",
   "execution_count": 1,
   "id": "8b69aa4e",
   "metadata": {},
   "outputs": [
    {
     "name": "stdout",
     "output_type": "stream",
     "text": [
      "55\n"
     ]
    }
   ],
   "source": [
    "## Creating a zero dimensional array\n",
    "\n",
    "import numpy as np\n",
    "arr = np.array(\"55\")\n",
    "print(arr)"
   ]
  },
  {
   "cell_type": "code",
   "execution_count": null,
   "id": "38459b07",
   "metadata": {},
   "outputs": [],
   "source": []
  },
  {
   "cell_type": "code",
   "execution_count": 3,
   "id": "ed46b275",
   "metadata": {},
   "outputs": [
    {
     "name": "stdout",
     "output_type": "stream",
     "text": [
      "[55  1  2  3 77]\n"
     ]
    }
   ],
   "source": [
    "## Creating a one dimensional array\n",
    "\n",
    "import numpy as np\n",
    "arr = np.array([55,1,2,3,77])\n",
    "print(arr)"
   ]
  },
  {
   "cell_type": "code",
   "execution_count": 4,
   "id": "a99c806a",
   "metadata": {},
   "outputs": [
    {
     "name": "stdout",
     "output_type": "stream",
     "text": [
      "[list([55, 1, 2, 3, 77]) list([873, 837, 648, 4454])]\n"
     ]
    },
    {
     "name": "stderr",
     "output_type": "stream",
     "text": [
      "C:\\Users\\user\\AppData\\Local\\Temp\\ipykernel_2716\\101348641.py:4: VisibleDeprecationWarning: Creating an ndarray from ragged nested sequences (which is a list-or-tuple of lists-or-tuples-or ndarrays with different lengths or shapes) is deprecated. If you meant to do this, you must specify 'dtype=object' when creating the ndarray.\n",
      "  arr = np.array([[55,1,2,3,77],[873,837,648,4454]])\n"
     ]
    }
   ],
   "source": [
    "## Creating a two dimensional array\n",
    "\n",
    "import numpy as np\n",
    "arr = np.array([[55,1,2,3,77],[873,837,648,4454]])          ### Number of Items in the Lists are different....\n",
    "print(arr)"
   ]
  },
  {
   "cell_type": "code",
   "execution_count": 5,
   "id": "b5646d09",
   "metadata": {},
   "outputs": [
    {
     "name": "stdout",
     "output_type": "stream",
     "text": [
      "[list([55, 1, 2, 3, 77]) list([3, 7, 8, 44])]\n"
     ]
    },
    {
     "name": "stderr",
     "output_type": "stream",
     "text": [
      "C:\\Users\\user\\AppData\\Local\\Temp\\ipykernel_2716\\247639914.py:4: VisibleDeprecationWarning: Creating an ndarray from ragged nested sequences (which is a list-or-tuple of lists-or-tuples-or ndarrays with different lengths or shapes) is deprecated. If you meant to do this, you must specify 'dtype=object' when creating the ndarray.\n",
      "  arr = np.array([[55,1,2,3,77],[3,7,8,44]])\n"
     ]
    }
   ],
   "source": [
    "## Creating a two dimensional array\n",
    "\n",
    "import numpy as np\n",
    "arr = np.array([[55,1,2,3,77],[3,7,8,44]])       ### Number of Items in the Lists are different....\n",
    "print(arr)"
   ]
  },
  {
   "cell_type": "code",
   "execution_count": 6,
   "id": "c367a842",
   "metadata": {},
   "outputs": [
    {
     "name": "stdout",
     "output_type": "stream",
     "text": [
      "[list([5, 1, 2, 3, 7]) list([3, 7, 8, 4])]\n"
     ]
    },
    {
     "name": "stderr",
     "output_type": "stream",
     "text": [
      "C:\\Users\\user\\AppData\\Local\\Temp\\ipykernel_2716\\97711537.py:4: VisibleDeprecationWarning: Creating an ndarray from ragged nested sequences (which is a list-or-tuple of lists-or-tuples-or ndarrays with different lengths or shapes) is deprecated. If you meant to do this, you must specify 'dtype=object' when creating the ndarray.\n",
      "  arr = np.array([[5,1,2,3,7],[3,7,8,4]])\n"
     ]
    }
   ],
   "source": [
    "## Creating a two dimensional array\n",
    "\n",
    "import numpy as np\n",
    "arr = np.array([[5,1,2,3,7],[3,7,8,4]])        ### Number of Items in the Lists are different....\n",
    "print(arr)"
   ]
  },
  {
   "cell_type": "code",
   "execution_count": 7,
   "id": "6e5ae957",
   "metadata": {},
   "outputs": [
    {
     "name": "stdout",
     "output_type": "stream",
     "text": [
      "[[  55    1    2    3]\n",
      " [ 873  837  648 4454]]\n"
     ]
    }
   ],
   "source": [
    "## Creating a two dimensional array\n",
    "\n",
    "import numpy as np\n",
    "arr = np.array([[55,1,2,3],[873,837,648,4454]])\n",
    "print(arr)"
   ]
  },
  {
   "cell_type": "code",
   "execution_count": 8,
   "id": "ab68b117",
   "metadata": {},
   "outputs": [
    {
     "name": "stdout",
     "output_type": "stream",
     "text": [
      "[list(['AJ', 'SS', 'Ta', 'Nm', 'We']) list(['Ra', 'MAa', 'Paa', 'JAa'])]\n"
     ]
    },
    {
     "name": "stderr",
     "output_type": "stream",
     "text": [
      "C:\\Users\\user\\AppData\\Local\\Temp\\ipykernel_2716\\373789477.py:4: VisibleDeprecationWarning: Creating an ndarray from ragged nested sequences (which is a list-or-tuple of lists-or-tuples-or ndarrays with different lengths or shapes) is deprecated. If you meant to do this, you must specify 'dtype=object' when creating the ndarray.\n",
      "  arr = np.array([[\"AJ\",\"SS\",\"Ta\",\"Nm\",\"We\"],[\"Ra\",\"MAa\",\"Paa\",\"JAa\"]])\n"
     ]
    }
   ],
   "source": [
    "## Creating a two dimensional array\n",
    "\n",
    "import numpy as np\n",
    "arr = np.array([[\"AJ\",\"SS\",\"Ta\",\"Nm\",\"We\"],[\"Ra\",\"MAa\",\"Paa\",\"JAa\"]])    ### Number of Items in the Lists are different....\n",
    "print(arr)"
   ]
  },
  {
   "cell_type": "code",
   "execution_count": 9,
   "id": "cb326aae",
   "metadata": {},
   "outputs": [
    {
     "name": "stdout",
     "output_type": "stream",
     "text": [
      "[['AJ' 'SS' 'Ta' 'Nm']\n",
      " ['Ra' 'MAa' 'Paa' 'JAa']]\n"
     ]
    }
   ],
   "source": [
    "## Creating a two dimensional array\n",
    "\n",
    "import numpy as np\n",
    "arr = np.array([[\"AJ\",\"SS\",\"Ta\",\"Nm\"],[\"Ra\",\"MAa\",\"Paa\",\"JAa\"]])\n",
    "print(arr)"
   ]
  },
  {
   "cell_type": "code",
   "execution_count": 12,
   "id": "e931e60b",
   "metadata": {},
   "outputs": [
    {
     "name": "stdout",
     "output_type": "stream",
     "text": [
      "[[[5 1 2 3]\n",
      "  [3 7 8 4]]\n",
      "\n",
      " [[1 2 3 4]\n",
      "  [6 7 8 9]]]\n"
     ]
    }
   ],
   "source": [
    "## Creating a three dimensional array\n",
    "\n",
    "import numpy as np\n",
    "arr = np.array([ [ [5,1,2,3], [3,7,8,4] ] , [ [1,2,3,4] , [6,7,8,9] ] ])\n",
    "print(arr)"
   ]
  },
  {
   "cell_type": "code",
   "execution_count": 14,
   "id": "7e4b2eb9",
   "metadata": {},
   "outputs": [
    {
     "name": "stdout",
     "output_type": "stream",
     "text": [
      "[[[[1 2 3 4]\n",
      "   [3 4 5 6]]\n",
      "\n",
      "  [[1 2 3 4]\n",
      "   [6 7 8 9]]]\n",
      "\n",
      "\n",
      " [[[5 1 2 3]\n",
      "   [3 7 8 4]]\n",
      "\n",
      "  [[1 2 3 4]\n",
      "   [6 7 8 9]]]]\n"
     ]
    }
   ],
   "source": [
    "## Creating a Four dimensional array\n",
    "\n",
    "import numpy as np\n",
    "arr = np.array([[ [ [1,2,3,4], [3,4,5,6] ] , [ [1,2,3,4] , [6,7,8,9] ] ],[ [ [5,1,2,3], [3,7,8,4] ] , [ [1,2,3,4] , [6,7,8,9] ] ]])\n",
    "print(arr)"
   ]
  },
  {
   "cell_type": "code",
   "execution_count": 17,
   "id": "f28de503",
   "metadata": {},
   "outputs": [
    {
     "name": "stdout",
     "output_type": "stream",
     "text": [
      "[[[[[1 2 3 4]\n",
      "    [3 4 5 6]]\n",
      "\n",
      "   [[1 2 3 4]\n",
      "    [6 7 8 9]]]\n",
      "\n",
      "\n",
      "  [[[5 1 2 3]\n",
      "    [3 7 8 4]]\n",
      "\n",
      "   [[1 2 3 4]\n",
      "    [6 7 8 9]]]]\n",
      "\n",
      "\n",
      "\n",
      " [[[[1 2 3 4]\n",
      "    [3 4 5 6]]\n",
      "\n",
      "   [[1 2 3 4]\n",
      "    [6 7 8 9]]]\n",
      "\n",
      "\n",
      "  [[[5 1 2 3]\n",
      "    [3 7 8 4]]\n",
      "\n",
      "   [[1 2 3 4]\n",
      "    [6 7 8 9]]]]]\n"
     ]
    }
   ],
   "source": [
    "## Creating a Five dimensional array\n",
    "\n",
    "import numpy as np\n",
    "arr = np.array([[[ [ [1,2,3,4], [3,4,5,6] ] , [ [1,2,3,4] , [6,7,8,9] ] ],[ [ [5,1,2,3], [3,7,8,4] ] , [ [1,2,3,4] , [6,7,8,9] ] ]],[[ [ [1,2,3,4], [3,4,5,6] ] , [ [1,2,3,4] , [6,7,8,9] ] ],[ [ [5,1,2,3], [3,7,8,4] ] , [ [1,2,3,4] , [6,7,8,9] ] ]]])\n",
    "print(arr)"
   ]
  },
  {
   "cell_type": "code",
   "execution_count": 18,
   "id": "032c07e6",
   "metadata": {},
   "outputs": [
    {
     "name": "stdout",
     "output_type": "stream",
     "text": [
      "[[[[[[1 2 3 4]\n",
      "     [3 4 5 6]]\n",
      "\n",
      "    [[1 2 3 4]\n",
      "     [6 7 8 9]]]\n",
      "\n",
      "\n",
      "   [[[5 1 2 3]\n",
      "     [3 7 8 4]]\n",
      "\n",
      "    [[1 2 3 4]\n",
      "     [6 7 8 9]]]]\n",
      "\n",
      "\n",
      "\n",
      "  [[[[1 2 3 4]\n",
      "     [3 4 5 6]]\n",
      "\n",
      "    [[1 2 3 4]\n",
      "     [6 7 8 9]]]\n",
      "\n",
      "\n",
      "   [[[5 1 2 3]\n",
      "     [3 7 8 4]]\n",
      "\n",
      "    [[1 2 3 4]\n",
      "     [6 7 8 9]]]]]\n",
      "\n",
      "\n",
      "\n",
      "\n",
      " [[[[[1 2 3 4]\n",
      "     [3 4 5 6]]\n",
      "\n",
      "    [[1 2 3 4]\n",
      "     [6 7 8 9]]]\n",
      "\n",
      "\n",
      "   [[[5 1 2 3]\n",
      "     [3 7 8 4]]\n",
      "\n",
      "    [[1 2 3 4]\n",
      "     [6 7 8 9]]]]\n",
      "\n",
      "\n",
      "\n",
      "  [[[[1 2 3 4]\n",
      "     [3 4 5 6]]\n",
      "\n",
      "    [[1 2 3 4]\n",
      "     [6 7 8 9]]]\n",
      "\n",
      "\n",
      "   [[[5 1 2 3]\n",
      "     [3 7 8 4]]\n",
      "\n",
      "    [[1 2 3 4]\n",
      "     [6 7 8 9]]]]]]\n"
     ]
    }
   ],
   "source": [
    "## Creating a six dimensional array\n",
    "\n",
    "import numpy as np\n",
    "arr = np.array([[[[ [ [1,2,3,4], [3,4,5,6] ] , [ [1,2,3,4] , [6,7,8,9] ] ],[ [ [5,1,2,3], [3,7,8,4] ] , [ [1,2,3,4] , [6,7,8,9] ] ]],[[ [ [1,2,3,4], [3,4,5,6] ] , [ [1,2,3,4] , [6,7,8,9] ] ],[ [ [5,1,2,3], [3,7,8,4] ] , [ [1,2,3,4] , [6,7,8,9] ] ]]],\n",
    "[[[ [ [1,2,3,4], [3,4,5,6] ] , [ [1,2,3,4] , [6,7,8,9] ] ],[ [ [5,1,2,3], [3,7,8,4] ] , [ [1,2,3,4] , [6,7,8,9] ] ]],[[ [ [1,2,3,4], [3,4,5,6] ] , [ [1,2,3,4] , [6,7,8,9] ] ],[ [ [5,1,2,3], [3,7,8,4] ] , [ [1,2,3,4] , [6,7,8,9] ] ]]]])\n",
    "print(arr)"
   ]
  },
  {
   "cell_type": "code",
   "execution_count": 16,
   "id": "9bfd5440",
   "metadata": {},
   "outputs": [
    {
     "data": {
      "text/plain": [
       "array([], shape=(4, 0), dtype=float64)"
      ]
     },
     "execution_count": 16,
     "metadata": {},
     "output_type": "execute_result"
    }
   ],
   "source": [
    "aarr = np.array([[],[],[],[]])\n",
    "aarr"
   ]
  },
  {
   "cell_type": "code",
   "execution_count": 21,
   "id": "9d80624d",
   "metadata": {},
   "outputs": [
    {
     "data": {
      "text/plain": [
       "array([[[1, 2],\n",
       "        [3, 4],\n",
       "        [5, 6],\n",
       "        [2, 3]],\n",
       "\n",
       "       [[4, 5],\n",
       "        [5, 6],\n",
       "        [6, 7],\n",
       "        [8, 9]]])"
      ]
     },
     "execution_count": 21,
     "metadata": {},
     "output_type": "execute_result"
    }
   ],
   "source": [
    "arr3 = np.array([[[1,2],[3,4],\n",
    "          [5,6],[2,3]],\n",
    "          [[4,5],[5,6],\n",
    "           [6,7],[8,9]]])\n",
    "arr3"
   ]
  },
  {
   "cell_type": "code",
   "execution_count": 22,
   "id": "f8614334",
   "metadata": {},
   "outputs": [
    {
     "name": "stderr",
     "output_type": "stream",
     "text": [
      "C:\\Users\\user\\AppData\\Local\\Temp\\ipykernel_2716\\4115363636.py:1: VisibleDeprecationWarning: Creating an ndarray from ragged nested sequences (which is a list-or-tuple of lists-or-tuples-or ndarrays with different lengths or shapes) is deprecated. If you meant to do this, you must specify 'dtype=object' when creating the ndarray.\n",
      "  arr3 = np.array([[[1,2],[3,4],\n"
     ]
    },
    {
     "data": {
      "text/plain": [
       "array([list([[1, 2], [3, 4], [5, 6], [2, 3]]),\n",
       "       list([[4, 5], [6, 7], [8, 9]])], dtype=object)"
      ]
     },
     "execution_count": 22,
     "metadata": {},
     "output_type": "execute_result"
    }
   ],
   "source": [
    "arr3 = np.array([[[1,2],[3,4],\n",
    "          [5,6],[2,3]],\n",
    "          [[4,5],\n",
    "           [6,7],[8,9]]])            ### Number of Items in the Lists are different....\n",
    "arr3"
   ]
  },
  {
   "cell_type": "code",
   "execution_count": 23,
   "id": "7b3ff3a8",
   "metadata": {},
   "outputs": [
    {
     "data": {
      "text/plain": [
       "array([1, 2, 3, 4])"
      ]
     },
     "execution_count": 23,
     "metadata": {},
     "output_type": "execute_result"
    }
   ],
   "source": [
    "### What could be another way to create an array\n",
    "y = [1,2,3,4]\n",
    "x = np.array(y)\n",
    "x"
   ]
  },
  {
   "cell_type": "code",
   "execution_count": 24,
   "id": "a905957a",
   "metadata": {},
   "outputs": [
    {
     "data": {
      "text/plain": [
       "array([0, 1, 2, 3, 4])"
      ]
     },
     "execution_count": 24,
     "metadata": {},
     "output_type": "execute_result"
    }
   ],
   "source": [
    "### What could be another way to create an array\n",
    "y = [1,2,3,4]\n",
    "x = np.array(range(5))\n",
    "x"
   ]
  },
  {
   "cell_type": "code",
   "execution_count": 25,
   "id": "26b55ac9",
   "metadata": {},
   "outputs": [
    {
     "data": {
      "text/plain": [
       "array([[0, 1, 2, 3],\n",
       "       [1, 2, 3, 4]])"
      ]
     },
     "execution_count": 25,
     "metadata": {},
     "output_type": "execute_result"
    }
   ],
   "source": [
    "### What could be another way to create an array\n",
    "y = [1,2,3,4]\n",
    "x = np.array([range(4),y])\n",
    "x"
   ]
  },
  {
   "cell_type": "code",
   "execution_count": 26,
   "id": "0761be3e",
   "metadata": {},
   "outputs": [
    {
     "data": {
      "text/plain": [
       "array([[[1, 2, 3, 4]],\n",
       "\n",
       "       [[2, 3, 4, 5]]])"
      ]
     },
     "execution_count": 26,
     "metadata": {},
     "output_type": "execute_result"
    }
   ],
   "source": [
    "### What could be another way to create an array\n",
    "y = [1,2,3,4]\n",
    "y1 = [2,3,4,5]\n",
    "y2 = [3,4,5,6]\n",
    "y3 = [4,5,6,7]\n",
    "x = np.array([[y],[y1]])\n",
    "x"
   ]
  },
  {
   "cell_type": "code",
   "execution_count": 27,
   "id": "356fa4fb",
   "metadata": {},
   "outputs": [
    {
     "data": {
      "text/plain": [
       "3"
      ]
     },
     "execution_count": 27,
     "metadata": {},
     "output_type": "execute_result"
    }
   ],
   "source": [
    "x.ndim"
   ]
  },
  {
   "cell_type": "code",
   "execution_count": 28,
   "id": "8763d9b9",
   "metadata": {},
   "outputs": [
    {
     "data": {
      "text/plain": [
       "6"
      ]
     },
     "execution_count": 28,
     "metadata": {},
     "output_type": "execute_result"
    }
   ],
   "source": [
    "x1 = np.array([[[[[[1,2,3,4]]]]]])\n",
    "x1.ndim"
   ]
  },
  {
   "cell_type": "code",
   "execution_count": 29,
   "id": "f4e60d4c",
   "metadata": {},
   "outputs": [
    {
     "data": {
      "text/plain": [
       "4"
      ]
     },
     "execution_count": 29,
     "metadata": {},
     "output_type": "execute_result"
    }
   ],
   "source": [
    "x1 = np.array([[[[1,2,3,4]]]])\n",
    "x1.ndim"
   ]
  },
  {
   "cell_type": "code",
   "execution_count": 30,
   "id": "4251e8d0",
   "metadata": {},
   "outputs": [
    {
     "data": {
      "text/plain": [
       "15"
      ]
     },
     "execution_count": 30,
     "metadata": {},
     "output_type": "execute_result"
    }
   ],
   "source": [
    "x5 = np.array([[[[[[[[[[[[[[[]]]]]]]]]]]]]]])\n",
    "x5.ndim"
   ]
  },
  {
   "cell_type": "code",
   "execution_count": 32,
   "id": "83cbdca6",
   "metadata": {},
   "outputs": [
    {
     "data": {
      "text/plain": [
       "array([0, 1, 2, 3, 4])"
      ]
     },
     "execution_count": 32,
     "metadata": {},
     "output_type": "execute_result"
    }
   ],
   "source": [
    "ra = np.array(range(5))\n",
    "ra"
   ]
  },
  {
   "cell_type": "code",
   "execution_count": 7,
   "id": "0d80523a",
   "metadata": {},
   "outputs": [
    {
     "data": {
      "text/plain": [
       "array([    0,     1,     2, ..., 99997, 99998, 99999])"
      ]
     },
     "execution_count": 7,
     "metadata": {},
     "output_type": "execute_result"
    }
   ],
   "source": [
    "my_arr = np.arange(100000)\n",
    "my_list = list(range(100000))\n",
    "my_arr"
   ]
  },
  {
   "cell_type": "code",
   "execution_count": 37,
   "id": "ba0f3632",
   "metadata": {},
   "outputs": [
    {
     "name": "stdout",
     "output_type": "stream",
     "text": [
      "123 µs ± 1.26 µs per loop (mean ± std. dev. of 7 runs, 10,000 loops each)\n"
     ]
    }
   ],
   "source": [
    "%timeit my_arr2 = my_arr * 2"
   ]
  },
  {
   "cell_type": "markdown",
   "id": "628605fc",
   "metadata": {},
   "source": [
    "<font size = 5.5> Important Example"
   ]
  },
  {
   "cell_type": "code",
   "execution_count": 39,
   "id": "1104f7c0",
   "metadata": {},
   "outputs": [
    {
     "name": "stdout",
     "output_type": "stream",
     "text": [
      "9.11 ms ± 395 µs per loop (mean ± std. dev. of 7 runs, 100 loops each)\n"
     ]
    }
   ],
   "source": [
    "%timeit my_list2 = [x*2 for x in my_list]"
   ]
  },
  {
   "cell_type": "code",
   "execution_count": 40,
   "id": "ef56ec32",
   "metadata": {},
   "outputs": [
    {
     "data": {
      "text/plain": [
       "[1, 2, 3, 4, 5, 1, 2, 3, 4, 5]"
      ]
     },
     "execution_count": 40,
     "metadata": {},
     "output_type": "execute_result"
    }
   ],
   "source": [
    "[1,2,3,4,5]*2         ##### Items of the list are printed TWO times in the same list........"
   ]
  },
  {
   "cell_type": "code",
   "execution_count": 8,
   "id": "e529c59c",
   "metadata": {},
   "outputs": [
    {
     "data": {
      "text/plain": [
       "[1, 2, 3, 4, 5, 1, 2, 3, 4, 5, 1, 2, 3, 4, 5, 1, 2, 3, 4, 5, 1, 2, 3, 4, 5]"
      ]
     },
     "execution_count": 8,
     "metadata": {},
     "output_type": "execute_result"
    }
   ],
   "source": [
    "[1,2,3,4,5]*5         ##### Items of the list are printed FIVE times in the same list........"
   ]
  },
  {
   "cell_type": "code",
   "execution_count": null,
   "id": "3fa5a533",
   "metadata": {},
   "outputs": [],
   "source": []
  },
  {
   "cell_type": "code",
   "execution_count": 9,
   "id": "8c7b8a18",
   "metadata": {},
   "outputs": [
    {
     "ename": "NameError",
     "evalue": "name 'L2' is not defined",
     "output_type": "error",
     "traceback": [
      "\u001b[1;31m---------------------------------------------------------------------------\u001b[0m",
      "\u001b[1;31mNameError\u001b[0m                                 Traceback (most recent call last)",
      "Cell \u001b[1;32mIn[9], line 2\u001b[0m\n\u001b[0;32m      1\u001b[0m L1 \u001b[38;5;241m=\u001b[39m [\u001b[38;5;241m1\u001b[39m,\u001b[38;5;241m2\u001b[39m,\u001b[38;5;241m3\u001b[39m,\u001b[38;5;241m4\u001b[39m,\u001b[38;5;241m5\u001b[39m,\u001b[38;5;241m6\u001b[39m]\n\u001b[1;32m----> 2\u001b[0m L1 \u001b[38;5;241m=\u001b[39m \u001b[43mL2\u001b[49m\n",
      "\u001b[1;31mNameError\u001b[0m: name 'L2' is not defined"
     ]
    }
   ],
   "source": [
    "L1 = [1,2,3,4,5,6]\n",
    "L1 = L2"
   ]
  },
  {
   "cell_type": "code",
   "execution_count": 15,
   "id": "2eea001a",
   "metadata": {},
   "outputs": [
    {
     "data": {
      "text/plain": [
       "([1, 2, 3, 4, 5, 111], [1, 2, 3, 4, 5, 111])"
      ]
     },
     "execution_count": 15,
     "metadata": {},
     "output_type": "execute_result"
    }
   ],
   "source": [
    "L1 = [1,2,3,4,5,6]\n",
    "L2 = L1\n",
    "L2[5] = 111\n",
    "L1,L2"
   ]
  },
  {
   "cell_type": "code",
   "execution_count": 17,
   "id": "66bd49cb",
   "metadata": {},
   "outputs": [
    {
     "data": {
      "text/plain": [
       "([1, 2, 999, 4, 5, 111], [1, 2, 3, 4, 5, 111])"
      ]
     },
     "execution_count": 17,
     "metadata": {},
     "output_type": "execute_result"
    }
   ],
   "source": [
    "L2 = L1.copy()\n",
    "L2\n",
    "L2[2] = 999\n",
    "L2,L1"
   ]
  },
  {
   "cell_type": "code",
   "execution_count": null,
   "id": "ed632f91",
   "metadata": {},
   "outputs": [],
   "source": []
  },
  {
   "cell_type": "code",
   "execution_count": 41,
   "id": "227a122c",
   "metadata": {},
   "outputs": [
    {
     "ename": "TypeError",
     "evalue": "unsupported operand type(s) for /: 'list' and 'int'",
     "output_type": "error",
     "traceback": [
      "\u001b[1;31m---------------------------------------------------------------------------\u001b[0m",
      "\u001b[1;31mTypeError\u001b[0m                                 Traceback (most recent call last)",
      "Cell \u001b[1;32mIn[41], line 1\u001b[0m\n\u001b[1;32m----> 1\u001b[0m \u001b[43m[\u001b[49m\u001b[38;5;241;43m1\u001b[39;49m\u001b[43m,\u001b[49m\u001b[38;5;241;43m2\u001b[39;49m\u001b[43m,\u001b[49m\u001b[38;5;241;43m3\u001b[39;49m\u001b[43m,\u001b[49m\u001b[38;5;241;43m4\u001b[39;49m\u001b[43m,\u001b[49m\u001b[38;5;241;43m5\u001b[39;49m\u001b[43m]\u001b[49m\u001b[38;5;241;43m/\u001b[39;49m\u001b[38;5;241;43m2\u001b[39;49m\n",
      "\u001b[1;31mTypeError\u001b[0m: unsupported operand type(s) for /: 'list' and 'int'"
     ]
    }
   ],
   "source": [
    "[1,2,3,4,5]/2"
   ]
  },
  {
   "cell_type": "code",
   "execution_count": 43,
   "id": "9cb46d4f",
   "metadata": {},
   "outputs": [
    {
     "ename": "TypeError",
     "evalue": "unsupported operand type(s) for //: 'list' and 'int'",
     "output_type": "error",
     "traceback": [
      "\u001b[1;31m---------------------------------------------------------------------------\u001b[0m",
      "\u001b[1;31mTypeError\u001b[0m                                 Traceback (most recent call last)",
      "Cell \u001b[1;32mIn[43], line 1\u001b[0m\n\u001b[1;32m----> 1\u001b[0m \u001b[43m[\u001b[49m\u001b[38;5;241;43m1\u001b[39;49m\u001b[43m,\u001b[49m\u001b[38;5;241;43m2\u001b[39;49m\u001b[43m,\u001b[49m\u001b[38;5;241;43m3\u001b[39;49m\u001b[43m,\u001b[49m\u001b[38;5;241;43m4\u001b[39;49m\u001b[43m,\u001b[49m\u001b[38;5;241;43m5\u001b[39;49m\u001b[43m]\u001b[49m\u001b[38;5;241;43m/\u001b[39;49m\u001b[38;5;241;43m/\u001b[39;49m\u001b[38;5;241;43m2\u001b[39;49m\n",
      "\u001b[1;31mTypeError\u001b[0m: unsupported operand type(s) for //: 'list' and 'int'"
     ]
    }
   ],
   "source": [
    "[1,2,3,4,5]//2"
   ]
  },
  {
   "cell_type": "code",
   "execution_count": 3,
   "id": "b25feab0",
   "metadata": {},
   "outputs": [
    {
     "data": {
      "text/plain": [
       "{1}"
      ]
     },
     "execution_count": 3,
     "metadata": {},
     "output_type": "execute_result"
    }
   ],
   "source": [
    "S2 = {1,1,1,1,1,1,1}\n",
    "S2"
   ]
  },
  {
   "cell_type": "code",
   "execution_count": 1,
   "id": "7c72e36c",
   "metadata": {},
   "outputs": [
    {
     "ename": "TypeError",
     "evalue": "unhashable type: 'list'",
     "output_type": "error",
     "traceback": [
      "\u001b[1;31m---------------------------------------------------------------------------\u001b[0m",
      "\u001b[1;31mTypeError\u001b[0m                                 Traceback (most recent call last)",
      "Cell \u001b[1;32mIn[1], line 1\u001b[0m\n\u001b[1;32m----> 1\u001b[0m S1 \u001b[38;5;241m=\u001b[39m {[\u001b[38;5;241m1\u001b[39m,\u001b[38;5;241m2\u001b[39m,\u001b[38;5;241m3\u001b[39m,\u001b[38;5;241m4\u001b[39m]}\n",
      "\u001b[1;31mTypeError\u001b[0m: unhashable type: 'list'"
     ]
    }
   ],
   "source": [
    "S1 = {[1,2,3,4]}"
   ]
  },
  {
   "cell_type": "code",
   "execution_count": 6,
   "id": "f4e55880",
   "metadata": {},
   "outputs": [
    {
     "data": {
      "text/plain": [
       "{(1, 2, 3, 3, 4)}"
      ]
     },
     "execution_count": 6,
     "metadata": {},
     "output_type": "execute_result"
    }
   ],
   "source": [
    "S1 = {(1,2,3,3,4)}\n",
    "S1"
   ]
  },
  {
   "cell_type": "code",
   "execution_count": null,
   "id": "5fab0dce",
   "metadata": {},
   "outputs": [],
   "source": []
  },
  {
   "cell_type": "code",
   "execution_count": 8,
   "id": "73ecdd84",
   "metadata": {},
   "outputs": [],
   "source": [
    "# Importing NumPy\n",
    "\n",
    "import numpy as np"
   ]
  },
  {
   "cell_type": "code",
   "execution_count": 9,
   "id": "0cab3d1f",
   "metadata": {},
   "outputs": [
    {
     "ename": "TypeError",
     "evalue": "array() takes from 1 to 2 positional arguments but 9 were given",
     "output_type": "error",
     "traceback": [
      "\u001b[1;31m---------------------------------------------------------------------------\u001b[0m",
      "\u001b[1;31mTypeError\u001b[0m                                 Traceback (most recent call last)",
      "Cell \u001b[1;32mIn[9], line 1\u001b[0m\n\u001b[1;32m----> 1\u001b[0m ARR \u001b[38;5;241m=\u001b[39m \u001b[43mnp\u001b[49m\u001b[38;5;241;43m.\u001b[39;49m\u001b[43marray\u001b[49m\u001b[43m(\u001b[49m\u001b[38;5;124;43m\"\u001b[39;49m\u001b[38;5;124;43mAj\u001b[39;49m\u001b[38;5;124;43m\"\u001b[39;49m\u001b[43m,\u001b[49m\u001b[43m \u001b[49m\u001b[38;5;241;43m1\u001b[39;49m\u001b[43m,\u001b[49m\u001b[43m \u001b[49m\u001b[38;5;241;43m5.55\u001b[39;49m\u001b[43m,\u001b[49m\u001b[43m \u001b[49m\u001b[38;5;28;43;01mTrue\u001b[39;49;00m\u001b[43m,\u001b[49m\u001b[43m \u001b[49m\u001b[38;5;28;43;01mFalse\u001b[39;49;00m\u001b[43m \u001b[49m\u001b[43m,\u001b[49m\u001b[43m \u001b[49m\u001b[38;5;28;43;01mNone\u001b[39;49;00m\u001b[43m,\u001b[49m\u001b[43m \u001b[49m\u001b[43m(\u001b[49m\u001b[38;5;241;43m1\u001b[39;49m\u001b[43m,\u001b[49m\u001b[38;5;241;43m2\u001b[39;49m\u001b[43m,\u001b[49m\u001b[38;5;241;43m3\u001b[39;49m\u001b[43m)\u001b[49m\u001b[43m,\u001b[49m\u001b[43m \u001b[49m\u001b[43m[\u001b[49m\u001b[38;5;241;43m1\u001b[39;49m\u001b[43m,\u001b[49m\u001b[38;5;241;43m2\u001b[39;49m\u001b[43m,\u001b[49m\u001b[38;5;241;43m3\u001b[39;49m\u001b[43m,\u001b[49m\u001b[38;5;241;43m4\u001b[39;49m\u001b[43m]\u001b[49m\u001b[43m,\u001b[49m\u001b[43m \u001b[49m\u001b[38;5;241;43m4\u001b[39;49m\u001b[38;5;241;43m+\u001b[39;49m\u001b[38;5;241;43m5\u001b[39;49m\u001b[43mj\u001b[49m\u001b[43m)\u001b[49m\n",
      "\u001b[1;31mTypeError\u001b[0m: array() takes from 1 to 2 positional arguments but 9 were given"
     ]
    }
   ],
   "source": [
    "ARR = np.array(\"Aj\", 1, 5.55, True, False , None, (1,2,3), [1,2,3,4], 4+5j)"
   ]
  },
  {
   "cell_type": "code",
   "execution_count": 10,
   "id": "f8bf77d8",
   "metadata": {},
   "outputs": [
    {
     "ename": "TypeError",
     "evalue": "array() takes from 1 to 2 positional arguments but 6 were given",
     "output_type": "error",
     "traceback": [
      "\u001b[1;31m---------------------------------------------------------------------------\u001b[0m",
      "\u001b[1;31mTypeError\u001b[0m                                 Traceback (most recent call last)",
      "Cell \u001b[1;32mIn[10], line 1\u001b[0m\n\u001b[1;32m----> 1\u001b[0m ARR \u001b[38;5;241m=\u001b[39m \u001b[43mnp\u001b[49m\u001b[38;5;241;43m.\u001b[39;49m\u001b[43marray\u001b[49m\u001b[43m(\u001b[49m\u001b[38;5;124;43m\"\u001b[39;49m\u001b[38;5;124;43mAj\u001b[39;49m\u001b[38;5;124;43m\"\u001b[39;49m\u001b[43m,\u001b[49m\u001b[43m \u001b[49m\u001b[38;5;241;43m1\u001b[39;49m\u001b[43m,\u001b[49m\u001b[43m \u001b[49m\u001b[38;5;241;43m5.55\u001b[39;49m\u001b[43m,\u001b[49m\u001b[43m \u001b[49m\u001b[38;5;28;43;01mTrue\u001b[39;49;00m\u001b[43m,\u001b[49m\u001b[43m \u001b[49m\u001b[38;5;28;43;01mFalse\u001b[39;49;00m\u001b[43m \u001b[49m\u001b[43m,\u001b[49m\u001b[43m \u001b[49m\u001b[38;5;28;43;01mNone\u001b[39;49;00m\u001b[43m)\u001b[49m\n",
      "\u001b[1;31mTypeError\u001b[0m: array() takes from 1 to 2 positional arguments but 6 were given"
     ]
    }
   ],
   "source": [
    "ARR = np.array(\"Aj\", 1, 5.55, True, False , None)"
   ]
  },
  {
   "cell_type": "code",
   "execution_count": 13,
   "id": "e87d6791",
   "metadata": {},
   "outputs": [
    {
     "name": "stderr",
     "output_type": "stream",
     "text": [
      "C:\\Users\\user\\AppData\\Local\\Temp\\ipykernel_1160\\3612580299.py:1: VisibleDeprecationWarning: Creating an ndarray from ragged nested sequences (which is a list-or-tuple of lists-or-tuples-or ndarrays with different lengths or shapes) is deprecated. If you meant to do this, you must specify 'dtype=object' when creating the ndarray.\n",
      "  ARR = np.array([\"Aj\", 1, 5.55, True, False , None, (1,2,3), [1,2,3,4], 4+5j])\n"
     ]
    }
   ],
   "source": [
    "ARR = np.array([\"Aj\", 1, 5.55, True, False , None, (1,2,3), [1,2,3,4], 4+5j])"
   ]
  },
  {
   "cell_type": "code",
   "execution_count": 12,
   "id": "7dcfe47d",
   "metadata": {},
   "outputs": [
    {
     "data": {
      "text/plain": [
       "array(['Aj', 1, 5.55, True, False, None], dtype=object)"
      ]
     },
     "execution_count": 12,
     "metadata": {},
     "output_type": "execute_result"
    }
   ],
   "source": [
    "ARR = np.array([\"Aj\", 1, 5.55, True, False , None])\n",
    "ARR"
   ]
  },
  {
   "cell_type": "code",
   "execution_count": null,
   "id": "d7809d7d",
   "metadata": {},
   "outputs": [],
   "source": []
  }
 ],
 "metadata": {
  "kernelspec": {
   "display_name": "Python 3 (ipykernel)",
   "language": "python",
   "name": "python3"
  },
  "language_info": {
   "codemirror_mode": {
    "name": "ipython",
    "version": 3
   },
   "file_extension": ".py",
   "mimetype": "text/x-python",
   "name": "python",
   "nbconvert_exporter": "python",
   "pygments_lexer": "ipython3",
   "version": "3.10.9"
  }
 },
 "nbformat": 4,
 "nbformat_minor": 5
}
