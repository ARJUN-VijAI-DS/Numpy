{
 "cells": [
  {
   "cell_type": "code",
   "execution_count": 1,
   "id": "496fbc5f",
   "metadata": {},
   "outputs": [],
   "source": [
    "import numpy as np"
   ]
  },
  {
   "cell_type": "code",
   "execution_count": 3,
   "id": "7222ba29",
   "metadata": {},
   "outputs": [
    {
     "data": {
      "text/plain": [
       "(array([[ 8, 10, 12],\n",
       "        [14, 16, 18]], dtype=int64),\n",
       " array([[ 7, 16, 27],\n",
       "        [40, 55, 72]], dtype=int64),\n",
       " array([[-6, -6, -6],\n",
       "        [-6, -6, -6]], dtype=int64))"
      ]
     },
     "execution_count": 3,
     "metadata": {},
     "output_type": "execute_result"
    }
   ],
   "source": [
    "a = np.array([[1,2,3],\n",
    "             [4,5,6]],dtype=\"int64\")\n",
    "b = np.array([[7,8,9],\n",
    "             [10,11,12]],dtype=\"int64\")\n",
    "a + b, a*b, a-b"
   ]
  },
  {
   "cell_type": "code",
   "execution_count": 19,
   "id": "c878df6c",
   "metadata": {},
   "outputs": [
    {
     "data": {
      "text/plain": [
       "array([[0.14285714, 0.25      , 0.33333333],\n",
       "       [0.4       , 0.45454545, 0.5       ]])"
      ]
     },
     "execution_count": 19,
     "metadata": {},
     "output_type": "execute_result"
    }
   ],
   "source": [
    "a/b"
   ]
  },
  {
   "cell_type": "code",
   "execution_count": 21,
   "id": "fd5ae57b",
   "metadata": {},
   "outputs": [
    {
     "data": {
      "text/plain": [
       "(dtype('int64'),\n",
       " array([[         1,        256,      19683],\n",
       "        [   1048576,   48828125, 2176782336]], dtype=int64))"
      ]
     },
     "execution_count": 21,
     "metadata": {},
     "output_type": "execute_result"
    }
   ],
   "source": [
    "(a**b).dtype , a**b\n"
   ]
  },
  {
   "cell_type": "code",
   "execution_count": 11,
   "id": "c33782d9",
   "metadata": {},
   "outputs": [
    {
     "data": {
      "text/plain": [
       "(2176782336, 48828125, 19683, 1048576)"
      ]
     },
     "execution_count": 11,
     "metadata": {},
     "output_type": "execute_result"
    }
   ],
   "source": [
    "6**12, 5**11, 3**9, 4**10, "
   ]
  },
  {
   "cell_type": "code",
   "execution_count": 23,
   "id": "06c64f35",
   "metadata": {},
   "outputs": [
    {
     "data": {
      "text/plain": [
       "(array([[1, 2, 3],\n",
       "        [4, 5, 6]], dtype=int64),\n",
       " array([[7, 4, 3],\n",
       "        [2, 2, 2]], dtype=int64))"
      ]
     },
     "execution_count": 23,
     "metadata": {},
     "output_type": "execute_result"
    }
   ],
   "source": [
    "a%b, b//a"
   ]
  },
  {
   "cell_type": "markdown",
   "id": "edebb32c",
   "metadata": {},
   "source": [
    "<Font Size = 5.5> Arithmetic operations with scalars propagate the scalar argument to each element in the array. <br> <br> \n",
    "    Operations between differently sized arrays is called Broadcasting."
   ]
  },
  {
   "cell_type": "code",
   "execution_count": 24,
   "id": "320da70d",
   "metadata": {},
   "outputs": [
    {
     "data": {
      "text/plain": [
       "array([[ 2,  4,  6],\n",
       "       [ 8, 10, 12]], dtype=int64)"
      ]
     },
     "execution_count": 24,
     "metadata": {},
     "output_type": "execute_result"
    }
   ],
   "source": [
    "a*2  ### Broadcasting"
   ]
  },
  {
   "cell_type": "code",
   "execution_count": 25,
   "id": "ffa26c77",
   "metadata": {},
   "outputs": [
    {
     "data": {
      "text/plain": [
       "array([[-1,  0,  1],\n",
       "       [ 2,  3,  4]], dtype=int64)"
      ]
     },
     "execution_count": 25,
     "metadata": {},
     "output_type": "execute_result"
    }
   ],
   "source": [
    "a-2"
   ]
  },
  {
   "cell_type": "code",
   "execution_count": 26,
   "id": "05117bdc",
   "metadata": {},
   "outputs": [
    {
     "data": {
      "text/plain": [
       "array([[-2, -1,  0],\n",
       "       [ 1,  2,  3]], dtype=int64)"
      ]
     },
     "execution_count": 26,
     "metadata": {},
     "output_type": "execute_result"
    }
   ],
   "source": [
    "a - np.array(3)"
   ]
  },
  {
   "cell_type": "code",
   "execution_count": 30,
   "id": "7f75f0da",
   "metadata": {},
   "outputs": [
    {
     "data": {
      "text/plain": [
       "(array([[0.25, 0.5 , 0.75],\n",
       "        [1.  , 1.25, 1.5 ]]),\n",
       " array([[  1,   8,  27],\n",
       "        [ 64, 125, 216]], dtype=int64),\n",
       " array([[ 6,  7,  8],\n",
       "        [ 9, 10, 11]], dtype=int64))"
      ]
     },
     "execution_count": 30,
     "metadata": {},
     "output_type": "execute_result"
    }
   ],
   "source": [
    "a/4, a**3, a+5"
   ]
  },
  {
   "cell_type": "markdown",
   "id": "e5cdb52f",
   "metadata": {},
   "source": [
    "<Font Size = 5.5> Universal Functions <Br> <Br> <Font size = 5> A universal function or ufunc, is a function that performs element-wise operations on data in ndarrays."
   ]
  },
  {
   "cell_type": "code",
   "execution_count": 3,
   "id": "a9add4bc",
   "metadata": {},
   "outputs": [
    {
     "data": {
      "text/plain": [
       "array([ 7,  9, 11, 13, 15])"
      ]
     },
     "execution_count": 3,
     "metadata": {},
     "output_type": "execute_result"
    }
   ],
   "source": [
    "x = np.array([1,2,3,4,5])\n",
    "y = np.array([6,7,8,9,10])\n",
    "\n",
    "np.add(x,y)         #### Or x+y   or y+x"
   ]
  },
  {
   "cell_type": "code",
   "execution_count": 35,
   "id": "da645a46",
   "metadata": {},
   "outputs": [
    {
     "data": {
      "text/plain": [
       "array([5, 5, 5, 5, 5])"
      ]
     },
     "execution_count": 35,
     "metadata": {},
     "output_type": "execute_result"
    }
   ],
   "source": [
    "np.subtract(y,x)   ### y-x"
   ]
  },
  {
   "cell_type": "code",
   "execution_count": 39,
   "id": "b54f6099",
   "metadata": {},
   "outputs": [
    {
     "data": {
      "text/plain": [
       "(array([1.        , 1.41421356, 1.73205081, 2.        , 2.23606798]),\n",
       " array([0, 1, 2, 1, 0]),\n",
       " array([0, 1, 2, 1, 0]))"
      ]
     },
     "execution_count": 39,
     "metadata": {},
     "output_type": "execute_result"
    }
   ],
   "source": [
    "np.sqrt(x),np.mod(y,x),y%x"
   ]
  },
  {
   "cell_type": "code",
   "execution_count": null,
   "id": "1c537c4b",
   "metadata": {},
   "outputs": [],
   "source": []
  },
  {
   "cell_type": "markdown",
   "id": "84b2d474",
   "metadata": {},
   "source": [
    "<Font Size = 5.5> Pseudo-Random Number Generation "
   ]
  },
  {
   "cell_type": "code",
   "execution_count": 4,
   "id": "c8bf43fc",
   "metadata": {},
   "outputs": [
    {
     "data": {
      "text/plain": [
       "0.706831958126103"
      ]
     },
     "execution_count": 4,
     "metadata": {},
     "output_type": "execute_result"
    }
   ],
   "source": [
    "### In PYthon we have a built-in module random.\n",
    "\n",
    "import random\n",
    "import numpy as np\n",
    "\n",
    "random.random()                 ### Different Number Every time......seed() value is not FIXED!"
   ]
  },
  {
   "cell_type": "code",
   "execution_count": 5,
   "id": "0ba76234",
   "metadata": {},
   "outputs": [
    {
     "data": {
      "text/plain": [
       "0.9560342718892494"
      ]
     },
     "execution_count": 5,
     "metadata": {},
     "output_type": "execute_result"
    }
   ],
   "source": [
    "random.seed(2)            \n",
    "random.random()                ### Same number is generated as seed() Value is fixed NOW!...."
   ]
  },
  {
   "cell_type": "code",
   "execution_count": 6,
   "id": "b8149b3c",
   "metadata": {},
   "outputs": [
    {
     "data": {
      "text/plain": [
       "0.43599490214200376"
      ]
     },
     "execution_count": 6,
     "metadata": {},
     "output_type": "execute_result"
    }
   ],
   "source": [
    "np.random.seed(2)\n",
    "np.random.random()"
   ]
  },
  {
   "cell_type": "code",
   "execution_count": 7,
   "id": "cd9d4ece",
   "metadata": {},
   "outputs": [
    {
     "data": {
      "text/plain": [
       "0.24851012743772993"
      ]
     },
     "execution_count": 7,
     "metadata": {},
     "output_type": "execute_result"
    }
   ],
   "source": [
    "np.random.seed(33)\n",
    "np.random.random()"
   ]
  },
  {
   "cell_type": "code",
   "execution_count": 8,
   "id": "951a53ee",
   "metadata": {},
   "outputs": [
    {
     "data": {
      "text/plain": [
       "0.417022004702574"
      ]
     },
     "execution_count": 8,
     "metadata": {},
     "output_type": "execute_result"
    }
   ],
   "source": [
    "np.random.seed(1)\n",
    "np.random.random()"
   ]
  },
  {
   "cell_type": "code",
   "execution_count": null,
   "id": "b91c03a1",
   "metadata": {},
   "outputs": [],
   "source": []
  }
 ],
 "metadata": {
  "kernelspec": {
   "display_name": "Python 3 (ipykernel)",
   "language": "python",
   "name": "python3"
  },
  "language_info": {
   "codemirror_mode": {
    "name": "ipython",
    "version": 3
   },
   "file_extension": ".py",
   "mimetype": "text/x-python",
   "name": "python",
   "nbconvert_exporter": "python",
   "pygments_lexer": "ipython3",
   "version": "3.10.9"
  }
 },
 "nbformat": 4,
 "nbformat_minor": 5
}
