{
 "cells": [
  {
   "cell_type": "markdown",
   "id": "fc886a33",
   "metadata": {},
   "source": [
    "<Font size = 5.5> Data Types in NumPy <font size = 4> <br><br> <Li> The bit is the most basic unit of information in computing. <br> <Li> The byte is a unit of information which contains 8 Bits. <br> **1 Byte  =  8 bits** <br> Nibble"
   ]
  },
  {
   "cell_type": "code",
   "execution_count": null,
   "id": "ce2ac62e",
   "metadata": {},
   "outputs": [],
   "source": []
  },
  {
   "cell_type": "markdown",
   "id": "fbcdeee5",
   "metadata": {},
   "source": [
    "<Font size = 5.5> Data Types in NumPy <font size = 4> <br><br> <Li> Byte strings are constrained by the character encoding used. In character encoding like ASCII, each character is represented by a single byte, limiting the available characters to the 128 ASCII characters. <br> <Li> Unicode strings cover a much larger range of characters, including those from various languages and special symbols. <br> <li> \"object\" data type is used for all other data types. <br> Every PYthon string is a\"UNICODE\" string.........."
   ]
  },
  {
   "cell_type": "markdown",
   "id": "56387d5b",
   "metadata": {},
   "source": [
    "<Font size = 5.5> Data Types in NumPy <font size = 4> <br><br> Byte String \n",
    "    <li> bytes <li>bytes_ <li> S <li> a <br> <br>\n",
    "    Unicode Strings\n",
    "        <li> U <li> str <li> str_ <li> unicode <br> <br>\n",
    "    object \n",
    "        <li> object <li> O"
   ]
  },
  {
   "cell_type": "markdown",
   "id": "ee051b93",
   "metadata": {},
   "source": [
    "|           |Integer       |Unsigned Integer  |Float   | Complex   |Boolean   |\n",
    "|-----------|--------------|------------------|--------|-----------|----------|\n",
    "|8 Bits     |i1, int8      |u1, uint1         |        |           |          |\n",
    "|\n"
   ]
  },
  {
   "cell_type": "code",
   "execution_count": null,
   "id": "43f28db1",
   "metadata": {},
   "outputs": [],
   "source": []
  },
  {
   "cell_type": "code",
   "execution_count": null,
   "id": "8ab0350c",
   "metadata": {},
   "outputs": [],
   "source": []
  },
  {
   "cell_type": "code",
   "execution_count": null,
   "id": "feaadd9d",
   "metadata": {},
   "outputs": [],
   "source": []
  },
  {
   "cell_type": "code",
   "execution_count": null,
   "id": "296d7594",
   "metadata": {},
   "outputs": [],
   "source": []
  }
 ],
 "metadata": {
  "kernelspec": {
   "display_name": "Python 3 (ipykernel)",
   "language": "python",
   "name": "python3"
  },
  "language_info": {
   "codemirror_mode": {
    "name": "ipython",
    "version": 3
   },
   "file_extension": ".py",
   "mimetype": "text/x-python",
   "name": "python",
   "nbconvert_exporter": "python",
   "pygments_lexer": "ipython3",
   "version": "3.10.9"
  }
 },
 "nbformat": 4,
 "nbformat_minor": 5
}
