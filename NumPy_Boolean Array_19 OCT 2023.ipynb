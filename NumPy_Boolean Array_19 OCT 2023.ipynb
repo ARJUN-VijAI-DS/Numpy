{
 "cells": [
  {
   "cell_type": "markdown",
   "id": "4aef6c87",
   "metadata": {},
   "source": [
    "<Font size = 5.5> Boolean Array "
   ]
  },
  {
   "cell_type": "code",
   "execution_count": 1,
   "id": "e99e41ca",
   "metadata": {},
   "outputs": [],
   "source": [
    "import numpy as np\n",
    "names = np.array([\"Aj\",\"SS\",\"Tav\",\"Aj\",\"SS\",\"Nomi\"])"
   ]
  },
  {
   "cell_type": "code",
   "execution_count": 11,
   "id": "b3d4c525",
   "metadata": {},
   "outputs": [
    {
     "data": {
      "text/plain": [
       "array([ True, False, False,  True, False, False])"
      ]
     },
     "execution_count": 11,
     "metadata": {},
     "output_type": "execute_result"
    }
   ],
   "source": [
    "names == \"Aj\"  ### This gives a Boolean Array"
   ]
  },
  {
   "cell_type": "code",
   "execution_count": 12,
   "id": "5b9211a0",
   "metadata": {},
   "outputs": [
    {
     "data": {
      "text/plain": [
       "array(['Aj', 'Aj'], dtype='<U4')"
      ]
     },
     "execution_count": 12,
     "metadata": {},
     "output_type": "execute_result"
    }
   ],
   "source": [
    "names[names == \"Aj\"]   ### Here dtype ='<U4 in dtype = number of characters in string.....i.e. Nomi is having \"4\" characters..."
   ]
  },
  {
   "cell_type": "code",
   "execution_count": 14,
   "id": "5b58b0a2",
   "metadata": {},
   "outputs": [
    {
     "ename": "IndexError",
     "evalue": "index 3 is out of bounds for axis 0 with size 2",
     "output_type": "error",
     "traceback": [
      "\u001b[1;31m---------------------------------------------------------------------------\u001b[0m",
      "\u001b[1;31mIndexError\u001b[0m                                Traceback (most recent call last)",
      "Cell \u001b[1;32mIn[14], line 1\u001b[0m\n\u001b[1;32m----> 1\u001b[0m \u001b[43mnames\u001b[49m\u001b[43m[\u001b[49m\u001b[43mnames\u001b[49m\u001b[43m \u001b[49m\u001b[38;5;241;43m==\u001b[39;49m\u001b[43m \u001b[49m\u001b[38;5;124;43m\"\u001b[39;49m\u001b[38;5;124;43mAj\u001b[39;49m\u001b[38;5;124;43m\"\u001b[39;49m\u001b[43m]\u001b[49m\u001b[43m[\u001b[49m\u001b[38;5;241;43m3\u001b[39;49m\u001b[43m]\u001b[49m\n",
      "\u001b[1;31mIndexError\u001b[0m: index 3 is out of bounds for axis 0 with size 2"
     ]
    }
   ],
   "source": [
    "names[names == \"Aj\"][3]"
   ]
  },
  {
   "cell_type": "code",
   "execution_count": 15,
   "id": "1a0be3eb",
   "metadata": {},
   "outputs": [
    {
     "data": {
      "text/plain": [
       "'Aj'"
      ]
     },
     "execution_count": 15,
     "metadata": {},
     "output_type": "execute_result"
    }
   ],
   "source": [
    "names[names == \"Aj\"][0]"
   ]
  },
  {
   "cell_type": "code",
   "execution_count": 4,
   "id": "d9559e3e",
   "metadata": {},
   "outputs": [
    {
     "data": {
      "text/plain": [
       "array([ True,  True,  True,  True,  True,  True,  True, False, False])"
      ]
     },
     "execution_count": 4,
     "metadata": {},
     "output_type": "execute_result"
    }
   ],
   "source": [
    "n = np.array([1,2,3,3,3,4,5,6,7])\n",
    "n <= 5"
   ]
  },
  {
   "cell_type": "code",
   "execution_count": 5,
   "id": "ed2269f6",
   "metadata": {},
   "outputs": [
    {
     "data": {
      "text/plain": [
       "array([1, 2, 3, 3, 3, 4, 5])"
      ]
     },
     "execution_count": 5,
     "metadata": {},
     "output_type": "execute_result"
    }
   ],
   "source": [
    "n [n<=5]"
   ]
  },
  {
   "cell_type": "code",
   "execution_count": null,
   "id": "1caf5302",
   "metadata": {},
   "outputs": [],
   "source": []
  }
 ],
 "metadata": {
  "kernelspec": {
   "display_name": "Python 3 (ipykernel)",
   "language": "python",
   "name": "python3"
  },
  "language_info": {
   "codemirror_mode": {
    "name": "ipython",
    "version": 3
   },
   "file_extension": ".py",
   "mimetype": "text/x-python",
   "name": "python",
   "nbconvert_exporter": "python",
   "pygments_lexer": "ipython3",
   "version": "3.10.9"
  }
 },
 "nbformat": 4,
 "nbformat_minor": 5
}
