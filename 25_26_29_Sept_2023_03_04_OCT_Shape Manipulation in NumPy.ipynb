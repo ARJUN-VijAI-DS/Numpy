{
 "cells": [
  {
   "cell_type": "markdown",
   "id": "b281845e",
   "metadata": {},
   "source": [
    "<font size = 5.5>Shape Manipulation in NumPy\n",
    "    <br> <br> .reshape()\n",
    "    <br> .flatten() \n",
    "    <br> .ravel()\n",
    "    <br> -- Stacking\n",
    "    <br> -- Concatenation"
   ]
  },
  {
   "cell_type": "code",
   "execution_count": 1,
   "id": "53b596ee",
   "metadata": {},
   "outputs": [],
   "source": [
    "import numpy as np"
   ]
  },
  {
   "cell_type": "code",
   "execution_count": 2,
   "id": "f39eb634",
   "metadata": {},
   "outputs": [
    {
     "name": "stdout",
     "output_type": "stream",
     "text": [
      "(4,)\n"
     ]
    },
    {
     "data": {
      "text/plain": [
       "array([[1, 2],\n",
       "       [3, 4]])"
      ]
     },
     "execution_count": 2,
     "metadata": {},
     "output_type": "execute_result"
    }
   ],
   "source": [
    "## .reshape()\n",
    "x = np.array([1,2,3,4])\n",
    "print(x.shape)\n",
    "x = x.reshape(2,2)      ## Create a copy of the ndarray\n",
    "x"
   ]
  },
  {
   "cell_type": "code",
   "execution_count": 7,
   "id": "072de35a",
   "metadata": {},
   "outputs": [
    {
     "data": {
      "text/plain": [
       "array([[[[[1],\n",
       "          [2]],\n",
       "\n",
       "         [[3],\n",
       "          [4]]]]])"
      ]
     },
     "execution_count": 7,
     "metadata": {},
     "output_type": "execute_result"
    }
   ],
   "source": [
    "x.reshape(1,1,2,2,1)"
   ]
  },
  {
   "cell_type": "code",
   "execution_count": 8,
   "id": "99f2444d",
   "metadata": {},
   "outputs": [
    {
     "data": {
      "text/plain": [
       "array([1, 2, 3, 4])"
      ]
     },
     "execution_count": 8,
     "metadata": {},
     "output_type": "execute_result"
    }
   ],
   "source": [
    "## .flatten()         #### Creates a copy object.....\n",
    "x.flatten()"
   ]
  },
  {
   "cell_type": "code",
   "execution_count": 9,
   "id": "670468a6",
   "metadata": {},
   "outputs": [
    {
     "data": {
      "text/plain": [
       "array([[1, 2],\n",
       "       [3, 4]])"
      ]
     },
     "execution_count": 9,
     "metadata": {},
     "output_type": "execute_result"
    }
   ],
   "source": [
    "x"
   ]
  },
  {
   "cell_type": "code",
   "execution_count": 5,
   "id": "24db27a6",
   "metadata": {},
   "outputs": [
    {
     "data": {
      "text/plain": [
       "array([1, 2, 3, 4])"
      ]
     },
     "execution_count": 5,
     "metadata": {},
     "output_type": "execute_result"
    }
   ],
   "source": [
    "## .ravel()            #### Creates a view object......\n",
    "x.ravel()"
   ]
  },
  {
   "cell_type": "code",
   "execution_count": 8,
   "id": "00f1fbef",
   "metadata": {},
   "outputs": [
    {
     "data": {
      "text/plain": [
       "array([[1, 2],\n",
       "       [3, 4]])"
      ]
     },
     "execution_count": 8,
     "metadata": {},
     "output_type": "execute_result"
    }
   ],
   "source": [
    "x"
   ]
  },
  {
   "cell_type": "markdown",
   "id": "fabd5ed4",
   "metadata": {},
   "source": [
    "<Font size = 5.5> .resize()  --- Makes changes in the original array...or stores the value in array..."
   ]
  },
  {
   "cell_type": "code",
   "execution_count": 10,
   "id": "18165e15",
   "metadata": {},
   "outputs": [],
   "source": [
    "## .resize()  -- Just like .reshape....but there is a difference...\n",
    "x.resize(4,1)"
   ]
  },
  {
   "cell_type": "code",
   "execution_count": 11,
   "id": "e5056eb2",
   "metadata": {},
   "outputs": [
    {
     "data": {
      "text/plain": [
       "array([[1],\n",
       "       [2],\n",
       "       [3],\n",
       "       [4]])"
      ]
     },
     "execution_count": 11,
     "metadata": {},
     "output_type": "execute_result"
    }
   ],
   "source": [
    "x            ### changed the original array"
   ]
  },
  {
   "cell_type": "code",
   "execution_count": 12,
   "id": "21e0ec24",
   "metadata": {},
   "outputs": [
    {
     "data": {
      "text/plain": [
       "array([[1, 2],\n",
       "       [3, 4]])"
      ]
     },
     "execution_count": 12,
     "metadata": {},
     "output_type": "execute_result"
    }
   ],
   "source": [
    "x.reshape(2,2)"
   ]
  },
  {
   "cell_type": "code",
   "execution_count": 11,
   "id": "925df7f2",
   "metadata": {},
   "outputs": [
    {
     "data": {
      "text/plain": [
       "<function ndarray.reshape>"
      ]
     },
     "execution_count": 11,
     "metadata": {},
     "output_type": "execute_result"
    }
   ],
   "source": [
    "x.reshape"
   ]
  },
  {
   "cell_type": "code",
   "execution_count": 13,
   "id": "2bb618b1",
   "metadata": {},
   "outputs": [
    {
     "data": {
      "text/plain": [
       "array([[1],\n",
       "       [2],\n",
       "       [3],\n",
       "       [4]])"
      ]
     },
     "execution_count": 13,
     "metadata": {},
     "output_type": "execute_result"
    }
   ],
   "source": [
    "x.reshape(2,2)           ### No changes in the original array....IMPORTANT....\n",
    "x"
   ]
  },
  {
   "cell_type": "markdown",
   "id": "c2b2852c",
   "metadata": {},
   "source": [
    "<Font size = 5.5> Stacking of Arrays "
   ]
  },
  {
   "cell_type": "code",
   "execution_count": 13,
   "id": "6935dd4b",
   "metadata": {},
   "outputs": [
    {
     "ename": "AttributeError",
     "evalue": "'numpy.ndarray' object has no attribute 'stack'",
     "output_type": "error",
     "traceback": [
      "\u001b[1;31m---------------------------------------------------------------------------\u001b[0m",
      "\u001b[1;31mAttributeError\u001b[0m                            Traceback (most recent call last)",
      "Cell \u001b[1;32mIn[13], line 4\u001b[0m\n\u001b[0;32m      1\u001b[0m x \u001b[38;5;241m=\u001b[39m np\u001b[38;5;241m.\u001b[39marray([[\u001b[38;5;241m1\u001b[39m,\u001b[38;5;241m2\u001b[39m],[\u001b[38;5;241m3\u001b[39m,\u001b[38;5;241m8\u001b[39m]])\n\u001b[0;32m      2\u001b[0m y \u001b[38;5;241m=\u001b[39m np\u001b[38;5;241m.\u001b[39marray([[\u001b[38;5;241m5\u001b[39m,\u001b[38;5;241m6\u001b[39m],[\u001b[38;5;241m7\u001b[39m,\u001b[38;5;241m9\u001b[39m]])\n\u001b[1;32m----> 4\u001b[0m \u001b[43mx\u001b[49m\u001b[38;5;241;43m.\u001b[39;49m\u001b[43mstack\u001b[49m(y)\n",
      "\u001b[1;31mAttributeError\u001b[0m: 'numpy.ndarray' object has no attribute 'stack'"
     ]
    }
   ],
   "source": [
    "x = np.array([[1,2],[3,8]])\n",
    "y = np.array([[5,6],[7,9]])\n",
    "\n",
    "x.stack(y)"
   ]
  },
  {
   "cell_type": "markdown",
   "id": "1f15ae3d",
   "metadata": {},
   "source": [
    "<Font Size = 5.5> 26 Sept 2023"
   ]
  },
  {
   "cell_type": "code",
   "execution_count": 12,
   "id": "44bf6c2f",
   "metadata": {},
   "outputs": [],
   "source": [
    "import numpy as np"
   ]
  },
  {
   "cell_type": "markdown",
   "id": "b0df6603",
   "metadata": {},
   "source": [
    "<Font size = 5.5> Stacking  -- Join a sequence of arrays along a new axis "
   ]
  },
  {
   "cell_type": "code",
   "execution_count": 14,
   "id": "41f54ad6",
   "metadata": {},
   "outputs": [
    {
     "name": "stdout",
     "output_type": "stream",
     "text": [
      "n1 : \n",
      " [[1 2 4]\n",
      " [5 6 7]] \n",
      "n2 : \n",
      " [[ 8  9 10]\n",
      " [11 12 13]] \n",
      "\n",
      "for axis = 0 \n",
      " [[[ 1  2  4]\n",
      "  [ 5  6  7]]\n",
      "\n",
      " [[ 8  9 10]\n",
      "  [11 12 13]]] \n",
      "\n"
     ]
    }
   ],
   "source": [
    "## Stack\n",
    "## 2-D\n",
    "n1 = np.array([[1,2,4],\n",
    "             [5,6,7]])\n",
    "n2 = np.array([[8,9,10],\n",
    "             [11,12,13]])\n",
    "print(f\"n1 : \\n {n1} \\nn2 : \\n {n2} \\n\")\n",
    "print(\"for axis = 0 \\n\", np.stack((n1,n2),axis = 0), \"\\n\" )  ### Row-wise stacking"
   ]
  },
  {
   "cell_type": "code",
   "execution_count": 15,
   "id": "009b1774",
   "metadata": {},
   "outputs": [
    {
     "name": "stdout",
     "output_type": "stream",
     "text": [
      "n1 : \n",
      " [[1 2 4]\n",
      " [5 6 7]] \n",
      "n2 : \n",
      " [[ 8  9 10]\n",
      " [11 12 13]] \n",
      "\n",
      "for axis = 1 \n",
      " [[[ 1  2  4]\n",
      "  [ 8  9 10]]\n",
      "\n",
      " [[ 5  6  7]\n",
      "  [11 12 13]]] \n",
      "\n"
     ]
    }
   ],
   "source": [
    "print(f\"n1 : \\n {n1} \\nn2 : \\n {n2} \\n\")\n",
    "print(\"for axis = 1 \\n\", np.stack((n1,n2),axis = 1), \"\\n\" )  ### Colunm-wise stacking"
   ]
  },
  {
   "cell_type": "code",
   "execution_count": 5,
   "id": "7e13b422",
   "metadata": {},
   "outputs": [
    {
     "data": {
      "text/plain": [
       "array([[[ 1,  2,  4],\n",
       "        [ 8,  9, 10]],\n",
       "\n",
       "       [[ 5,  6,  7],\n",
       "        [11, 12, 13]]])"
      ]
     },
     "execution_count": 5,
     "metadata": {},
     "output_type": "execute_result"
    }
   ],
   "source": [
    "## Syntax for stacking...\n",
    "np.stack((n1,n2),axis = 1)"
   ]
  },
  {
   "cell_type": "code",
   "execution_count": 16,
   "id": "f4309ace",
   "metadata": {},
   "outputs": [
    {
     "name": "stdout",
     "output_type": "stream",
     "text": [
      "x1 : \n",
      " [ 1  2  3  4 56 88] \n",
      "x2 : \n",
      " [ 6  7  8  9 33 55] \n",
      "\n",
      "[[ 1  2  3  4 56 88]\n",
      " [ 6  7  8  9 33 55]]\n",
      "\n",
      "\n",
      "x1 : \n",
      " [ 1  2  3  4 56 88] \n",
      "x2 : \n",
      " [ 6  7  8  9 33 55] \n",
      "\n",
      "[[ 1  6]\n",
      " [ 2  7]\n",
      " [ 3  8]\n",
      " [ 4  9]\n",
      " [56 33]\n",
      " [88 55]]\n"
     ]
    },
    {
     "data": {
      "text/plain": [
       "array([[ 1,  6],\n",
       "       [ 2,  7],\n",
       "       [ 3,  8],\n",
       "       [ 4,  9],\n",
       "       [56, 33],\n",
       "       [88, 55]])"
      ]
     },
     "execution_count": 16,
     "metadata": {},
     "output_type": "execute_result"
    }
   ],
   "source": [
    "## .stack()\n",
    "### 1-D\n",
    "x1 = np.array([1,2,3,4,56,88])\n",
    "x2 = np.array([6,7,8,9,33,55])\n",
    "print(f\"x1 : \\n {x1} \\nx2 : \\n {x2} \\n\")\n",
    "print(np.stack((x1,x2),axis = 0)), print(\"\\n\")\n",
    "print(f\"x1 : \\n {x1} \\nx2 : \\n {x2} \\n\")\n",
    "print(np.stack((x1,x2),axis = 1))\n",
    "np.stack((x1,x2),axis = 1)"
   ]
  },
  {
   "cell_type": "code",
   "execution_count": 17,
   "id": "71d151ee",
   "metadata": {},
   "outputs": [
    {
     "name": "stdout",
     "output_type": "stream",
     "text": [
      "x1 : \n",
      " [1 2 3 4] \n",
      "x2 : \n",
      " [6 7 8 9] \n",
      "x3 : \n",
      " [11 22 33 44] \n",
      "\n",
      "[[ 1  2  3  4]\n",
      " [ 6  7  8  9]\n",
      " [11 22 33 44]]\n",
      "\n",
      "\n",
      "x1 : \n",
      " [1 2 3 4] \n",
      "x2 : \n",
      " [6 7 8 9] \n",
      "x3 : \n",
      " [11 22 33 44] \n",
      "\n",
      "[[ 1  6 11]\n",
      " [ 2  7 22]\n",
      " [ 3  8 33]\n",
      " [ 4  9 44]]\n"
     ]
    },
    {
     "data": {
      "text/plain": [
       "array([[ 1,  6, 11],\n",
       "       [ 2,  7, 22],\n",
       "       [ 3,  8, 33],\n",
       "       [ 4,  9, 44]])"
      ]
     },
     "execution_count": 17,
     "metadata": {},
     "output_type": "execute_result"
    }
   ],
   "source": [
    "## .stack()\n",
    "### 1-D\n",
    "x1 = np.array([1,2,3,4])\n",
    "x2 = np.array([6,7,8,9])\n",
    "x3 = np.array([11,22,33,44])\n",
    "print(f\"x1 : \\n {x1} \\nx2 : \\n {x2} \\nx3 : \\n {x3} \\n\")\n",
    "print(np.stack((x1,x2,x3),axis = 0)), print(\"\\n\")\n",
    "print(f\"x1 : \\n {x1} \\nx2 : \\n {x2} \\nx3 : \\n {x3} \\n\")\n",
    "print(np.stack((x1,x2,x3),axis = 1))\n",
    "np.stack((x1,x2,x3),axis = 1)"
   ]
  },
  {
   "cell_type": "code",
   "execution_count": 18,
   "id": "e7102e3b",
   "metadata": {},
   "outputs": [
    {
     "name": "stdout",
     "output_type": "stream",
     "text": [
      "n1 : \n",
      " [[1 2 4]\n",
      " [5 6 7]] \n",
      "n2 : \n",
      " [[ 8  9 10]\n",
      " [11 12 13]] \n",
      "n3 : \n",
      " [[1 1 1]\n",
      " [2 2 2]] \n",
      "\n",
      "for axis = 0 \n",
      " [[[ 1  2  4]\n",
      "  [ 5  6  7]]\n",
      "\n",
      " [[ 8  9 10]\n",
      "  [11 12 13]]\n",
      "\n",
      " [[ 1  1  1]\n",
      "  [ 2  2  2]]] \n",
      "\n",
      "n1 : \n",
      " [[1 2 4]\n",
      " [5 6 7]] \n",
      "n2 : \n",
      " [[ 8  9 10]\n",
      " [11 12 13]] \n",
      "n3 : \n",
      " [[1 1 1]\n",
      " [2 2 2]] \n",
      "\n",
      "for axis = 1 \n",
      " [[[ 1  2  4]\n",
      "  [ 8  9 10]\n",
      "  [ 1  1  1]]\n",
      "\n",
      " [[ 5  6  7]\n",
      "  [11 12 13]\n",
      "  [ 2  2  2]]] \n",
      "\n"
     ]
    }
   ],
   "source": [
    "## Stack\n",
    "## 2-D\n",
    "n1 = np.array([[1,2,4],\n",
    "             [5,6,7]])\n",
    "n2 = np.array([[8,9,10],\n",
    "             [11,12,13]])\n",
    "n3 = np.array([[1,1,1],\n",
    "             [2,2,2]])\n",
    "print(f\"n1 : \\n {n1} \\nn2 : \\n {n2} \\nn3 : \\n {n3} \\n\")\n",
    "print(\"for axis = 0 \\n\", np.stack((n1,n2,n3),axis = 0), \"\\n\" )  ### Row-wise stacking\n",
    "print(f\"n1 : \\n {n1} \\nn2 : \\n {n2} \\nn3 : \\n {n3} \\n\")\n",
    "print(\"for axis = 1 \\n\", np.stack((n1,n2,n3),axis = 1), \"\\n\" )  ### Colunm-wise stacking"
   ]
  },
  {
   "cell_type": "code",
   "execution_count": 1,
   "id": "68675f7b",
   "metadata": {},
   "outputs": [],
   "source": [
    "import numpy as np"
   ]
  },
  {
   "cell_type": "markdown",
   "id": "4d5acfd9",
   "metadata": {},
   "source": [
    "<Font size = 5.5> Concatenation -- Joining of arrays along an existing axis."
   ]
  },
  {
   "cell_type": "code",
   "execution_count": 10,
   "id": "dfc03f8c",
   "metadata": {},
   "outputs": [
    {
     "name": "stdout",
     "output_type": "stream",
     "text": [
      "n1: \n",
      " [[1 2 4]\n",
      " [5 6 7]] \n",
      "n2: \n",
      " [[ 8  9 10]\n",
      " [11 12 13]] \n",
      "\n",
      "for axis = 0 \n",
      " [[ 1  2  4]\n",
      " [ 5  6  7]\n",
      " [ 8  9 10]\n",
      " [11 12 13]] \n",
      "\n",
      "n1: \n",
      " [[1 2 4]\n",
      " [5 6 7]] \n",
      "n2: \n",
      " [[ 8  9 10]\n",
      " [11 12 13]] \n",
      "\n",
      "for axis = 1 \n",
      " [[ 1  2  4  8  9 10]\n",
      " [ 5  6  7 11 12 13]] \n",
      "\n"
     ]
    }
   ],
   "source": [
    "### Concatenation\n",
    "## 2-D\n",
    "n1 = np.array([[1,2,4],\n",
    "             [5,6,7]])\n",
    "n2 = np.array([[8,9,10],\n",
    "             [11,12,13]])\n",
    "print(f\"n1: \\n {n1} \\nn2: \\n {n2} \\n\")\n",
    "print(\"for axis = 0 \\n\", np.concatenate((n1,n2),axis = 0), \"\\n\" )  ### Row-wise Concatenation\n",
    "print(f\"n1: \\n {n1} \\nn2: \\n {n2} \\n\")\n",
    "print(\"for axis = 1 \\n\", np.concatenate((n1,n2),axis = 1), \"\\n\" )  ### Colunm-wise Concatenation"
   ]
  },
  {
   "cell_type": "code",
   "execution_count": 13,
   "id": "3e801691",
   "metadata": {},
   "outputs": [
    {
     "name": "stdout",
     "output_type": "stream",
     "text": [
      "n1: \n",
      " [1 2 4 5] \n",
      "n2: \n",
      " [ 8  9 10 11] \n",
      "\n",
      "for axis = 0 \n",
      " [ 1  2  4  5  8  9 10 11] \n",
      "\n"
     ]
    }
   ],
   "source": [
    "### Concatenation\n",
    "## 1-D\n",
    "n1 = np.array([1,2,4,5])\n",
    "n2 = np.array([8,9,10,11])\n",
    "print(f\"n1: \\n {n1} \\nn2: \\n {n2} \\n\")\n",
    "print(\"for axis = 0 \\n\", np.concatenate((n1,n2),axis = 0), \"\\n\" )  ### Row-wise Concatenation"
   ]
  },
  {
   "cell_type": "code",
   "execution_count": 14,
   "id": "7e9e57ba",
   "metadata": {},
   "outputs": [
    {
     "name": "stdout",
     "output_type": "stream",
     "text": [
      "n1: \n",
      " [1 2 4 5] \n",
      "n2: \n",
      " [ 8  9 10 11] \n",
      "\n"
     ]
    },
    {
     "ename": "AxisError",
     "evalue": "axis 1 is out of bounds for array of dimension 1",
     "output_type": "error",
     "traceback": [
      "\u001b[1;31m---------------------------------------------------------------------------\u001b[0m",
      "\u001b[1;31mAxisError\u001b[0m                                 Traceback (most recent call last)",
      "Cell \u001b[1;32mIn[14], line 2\u001b[0m\n\u001b[0;32m      1\u001b[0m \u001b[38;5;28mprint\u001b[39m(\u001b[38;5;124mf\u001b[39m\u001b[38;5;124m\"\u001b[39m\u001b[38;5;124mn1: \u001b[39m\u001b[38;5;130;01m\\n\u001b[39;00m\u001b[38;5;124m \u001b[39m\u001b[38;5;132;01m{\u001b[39;00mn1\u001b[38;5;132;01m}\u001b[39;00m\u001b[38;5;124m \u001b[39m\u001b[38;5;130;01m\\n\u001b[39;00m\u001b[38;5;124mn2: \u001b[39m\u001b[38;5;130;01m\\n\u001b[39;00m\u001b[38;5;124m \u001b[39m\u001b[38;5;132;01m{\u001b[39;00mn2\u001b[38;5;132;01m}\u001b[39;00m\u001b[38;5;124m \u001b[39m\u001b[38;5;130;01m\\n\u001b[39;00m\u001b[38;5;124m\"\u001b[39m)\n\u001b[1;32m----> 2\u001b[0m \u001b[38;5;28mprint\u001b[39m(\u001b[38;5;124m\"\u001b[39m\u001b[38;5;124mfor axis = 1 \u001b[39m\u001b[38;5;130;01m\\n\u001b[39;00m\u001b[38;5;124m\"\u001b[39m, \u001b[43mnp\u001b[49m\u001b[38;5;241;43m.\u001b[39;49m\u001b[43mconcatenate\u001b[49m\u001b[43m(\u001b[49m\u001b[43m(\u001b[49m\u001b[43mn1\u001b[49m\u001b[43m,\u001b[49m\u001b[43mn2\u001b[49m\u001b[43m)\u001b[49m\u001b[43m,\u001b[49m\u001b[43maxis\u001b[49m\u001b[43m \u001b[49m\u001b[38;5;241;43m=\u001b[39;49m\u001b[43m \u001b[49m\u001b[38;5;241;43m1\u001b[39;49m\u001b[43m)\u001b[49m, \u001b[38;5;124m\"\u001b[39m\u001b[38;5;130;01m\\n\u001b[39;00m\u001b[38;5;124m\"\u001b[39m )\n",
      "File \u001b[1;32m<__array_function__ internals>:180\u001b[0m, in \u001b[0;36mconcatenate\u001b[1;34m(*args, **kwargs)\u001b[0m\n",
      "\u001b[1;31mAxisError\u001b[0m: axis 1 is out of bounds for array of dimension 1"
     ]
    }
   ],
   "source": [
    "print(f\"n1: \\n {n1} \\nn2: \\n {n2} \\n\")\n",
    "print(\"for axis = 1 \\n\", np.concatenate((n1,n2),axis = 1), \"\\n\" )  ### Colunm-wise Concatenation"
   ]
  },
  {
   "cell_type": "markdown",
   "id": "4cbf0c1a",
   "metadata": {},
   "source": [
    "<font size = 5.5> hstack (Horizontal-stacking) and vstack (Vertical-Stacking)"
   ]
  },
  {
   "cell_type": "code",
   "execution_count": 16,
   "id": "1ca7f2b4",
   "metadata": {},
   "outputs": [],
   "source": [
    "##  2D -array\n",
    "x = np.array([[1,2,3,4],\n",
    "              [5,6,7,8]])\n",
    "y = np.array([[11,22,33,44],\n",
    "              [88,77,66,55]])"
   ]
  },
  {
   "cell_type": "code",
   "execution_count": 17,
   "id": "21e737a9",
   "metadata": {},
   "outputs": [
    {
     "data": {
      "text/plain": [
       "array([[ 1,  2,  3,  4, 11, 22, 33, 44],\n",
       "       [ 5,  6,  7,  8, 88, 77, 66, 55]])"
      ]
     },
     "execution_count": 17,
     "metadata": {},
     "output_type": "execute_result"
    }
   ],
   "source": [
    "np.hstack((x,y))            ## np.concatenate((x,y), axis =1)"
   ]
  },
  {
   "cell_type": "code",
   "execution_count": 18,
   "id": "8d1c7fc4",
   "metadata": {},
   "outputs": [
    {
     "data": {
      "text/plain": [
       "array([[ 1,  2,  3,  4],\n",
       "       [ 5,  6,  7,  8],\n",
       "       [11, 22, 33, 44],\n",
       "       [88, 77, 66, 55]])"
      ]
     },
     "execution_count": 18,
     "metadata": {},
     "output_type": "execute_result"
    }
   ],
   "source": [
    "np.vstack((x,y))           ## np.concatenate((x,y), axis = 0)"
   ]
  },
  {
   "cell_type": "code",
   "execution_count": 15,
   "id": "1db04979",
   "metadata": {},
   "outputs": [],
   "source": [
    "## 1D - Array.....\n",
    "x1 = np.array([1,2,3,4])\n",
    "x2 = np.array([11,22,33,44])"
   ]
  },
  {
   "cell_type": "code",
   "execution_count": 16,
   "id": "1619493c",
   "metadata": {},
   "outputs": [
    {
     "data": {
      "text/plain": [
       "array([ 1,  2,  3,  4, 11, 22, 33, 44])"
      ]
     },
     "execution_count": 16,
     "metadata": {},
     "output_type": "execute_result"
    }
   ],
   "source": [
    "np.hstack((x1,x2))         ## np.concatenate((x1,x2), axis = 0)"
   ]
  },
  {
   "cell_type": "code",
   "execution_count": 21,
   "id": "c00e531d",
   "metadata": {},
   "outputs": [
    {
     "data": {
      "text/plain": [
       "array([[ 1,  2,  3,  4],\n",
       "       [11, 22, 33, 44]])"
      ]
     },
     "execution_count": 21,
     "metadata": {},
     "output_type": "execute_result"
    }
   ],
   "source": [
    "np.vstack((x1,x2))        ## np.stack((x1,x2), axis = 0)"
   ]
  },
  {
   "cell_type": "markdown",
   "id": "87642416",
   "metadata": {},
   "source": [
    "<Font Size = 5.5> Indexing, Slicing and Striding"
   ]
  },
  {
   "cell_type": "code",
   "execution_count": 23,
   "id": "a1139a64",
   "metadata": {},
   "outputs": [
    {
     "name": "stdout",
     "output_type": "stream",
     "text": [
      "2\n",
      "5\n"
     ]
    }
   ],
   "source": [
    "## 1D - Array\n",
    "## (AXIS 0,)\n",
    "### (COLUMNS,)\n",
    "##  (0D, )\n",
    "x = np.array([1,2,3,4,5])\n",
    "print(x[1])\n",
    "print(x[4])"
   ]
  },
  {
   "cell_type": "code",
   "execution_count": 25,
   "id": "099c4147",
   "metadata": {},
   "outputs": [
    {
     "data": {
      "text/plain": [
       "88"
      ]
     },
     "execution_count": 25,
     "metadata": {},
     "output_type": "execute_result"
    }
   ],
   "source": [
    "## 2D - Array\n",
    "## (AXIS 0 , AXIS 1)\n",
    "## (ROWS, COLUMNS)\n",
    "### (1D, 0D)\n",
    "xx = np.array([[11,22,33,44],\n",
    "               [55,66,77,88]])\n",
    "xx[1,3]        ## Preferred Way"
   ]
  },
  {
   "cell_type": "code",
   "execution_count": 26,
   "id": "6acf3d22",
   "metadata": {},
   "outputs": [
    {
     "data": {
      "text/plain": [
       "88"
      ]
     },
     "execution_count": 26,
     "metadata": {},
     "output_type": "execute_result"
    }
   ],
   "source": [
    "xx[1][3]       ## ALtenative Way"
   ]
  },
  {
   "cell_type": "code",
   "execution_count": 28,
   "id": "dbf529f1",
   "metadata": {},
   "outputs": [
    {
     "data": {
      "text/plain": [
       "44"
      ]
     },
     "execution_count": 28,
     "metadata": {},
     "output_type": "execute_result"
    }
   ],
   "source": [
    "xx[0,-1]"
   ]
  },
  {
   "cell_type": "code",
   "execution_count": 29,
   "id": "eee79ae0",
   "metadata": {},
   "outputs": [
    {
     "data": {
      "text/plain": [
       "22"
      ]
     },
     "execution_count": 29,
     "metadata": {},
     "output_type": "execute_result"
    }
   ],
   "source": [
    "xx[-2,-3]"
   ]
  },
  {
   "cell_type": "code",
   "execution_count": 30,
   "id": "9c676c67",
   "metadata": {},
   "outputs": [
    {
     "data": {
      "text/plain": [
       "33"
      ]
     },
     "execution_count": 30,
     "metadata": {},
     "output_type": "execute_result"
    }
   ],
   "source": [
    "xx[-2,-2]"
   ]
  },
  {
   "cell_type": "code",
   "execution_count": 33,
   "id": "f517da3e",
   "metadata": {},
   "outputs": [
    {
     "data": {
      "text/plain": [
       "(88, 55, 11)"
      ]
     },
     "execution_count": 33,
     "metadata": {},
     "output_type": "execute_result"
    }
   ],
   "source": [
    "xx[1,-1],xx[-1,-4],xx[-2,-4]"
   ]
  },
  {
   "cell_type": "markdown",
   "id": "dbd33810",
   "metadata": {},
   "source": [
    "<Font Size = 5.5> 03 OCT 2023"
   ]
  },
  {
   "cell_type": "code",
   "execution_count": 16,
   "id": "0dc61a3c",
   "metadata": {},
   "outputs": [],
   "source": [
    "import numpy as np"
   ]
  },
  {
   "cell_type": "code",
   "execution_count": 17,
   "id": "dbe2338f",
   "metadata": {},
   "outputs": [
    {
     "data": {
      "text/plain": [
       "((2, 2, 3), 3)"
      ]
     },
     "execution_count": 17,
     "metadata": {},
     "output_type": "execute_result"
    }
   ],
   "source": [
    "x = np.array([[[1,2,3],\n",
    "              [4,5,6]],\n",
    "             [[7,8,9],\n",
    "             [10,11,12]]])\n",
    "x.shape,x.ndim"
   ]
  },
  {
   "cell_type": "code",
   "execution_count": 6,
   "id": "bcba5182",
   "metadata": {},
   "outputs": [
    {
     "data": {
      "text/plain": [
       "(6, 12, 8)"
      ]
     },
     "execution_count": 6,
     "metadata": {},
     "output_type": "execute_result"
    }
   ],
   "source": [
    "x[0,1,2],x[1,1,2],x[1,0,1]"
   ]
  },
  {
   "cell_type": "code",
   "execution_count": 17,
   "id": "c70ace34",
   "metadata": {},
   "outputs": [],
   "source": [
    "xx = np.array([[[1,2,3],\n",
    "              [4,5,6],\n",
    "              [7,8,9]],\n",
    "               [[10,11,12],\n",
    "               [13,14,15],\n",
    "               [16,17,18]]])"
   ]
  },
  {
   "cell_type": "code",
   "execution_count": 8,
   "id": "781b323a",
   "metadata": {},
   "outputs": [
    {
     "data": {
      "text/plain": [
       "(18,\n",
       " array([[10, 11, 12],\n",
       "        [13, 14, 15],\n",
       "        [16, 17, 18]]))"
      ]
     },
     "execution_count": 8,
     "metadata": {},
     "output_type": "execute_result"
    }
   ],
   "source": [
    "xx[1,2,2],xx[1]"
   ]
  },
  {
   "cell_type": "code",
   "execution_count": 9,
   "id": "a923bd6e",
   "metadata": {},
   "outputs": [
    {
     "data": {
      "text/plain": [
       "array([1, 2, 3])"
      ]
     },
     "execution_count": 9,
     "metadata": {},
     "output_type": "execute_result"
    }
   ],
   "source": [
    "xx[0,0]"
   ]
  },
  {
   "cell_type": "code",
   "execution_count": 10,
   "id": "4c493f04",
   "metadata": {},
   "outputs": [
    {
     "data": {
      "text/plain": [
       "array([4, 5, 6])"
      ]
     },
     "execution_count": 10,
     "metadata": {},
     "output_type": "execute_result"
    }
   ],
   "source": [
    "xx[0,1]"
   ]
  },
  {
   "cell_type": "code",
   "execution_count": 11,
   "id": "11186b66",
   "metadata": {},
   "outputs": [
    {
     "data": {
      "text/plain": [
       "array([[10, 11, 12],\n",
       "       [13, 14, 15],\n",
       "       [16, 17, 18]])"
      ]
     },
     "execution_count": 11,
     "metadata": {},
     "output_type": "execute_result"
    }
   ],
   "source": [
    "xx[1]"
   ]
  },
  {
   "cell_type": "code",
   "execution_count": 12,
   "id": "33d7beb8",
   "metadata": {},
   "outputs": [
    {
     "data": {
      "text/plain": [
       "(17, 18, 8)"
      ]
     },
     "execution_count": 12,
     "metadata": {},
     "output_type": "execute_result"
    }
   ],
   "source": [
    "xx[1,2,1],xx[1,2,2],xx[0,2,1]"
   ]
  },
  {
   "cell_type": "code",
   "execution_count": 18,
   "id": "8bcbfa8e",
   "metadata": {},
   "outputs": [
    {
     "data": {
      "text/plain": [
       "(array([[1, 2, 3, 4],\n",
       "        [5, 6, 7, 8]]),\n",
       " array([[ 9, 10, 11, 12],\n",
       "        [13, 14, 15, 16]]))"
      ]
     },
     "execution_count": 18,
     "metadata": {},
     "output_type": "execute_result"
    }
   ],
   "source": [
    "###  3D\n",
    "### (AXIS 0, AXIS 1, AXIS 2)\n",
    "### (2D    , 1D    , 0D)\n",
    "### (A0    , A1    , A2)\n",
    "\n",
    "a = np.array([[[1,2,3,4],\n",
    "              [5,6,7,8]],\n",
    "             [[9,10,11,12],\n",
    "              [13,14,15,16]]])\n",
    "a[0],a[1]"
   ]
  },
  {
   "cell_type": "code",
   "execution_count": 19,
   "id": "dc3cced7",
   "metadata": {},
   "outputs": [
    {
     "data": {
      "text/plain": [
       "(16, 13, 8)"
      ]
     },
     "execution_count": 19,
     "metadata": {},
     "output_type": "execute_result"
    }
   ],
   "source": [
    "a[1,1,3],a[1,1,0],a[0,1,3]"
   ]
  },
  {
   "cell_type": "code",
   "execution_count": 24,
   "id": "abe1c350",
   "metadata": {},
   "outputs": [
    {
     "data": {
      "text/plain": [
       "array([13, 14, 15, 16])"
      ]
     },
     "execution_count": 24,
     "metadata": {},
     "output_type": "execute_result"
    }
   ],
   "source": [
    "a[1,1]"
   ]
  },
  {
   "cell_type": "code",
   "execution_count": 29,
   "id": "21ec8e7b",
   "metadata": {},
   "outputs": [
    {
     "data": {
      "text/plain": [
       "(7, 15, 16)"
      ]
     },
     "execution_count": 29,
     "metadata": {},
     "output_type": "execute_result"
    }
   ],
   "source": [
    "a[0,1,2],a[1,1,2],a[1,1,3]"
   ]
  },
  {
   "cell_type": "code",
   "execution_count": 30,
   "id": "7fae8f41",
   "metadata": {},
   "outputs": [
    {
     "ename": "IndexError",
     "evalue": "index 2 is out of bounds for axis 0 with size 2",
     "output_type": "error",
     "traceback": [
      "\u001b[1;31m---------------------------------------------------------------------------\u001b[0m",
      "\u001b[1;31mIndexError\u001b[0m                                Traceback (most recent call last)",
      "Cell \u001b[1;32mIn[30], line 10\u001b[0m\n\u001b[0;32m      1\u001b[0m \u001b[38;5;66;03m###  3D\u001b[39;00m\n\u001b[0;32m      2\u001b[0m \u001b[38;5;66;03m### (AXIS 0, AXIS 1, AXIS 2)\u001b[39;00m\n\u001b[0;32m      3\u001b[0m \u001b[38;5;66;03m### (2D    , 1D    , 0D)\u001b[39;00m\n\u001b[0;32m      4\u001b[0m \u001b[38;5;66;03m### (A0    , A1    , A2)\u001b[39;00m\n\u001b[0;32m      6\u001b[0m a \u001b[38;5;241m=\u001b[39m np\u001b[38;5;241m.\u001b[39marray([[[\u001b[38;5;241m1\u001b[39m,\u001b[38;5;241m2\u001b[39m,\u001b[38;5;241m3\u001b[39m,\u001b[38;5;241m4\u001b[39m],\n\u001b[0;32m      7\u001b[0m               [\u001b[38;5;241m5\u001b[39m,\u001b[38;5;241m6\u001b[39m,\u001b[38;5;241m7\u001b[39m,\u001b[38;5;241m8\u001b[39m]],\n\u001b[0;32m      8\u001b[0m              [[\u001b[38;5;241m9\u001b[39m,\u001b[38;5;241m10\u001b[39m,\u001b[38;5;241m11\u001b[39m,\u001b[38;5;241m12\u001b[39m],\n\u001b[0;32m      9\u001b[0m               [\u001b[38;5;241m13\u001b[39m,\u001b[38;5;241m14\u001b[39m,\u001b[38;5;241m15\u001b[39m,\u001b[38;5;241m16\u001b[39m]]])\n\u001b[1;32m---> 10\u001b[0m a[\u001b[38;5;241m0\u001b[39m],a[\u001b[38;5;241m1\u001b[39m],\u001b[43ma\u001b[49m\u001b[43m[\u001b[49m\u001b[38;5;241;43m2\u001b[39;49m\u001b[43m]\u001b[49m\n",
      "\u001b[1;31mIndexError\u001b[0m: index 2 is out of bounds for axis 0 with size 2"
     ]
    }
   ],
   "source": [
    "###  3D\n",
    "### (AXIS 0, AXIS 1, AXIS 2)\n",
    "### (2D    , 1D    , 0D)\n",
    "### (A0    , A1    , A2)\n",
    "\n",
    "a = np.array([[[1,2,3,4],\n",
    "              [5,6,7,8]],\n",
    "             [[9,10,11,12],\n",
    "              [13,14,15,16]]])\n",
    "a[0],a[1],a[2]"
   ]
  },
  {
   "cell_type": "code",
   "execution_count": 19,
   "id": "cfaec43a",
   "metadata": {},
   "outputs": [
    {
     "ename": "IndexError",
     "evalue": "index 2 is out of bounds for axis 0 with size 2",
     "output_type": "error",
     "traceback": [
      "\u001b[1;31m---------------------------------------------------------------------------\u001b[0m",
      "\u001b[1;31mIndexError\u001b[0m                                Traceback (most recent call last)",
      "Cell \u001b[1;32mIn[19], line 1\u001b[0m\n\u001b[1;32m----> 1\u001b[0m \u001b[43ma\u001b[49m\u001b[43m[\u001b[49m\u001b[38;5;241;43m2\u001b[39;49m\u001b[43m,\u001b[49m\u001b[38;5;241;43m2\u001b[39;49m\u001b[43m,\u001b[49m\u001b[38;5;241;43m2\u001b[39;49m\u001b[43m]\u001b[49m,a[\u001b[38;5;241m3\u001b[39m,\u001b[38;5;241m3\u001b[39m,\u001b[38;5;241m3\u001b[39m],a[\u001b[38;5;241m1\u001b[39m,\u001b[38;5;241m2\u001b[39m,\u001b[38;5;241m3\u001b[39m]\n",
      "\u001b[1;31mIndexError\u001b[0m: index 2 is out of bounds for axis 0 with size 2"
     ]
    }
   ],
   "source": [
    "a[2,2,2],a[3,3,3],a[1,2,3]"
   ]
  },
  {
   "cell_type": "markdown",
   "id": "0b25eb57",
   "metadata": {},
   "source": [
    "<Font size = 5.5> Example of 4D Array......."
   ]
  },
  {
   "cell_type": "code",
   "execution_count": 34,
   "id": "23c3ac7c",
   "metadata": {},
   "outputs": [],
   "source": [
    "### 4D\n",
    "### (AXIS 0, AXIS 1, AXIS 2, AXIS 3)\n",
    "### (3D    ,2D     ,1D     ,0D)\n",
    "### xxx[3d,2d,1d,0d]\n",
    "xxx = np.array([[[[1,2]],\n",
    "         [[3,4]]],\n",
    "      [[[5,6]],\n",
    "       [[7,8]]]])"
   ]
  },
  {
   "cell_type": "code",
   "execution_count": 35,
   "id": "7291e1d7",
   "metadata": {},
   "outputs": [
    {
     "data": {
      "text/plain": [
       "7"
      ]
     },
     "execution_count": 35,
     "metadata": {},
     "output_type": "execute_result"
    }
   ],
   "source": [
    "### xxx[3d,2d,1d,0d]\n",
    "xxx[1,1,0,0]"
   ]
  },
  {
   "cell_type": "code",
   "execution_count": 38,
   "id": "f96e0dab",
   "metadata": {},
   "outputs": [
    {
     "data": {
      "text/plain": [
       "((2, 2, 1, 2), 8, 4)"
      ]
     },
     "execution_count": 38,
     "metadata": {},
     "output_type": "execute_result"
    }
   ],
   "source": [
    "xxx.shape,xxx.size,xxx.ndim"
   ]
  },
  {
   "cell_type": "code",
   "execution_count": null,
   "id": "96118507",
   "metadata": {},
   "outputs": [],
   "source": []
  },
  {
   "cell_type": "code",
   "execution_count": null,
   "id": "c86d234d",
   "metadata": {},
   "outputs": [],
   "source": []
  },
  {
   "cell_type": "code",
   "execution_count": null,
   "id": "7ed66f76",
   "metadata": {},
   "outputs": [],
   "source": []
  },
  {
   "cell_type": "markdown",
   "id": "d563f374",
   "metadata": {},
   "source": [
    "<Font Size = 5.5> Slicing and Striding\n",
    "    <br><font size = 4> start(inclusive) : stop (exclusive) : (step)"
   ]
  },
  {
   "cell_type": "code",
   "execution_count": 32,
   "id": "4046cbfa",
   "metadata": {},
   "outputs": [
    {
     "data": {
      "text/plain": [
       "(array([1, 3, 5, 7]), array([1, 4, 7]))"
      ]
     },
     "execution_count": 32,
     "metadata": {},
     "output_type": "execute_result"
    }
   ],
   "source": [
    "### 1D\n",
    "\n",
    "s = np.array([1,2,3,4,5,6,7,8])\n",
    "s[0:8:2],s[0:8:3]"
   ]
  },
  {
   "cell_type": "code",
   "execution_count": 34,
   "id": "e121b097",
   "metadata": {},
   "outputs": [
    {
     "data": {
      "text/plain": [
       "(array([1, 4, 7]), array([1, 3, 5, 7]))"
      ]
     },
     "execution_count": 34,
     "metadata": {},
     "output_type": "execute_result"
    }
   ],
   "source": [
    "s[::3],s[::2]"
   ]
  },
  {
   "cell_type": "code",
   "execution_count": 31,
   "id": "7f0afcde",
   "metadata": {},
   "outputs": [
    {
     "data": {
      "text/plain": [
       "(array([[ 1,  2,  3,  4],\n",
       "        [ 9, 10, 11, 12]]),\n",
       " array([[ 1,  2,  3,  4],\n",
       "        [-1, -2, -3, -4]]))"
      ]
     },
     "execution_count": 31,
     "metadata": {},
     "output_type": "execute_result"
    }
   ],
   "source": [
    "### 2D \n",
    "ss = np.array([[1,2,3,4],\n",
    "              [5,6,7,8],\n",
    "             [9,10,11,12],\n",
    "             [-1,-2,-3,-4]])\n",
    "ss[::2],ss[::3]"
   ]
  },
  {
   "cell_type": "code",
   "execution_count": 40,
   "id": "45d98f30",
   "metadata": {},
   "outputs": [
    {
     "data": {
      "text/plain": [
       "(array([[ 1,  2,  3,  4],\n",
       "        [ 5,  6,  7,  8],\n",
       "        [ 9, 10, 11, 12],\n",
       "        [-1, -2, -3, -4]]),\n",
       " array([[ 1,  2,  3,  4],\n",
       "        [ 5,  6,  7,  8],\n",
       "        [ 9, 10, 11, 12],\n",
       "        [-1, -2, -3, -4]]))"
      ]
     },
     "execution_count": 40,
     "metadata": {},
     "output_type": "execute_result"
    }
   ],
   "source": [
    "ss[::],ss[::1]"
   ]
  },
  {
   "cell_type": "code",
   "execution_count": 43,
   "id": "79d42800",
   "metadata": {},
   "outputs": [
    {
     "data": {
      "text/plain": [
       "(array([[-1, -2, -3, -4],\n",
       "        [ 9, 10, 11, 12],\n",
       "        [ 5,  6,  7,  8],\n",
       "        [ 1,  2,  3,  4]]),\n",
       " array([[-1, -2, -3, -4],\n",
       "        [ 5,  6,  7,  8]]))"
      ]
     },
     "execution_count": 43,
     "metadata": {},
     "output_type": "execute_result"
    }
   ],
   "source": [
    "ss[::-1],ss[::-2]"
   ]
  },
  {
   "cell_type": "code",
   "execution_count": 52,
   "id": "5270cb8f",
   "metadata": {},
   "outputs": [],
   "source": [
    "### 2D \n",
    "ss = np.array([[1,2,3,4],\n",
    "              [5,6,7,8],\n",
    "             [9,10,11,12],\n",
    "             [-1,-2,-3,-4]])"
   ]
  },
  {
   "cell_type": "code",
   "execution_count": 56,
   "id": "3ce0c4ce",
   "metadata": {},
   "outputs": [
    {
     "data": {
      "text/plain": [
       "(array([ 2, 10]), array([ 4,  8, 12, -4]), array([ 3,  7, 11, -3]))"
      ]
     },
     "execution_count": 56,
     "metadata": {},
     "output_type": "execute_result"
    }
   ],
   "source": [
    "ss[::2,1],ss[::,3],ss[::,-2]"
   ]
  },
  {
   "cell_type": "code",
   "execution_count": null,
   "id": "d3e4de32",
   "metadata": {},
   "outputs": [],
   "source": []
  },
  {
   "cell_type": "markdown",
   "id": "814717bb",
   "metadata": {},
   "source": [
    "<font size = 5.5> Something New!"
   ]
  },
  {
   "cell_type": "code",
   "execution_count": 32,
   "id": "fb411159",
   "metadata": {},
   "outputs": [
    {
     "data": {
      "text/plain": [
       "array([], shape=(0, 4), dtype=int32)"
      ]
     },
     "execution_count": 32,
     "metadata": {},
     "output_type": "execute_result"
    }
   ],
   "source": [
    "ss[2:0:4]"
   ]
  },
  {
   "cell_type": "code",
   "execution_count": 33,
   "id": "d6ee8de8",
   "metadata": {},
   "outputs": [
    {
     "data": {
      "text/plain": [
       "array([], shape=(0, 4), dtype=int32)"
      ]
     },
     "execution_count": 33,
     "metadata": {},
     "output_type": "execute_result"
    }
   ],
   "source": [
    "ss[2:0:5]"
   ]
  },
  {
   "cell_type": "markdown",
   "id": "9eb7892c",
   "metadata": {},
   "source": [
    "<FOnt Size = 5.5> 4 OCT 2023"
   ]
  },
  {
   "cell_type": "markdown",
   "id": "eeb20699",
   "metadata": {},
   "source": [
    "<Font Size = 5.5> Slicing"
   ]
  },
  {
   "cell_type": "code",
   "execution_count": 1,
   "id": "9c14ae79",
   "metadata": {},
   "outputs": [],
   "source": [
    "import numpy as np"
   ]
  },
  {
   "cell_type": "code",
   "execution_count": 7,
   "id": "11ee9c05",
   "metadata": {},
   "outputs": [
    {
     "data": {
      "text/plain": [
       "(array([[1, 2],\n",
       "        [4, 5]]),\n",
       " array([1, 4]),\n",
       " array([2, 3]))"
      ]
     },
     "execution_count": 7,
     "metadata": {},
     "output_type": "execute_result"
    }
   ],
   "source": [
    "### 2D Array\n",
    "x = np.array([[1,2,3],\n",
    "              [4,5,6]])\n",
    "\n",
    "x[0:2,0:2], x[0:2,0], x[0,1:3]"
   ]
  },
  {
   "cell_type": "code",
   "execution_count": 10,
   "id": "fc240554",
   "metadata": {},
   "outputs": [
    {
     "data": {
      "text/plain": [
       "(array([2, 5]), array([4, 5]), array([1, 2]))"
      ]
     },
     "execution_count": 10,
     "metadata": {},
     "output_type": "execute_result"
    }
   ],
   "source": [
    "x[0:2,1], x[1,0:2], x[0,0:2]"
   ]
  },
  {
   "cell_type": "code",
   "execution_count": 12,
   "id": "faf03e51",
   "metadata": {},
   "outputs": [
    {
     "data": {
      "text/plain": [
       "(array([1, 2, 3]), array([1, 2]))"
      ]
     },
     "execution_count": 12,
     "metadata": {},
     "output_type": "execute_result"
    }
   ],
   "source": [
    "x[0,0:3],x[0,:2]"
   ]
  },
  {
   "cell_type": "code",
   "execution_count": 14,
   "id": "ee057207",
   "metadata": {},
   "outputs": [
    {
     "data": {
      "text/plain": [
       "array([[1, 2, 3],\n",
       "       [4, 5, 6]])"
      ]
     },
     "execution_count": 14,
     "metadata": {},
     "output_type": "execute_result"
    }
   ],
   "source": [
    "x[:,:]"
   ]
  },
  {
   "cell_type": "code",
   "execution_count": 17,
   "id": "b3c1ca7b",
   "metadata": {},
   "outputs": [
    {
     "data": {
      "text/plain": [
       "(array([[1, 2],\n",
       "        [4, 5]]),\n",
       " array([[1, 2, 3],\n",
       "        [4, 5, 6]]))"
      ]
     },
     "execution_count": 17,
     "metadata": {},
     "output_type": "execute_result"
    }
   ],
   "source": [
    "x[::,0:2],x[::,::]"
   ]
  },
  {
   "cell_type": "code",
   "execution_count": 18,
   "id": "7eeed4ca",
   "metadata": {},
   "outputs": [
    {
     "data": {
      "text/plain": [
       "(array([[1],\n",
       "        [4]]),\n",
       " array([[4],\n",
       "        [1]]))"
      ]
     },
     "execution_count": 18,
     "metadata": {},
     "output_type": "execute_result"
    }
   ],
   "source": [
    "x[::,:2:2],x[::-1,:2:2]"
   ]
  },
  {
   "cell_type": "code",
   "execution_count": 42,
   "id": "d6920156",
   "metadata": {
    "scrolled": true
   },
   "outputs": [
    {
     "data": {
      "text/plain": [
       "(array([[ 6,  7],\n",
       "        [10, 11]]),\n",
       " array([[11, 12],\n",
       "        [15, 16]]),\n",
       " array([[ 5,  6,  7],\n",
       "        [ 9, 10, 11]]),\n",
       " array([[ 8],\n",
       "        [12]]))"
      ]
     },
     "execution_count": 42,
     "metadata": {},
     "output_type": "execute_result"
    }
   ],
   "source": [
    "### 2D Array\n",
    "\n",
    "xx = np.array([[1,2,3,4],\n",
    "              [5,6,7,8],\n",
    "              [9,10,11,12],\n",
    "              [13,14,15,16]])\n",
    "xx[1:3,1:3],xx[2:4,2:4],xx[1:3,:3],xx[1:3,3:]"
   ]
  },
  {
   "cell_type": "code",
   "execution_count": 43,
   "id": "ff23b331",
   "metadata": {},
   "outputs": [
    {
     "data": {
      "text/plain": [
       "(array([10, 11]), array([14, 15]), array([ 8, 12]), array([5, 9]))"
      ]
     },
     "execution_count": 43,
     "metadata": {},
     "output_type": "execute_result"
    }
   ],
   "source": [
    "xx[2,1:3], xx[3,1:3], xx[1:3,3], xx[1:3,0]"
   ]
  },
  {
   "cell_type": "markdown",
   "id": "924c9846",
   "metadata": {},
   "source": [
    "<Font Size  = 5.5> Replacing the values in an ARRAY...."
   ]
  },
  {
   "cell_type": "code",
   "execution_count": 34,
   "id": "b7e95c6d",
   "metadata": {},
   "outputs": [],
   "source": [
    "xx = np.array([[1,2,3,4],\n",
    "              [5,6,7,8],\n",
    "              [9,10,11,12],\n",
    "              [13,14,15,16]])"
   ]
  },
  {
   "cell_type": "code",
   "execution_count": 35,
   "id": "8bca7ee9",
   "metadata": {},
   "outputs": [
    {
     "data": {
      "text/plain": [
       "array([[   1,    2,    3, 1111],\n",
       "       [   5,    6,    7, 2222],\n",
       "       [   9,  444,  555,   12],\n",
       "       [  13,   14,   15,   16]])"
      ]
     },
     "execution_count": 35,
     "metadata": {},
     "output_type": "execute_result"
    }
   ],
   "source": [
    "xx[2,1:3] = [444,555]\n",
    "xx[0:2,3] = [1111,2222]\n",
    "xx"
   ]
  },
  {
   "cell_type": "code",
   "execution_count": 47,
   "id": "ed7a8575",
   "metadata": {},
   "outputs": [
    {
     "data": {
      "text/plain": [
       "array([[1, 2],\n",
       "       [3, 4]])"
      ]
     },
     "execution_count": 47,
     "metadata": {},
     "output_type": "execute_result"
    }
   ],
   "source": [
    "### 3D ARRAY\n",
    "\n",
    "a = np.array([[[1,2],[3,4],[5,6]],\n",
    "              [[7,8],[9,10],[11,12]]])\n",
    "a[0,0:2,0:2]"
   ]
  },
  {
   "cell_type": "code",
   "execution_count": null,
   "id": "a4b77432",
   "metadata": {},
   "outputs": [],
   "source": []
  },
  {
   "cell_type": "code",
   "execution_count": null,
   "id": "3d2177f6",
   "metadata": {},
   "outputs": [],
   "source": []
  },
  {
   "cell_type": "code",
   "execution_count": null,
   "id": "226d7c22",
   "metadata": {},
   "outputs": [],
   "source": []
  },
  {
   "cell_type": "code",
   "execution_count": null,
   "id": "0a626f79",
   "metadata": {},
   "outputs": [],
   "source": []
  },
  {
   "cell_type": "code",
   "execution_count": null,
   "id": "6e3cce78",
   "metadata": {},
   "outputs": [],
   "source": []
  },
  {
   "cell_type": "markdown",
   "id": "0a357f7e",
   "metadata": {},
   "source": [
    "<Font Size = 6> Errors"
   ]
  },
  {
   "cell_type": "code",
   "execution_count": 13,
   "id": "d9c2198f",
   "metadata": {},
   "outputs": [
    {
     "ename": "SyntaxError",
     "evalue": "invalid syntax (2630041655.py, line 1)",
     "output_type": "error",
     "traceback": [
      "\u001b[1;36m  Cell \u001b[1;32mIn[13], line 1\u001b[1;36m\u001b[0m\n\u001b[1;33m    x[,]\u001b[0m\n\u001b[1;37m      ^\u001b[0m\n\u001b[1;31mSyntaxError\u001b[0m\u001b[1;31m:\u001b[0m invalid syntax\n"
     ]
    }
   ],
   "source": [
    "x[,]"
   ]
  },
  {
   "cell_type": "code",
   "execution_count": 15,
   "id": "8524e6c2",
   "metadata": {},
   "outputs": [
    {
     "ename": "SyntaxError",
     "evalue": "invalid syntax (81718787.py, line 1)",
     "output_type": "error",
     "traceback": [
      "\u001b[1;36m  Cell \u001b[1;32mIn[15], line 1\u001b[1;36m\u001b[0m\n\u001b[1;33m    x[,:]\u001b[0m\n\u001b[1;37m      ^\u001b[0m\n\u001b[1;31mSyntaxError\u001b[0m\u001b[1;31m:\u001b[0m invalid syntax\n"
     ]
    }
   ],
   "source": [
    "x[,:]"
   ]
  },
  {
   "cell_type": "code",
   "execution_count": 27,
   "id": "40c19272",
   "metadata": {},
   "outputs": [
    {
     "ename": "TypeError",
     "evalue": "'numpy.ndarray' object is not callable",
     "output_type": "error",
     "traceback": [
      "\u001b[1;31m---------------------------------------------------------------------------\u001b[0m",
      "\u001b[1;31mTypeError\u001b[0m                                 Traceback (most recent call last)",
      "Cell \u001b[1;32mIn[27], line 8\u001b[0m\n\u001b[0;32m      3\u001b[0m xx \u001b[38;5;241m=\u001b[39m np\u001b[38;5;241m.\u001b[39marray([[\u001b[38;5;241m1\u001b[39m,\u001b[38;5;241m2\u001b[39m,\u001b[38;5;241m3\u001b[39m,\u001b[38;5;241m4\u001b[39m],\n\u001b[0;32m      4\u001b[0m               [\u001b[38;5;241m5\u001b[39m,\u001b[38;5;241m6\u001b[39m,\u001b[38;5;241m7\u001b[39m,\u001b[38;5;241m8\u001b[39m],\n\u001b[0;32m      5\u001b[0m               [\u001b[38;5;241m9\u001b[39m,\u001b[38;5;241m10\u001b[39m,\u001b[38;5;241m11\u001b[39m,\u001b[38;5;241m12\u001b[39m],\n\u001b[0;32m      6\u001b[0m               [\u001b[38;5;241m13\u001b[39m,\u001b[38;5;241m14\u001b[39m,\u001b[38;5;241m15\u001b[39m,\u001b[38;5;241m16\u001b[39m]])\n\u001b[0;32m      7\u001b[0m xx[\u001b[38;5;241m1\u001b[39m:\u001b[38;5;241m3\u001b[39m,\u001b[38;5;241m1\u001b[39m:\u001b[38;5;241m3\u001b[39m],xx[\u001b[38;5;241m2\u001b[39m:\u001b[38;5;241m4\u001b[39m,\u001b[38;5;241m2\u001b[39m:\u001b[38;5;241m4\u001b[39m],xx[\u001b[38;5;241m1\u001b[39m:\u001b[38;5;241m3\u001b[39m,:\u001b[38;5;241m3\u001b[39m]\n\u001b[1;32m----> 8\u001b[0m \u001b[43mxx\u001b[49m\u001b[43m[\u001b[49m\u001b[38;5;241;43m1\u001b[39;49m\u001b[43m:\u001b[49m\u001b[38;5;241;43m3\u001b[39;49m\u001b[43m,\u001b[49m\u001b[38;5;241;43m3\u001b[39;49m\u001b[43m:\u001b[49m\u001b[43m]\u001b[49m\u001b[43m(\u001b[49m\u001b[38;5;124;43m\"\u001b[39;49m\u001b[38;5;124;43m\"\u001b[39;49m\u001b[43m)\u001b[49m\n",
      "\u001b[1;31mTypeError\u001b[0m: 'numpy.ndarray' object is not callable"
     ]
    }
   ],
   "source": [
    "### 2D Array\n",
    "\n",
    "xx = np.array([[1,2,3,4],\n",
    "              [5,6,7,8],\n",
    "              [9,10,11,12],\n",
    "              [13,14,15,16]])\n",
    "xx[1:3,1:3],xx[2:4,2:4],xx[1:3,:3]\n",
    ",xx[1:3,3:]"
   ]
  },
  {
   "cell_type": "code",
   "execution_count": 39,
   "id": "056e85a0",
   "metadata": {},
   "outputs": [
    {
     "ename": "SyntaxError",
     "evalue": "cannot assign to subscript here. Maybe you meant '==' instead of '='? (1979164292.py, line 1)",
     "output_type": "error",
     "traceback": [
      "\u001b[1;36m  Cell \u001b[1;32mIn[39], line 1\u001b[1;36m\u001b[0m\n\u001b[1;33m    xx[2,1:3] = [444,555], xx[0:2,3] = [1111,2222]\u001b[0m\n\u001b[1;37m    ^\u001b[0m\n\u001b[1;31mSyntaxError\u001b[0m\u001b[1;31m:\u001b[0m cannot assign to subscript here. Maybe you meant '==' instead of '='?\n"
     ]
    }
   ],
   "source": [
    "xx[2,1:3] = [444,555], xx[0:2,3] = [1111,2222]\n",
    "xx"
   ]
  },
  {
   "cell_type": "code",
   "execution_count": 40,
   "id": "2fc70909",
   "metadata": {},
   "outputs": [
    {
     "ename": "SyntaxError",
     "evalue": "invalid syntax (376872080.py, line 1)",
     "output_type": "error",
     "traceback": [
      "\u001b[1;36m  Cell \u001b[1;32mIn[40], line 1\u001b[1;36m\u001b[0m\n\u001b[1;33m    xx[2,1:3] = [444,555] xx[0:2,3] = [1111,2222]\u001b[0m\n\u001b[1;37m                          ^\u001b[0m\n\u001b[1;31mSyntaxError\u001b[0m\u001b[1;31m:\u001b[0m invalid syntax\n"
     ]
    }
   ],
   "source": [
    "xx[2,1:3] = [444,555] xx[0:2,3] = [1111,2222]\n",
    "xx"
   ]
  },
  {
   "cell_type": "code",
   "execution_count": 45,
   "id": "7780f293",
   "metadata": {},
   "outputs": [
    {
     "ename": "TypeError",
     "evalue": "'builtin_function_or_method' object is not subscriptable",
     "output_type": "error",
     "traceback": [
      "\u001b[1;31m---------------------------------------------------------------------------\u001b[0m",
      "\u001b[1;31mTypeError\u001b[0m                                 Traceback (most recent call last)",
      "Cell \u001b[1;32mIn[45], line 3\u001b[0m\n\u001b[0;32m      1\u001b[0m \u001b[38;5;66;03m### 3D ARRAY\u001b[39;00m\n\u001b[1;32m----> 3\u001b[0m a \u001b[38;5;241m=\u001b[39m \u001b[43mnp\u001b[49m\u001b[38;5;241;43m.\u001b[39;49m\u001b[43marray\u001b[49m\u001b[43m[\u001b[49m\u001b[43m[\u001b[49m\u001b[43m[\u001b[49m\u001b[38;5;241;43m1\u001b[39;49m\u001b[43m,\u001b[49m\u001b[38;5;241;43m2\u001b[39;49m\u001b[43m]\u001b[49m\u001b[43m,\u001b[49m\u001b[43m[\u001b[49m\u001b[38;5;241;43m3\u001b[39;49m\u001b[43m,\u001b[49m\u001b[38;5;241;43m4\u001b[39;49m\u001b[43m]\u001b[49m\u001b[43m,\u001b[49m\u001b[43m[\u001b[49m\u001b[38;5;241;43m5\u001b[39;49m\u001b[43m,\u001b[49m\u001b[38;5;241;43m6\u001b[39;49m\u001b[43m]\u001b[49m\u001b[43m]\u001b[49m\u001b[43m,\u001b[49m\u001b[43m[\u001b[49m\u001b[43m[\u001b[49m\u001b[38;5;241;43m7\u001b[39;49m\u001b[43m,\u001b[49m\u001b[38;5;241;43m8\u001b[39;49m\u001b[43m]\u001b[49m\u001b[43m,\u001b[49m\u001b[43m[\u001b[49m\u001b[38;5;241;43m9\u001b[39;49m\u001b[43m,\u001b[49m\u001b[38;5;241;43m10\u001b[39;49m\u001b[43m]\u001b[49m\u001b[43m,\u001b[49m\u001b[43m[\u001b[49m\u001b[38;5;241;43m11\u001b[39;49m\u001b[43m,\u001b[49m\u001b[38;5;241;43m12\u001b[39;49m\u001b[43m]\u001b[49m\u001b[43m]\u001b[49m\u001b[43m]\u001b[49m\n",
      "\u001b[1;31mTypeError\u001b[0m: 'builtin_function_or_method' object is not subscriptable"
     ]
    }
   ],
   "source": [
    "### 3D ARRAY\n",
    "\n",
    "a = np.array[[[1,2],[3,4],[5,6]],[[7,8],[9,10],[11,12]]]"
   ]
  }
 ],
 "metadata": {
  "kernelspec": {
   "display_name": "Python 3 (ipykernel)",
   "language": "python",
   "name": "python3"
  },
  "language_info": {
   "codemirror_mode": {
    "name": "ipython",
    "version": 3
   },
   "file_extension": ".py",
   "mimetype": "text/x-python",
   "name": "python",
   "nbconvert_exporter": "python",
   "pygments_lexer": "ipython3",
   "version": "3.10.9"
  }
 },
 "nbformat": 4,
 "nbformat_minor": 5
}
